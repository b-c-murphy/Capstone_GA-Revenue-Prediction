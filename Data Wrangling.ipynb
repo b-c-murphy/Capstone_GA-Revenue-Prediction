{
 "cells": [
  {
   "cell_type": "markdown",
   "metadata": {},
   "source": [
    "# Data Wrangling\n",
    "## September 2021\n",
    "Create a tidy dataset from the training data provided for the Kaggle competition. \n",
    "https://www.kaggle.com/c/ga-customer-revenue-prediction/overview\n",
    "\n",
    "Note: The target for the project is the natural log of the sum of the spend for each user. So...\n",
    "\n",
    "$target_{user} = ln(y_{user}+1)$\n",
    "\n",
    "where \n",
    "\n",
    "$y_{user} = \\sum\\limits_{1}^{n} transactions_{user}$\n",
    "\n",
    "I will have to aggregate the spend of each user for the target variable.  I could do that on the front end, but that would get rid of the time component (repeated visits to store) so I don't want to do that.  I will have to figure out how to aggregate the predictions after modelling.  "
   ]
  },
  {
   "cell_type": "code",
   "execution_count": 1,
   "metadata": {},
   "outputs": [],
   "source": [
    "import pandas as pd\n",
    "import os\n",
    "import numpy as np\n",
    "import json"
   ]
  },
  {
   "cell_type": "markdown",
   "metadata": {},
   "source": [
    "Read in training data"
   ]
  },
  {
   "cell_type": "code",
   "execution_count": 2,
   "metadata": {
    "scrolled": true
   },
   "outputs": [
    {
     "data": {
      "text/plain": [
       "['sample_submission.csv',\n",
       " 'sample_submission_v2.csv',\n",
       " 'test.csv',\n",
       " 'test_v2.csv',\n",
       " 'train.csv',\n",
       " 'train_v2.csv']"
      ]
     },
     "execution_count": 2,
     "metadata": {},
     "output_type": "execute_result"
    }
   ],
   "source": [
    "os.chdir(r'D:\\Springboard\\Capstone 3 maybe\\Google Analytics')\n",
    "os.listdir()"
   ]
  },
  {
   "cell_type": "code",
   "execution_count": 3,
   "metadata": {},
   "outputs": [
    {
     "data": {
      "text/html": [
       "<div>\n",
       "<style scoped>\n",
       "    .dataframe tbody tr th:only-of-type {\n",
       "        vertical-align: middle;\n",
       "    }\n",
       "\n",
       "    .dataframe tbody tr th {\n",
       "        vertical-align: top;\n",
       "    }\n",
       "\n",
       "    .dataframe thead th {\n",
       "        text-align: right;\n",
       "    }\n",
       "</style>\n",
       "<table border=\"1\" class=\"dataframe\">\n",
       "  <thead>\n",
       "    <tr style=\"text-align: right;\">\n",
       "      <th></th>\n",
       "      <th>channelGrouping</th>\n",
       "      <th>date</th>\n",
       "      <th>device</th>\n",
       "      <th>fullVisitorId</th>\n",
       "      <th>geoNetwork</th>\n",
       "      <th>sessionId</th>\n",
       "      <th>socialEngagementType</th>\n",
       "      <th>totals</th>\n",
       "      <th>trafficSource</th>\n",
       "      <th>visitId</th>\n",
       "      <th>visitNumber</th>\n",
       "      <th>visitStartTime</th>\n",
       "    </tr>\n",
       "  </thead>\n",
       "  <tbody>\n",
       "    <tr>\n",
       "      <th>0</th>\n",
       "      <td>Organic Search</td>\n",
       "      <td>2016-09-02</td>\n",
       "      <td>{\"browser\": \"Chrome\", \"browserVersion\": \"not a...</td>\n",
       "      <td>1131660440785968503</td>\n",
       "      <td>{\"continent\": \"Asia\", \"subContinent\": \"Western...</td>\n",
       "      <td>1131660440785968503_1472830385</td>\n",
       "      <td>Not Socially Engaged</td>\n",
       "      <td>{\"visits\": \"1\", \"hits\": \"1\", \"pageviews\": \"1\",...</td>\n",
       "      <td>{\"campaign\": \"(not set)\", \"source\": \"google\", ...</td>\n",
       "      <td>1472830385</td>\n",
       "      <td>1</td>\n",
       "      <td>1472830385</td>\n",
       "    </tr>\n",
       "    <tr>\n",
       "      <th>1</th>\n",
       "      <td>Organic Search</td>\n",
       "      <td>2016-09-02</td>\n",
       "      <td>{\"browser\": \"Firefox\", \"browserVersion\": \"not ...</td>\n",
       "      <td>377306020877927890</td>\n",
       "      <td>{\"continent\": \"Oceania\", \"subContinent\": \"Aust...</td>\n",
       "      <td>377306020877927890_1472880147</td>\n",
       "      <td>Not Socially Engaged</td>\n",
       "      <td>{\"visits\": \"1\", \"hits\": \"1\", \"pageviews\": \"1\",...</td>\n",
       "      <td>{\"campaign\": \"(not set)\", \"source\": \"google\", ...</td>\n",
       "      <td>1472880147</td>\n",
       "      <td>1</td>\n",
       "      <td>1472880147</td>\n",
       "    </tr>\n",
       "    <tr>\n",
       "      <th>2</th>\n",
       "      <td>Organic Search</td>\n",
       "      <td>2016-09-02</td>\n",
       "      <td>{\"browser\": \"Chrome\", \"browserVersion\": \"not a...</td>\n",
       "      <td>3895546263509774583</td>\n",
       "      <td>{\"continent\": \"Europe\", \"subContinent\": \"South...</td>\n",
       "      <td>3895546263509774583_1472865386</td>\n",
       "      <td>Not Socially Engaged</td>\n",
       "      <td>{\"visits\": \"1\", \"hits\": \"1\", \"pageviews\": \"1\",...</td>\n",
       "      <td>{\"campaign\": \"(not set)\", \"source\": \"google\", ...</td>\n",
       "      <td>1472865386</td>\n",
       "      <td>1</td>\n",
       "      <td>1472865386</td>\n",
       "    </tr>\n",
       "    <tr>\n",
       "      <th>3</th>\n",
       "      <td>Organic Search</td>\n",
       "      <td>2016-09-02</td>\n",
       "      <td>{\"browser\": \"UC Browser\", \"browserVersion\": \"n...</td>\n",
       "      <td>4763447161404445595</td>\n",
       "      <td>{\"continent\": \"Asia\", \"subContinent\": \"Southea...</td>\n",
       "      <td>4763447161404445595_1472881213</td>\n",
       "      <td>Not Socially Engaged</td>\n",
       "      <td>{\"visits\": \"1\", \"hits\": \"1\", \"pageviews\": \"1\",...</td>\n",
       "      <td>{\"campaign\": \"(not set)\", \"source\": \"google\", ...</td>\n",
       "      <td>1472881213</td>\n",
       "      <td>1</td>\n",
       "      <td>1472881213</td>\n",
       "    </tr>\n",
       "    <tr>\n",
       "      <th>4</th>\n",
       "      <td>Organic Search</td>\n",
       "      <td>2016-09-02</td>\n",
       "      <td>{\"browser\": \"Chrome\", \"browserVersion\": \"not a...</td>\n",
       "      <td>27294437909732085</td>\n",
       "      <td>{\"continent\": \"Europe\", \"subContinent\": \"North...</td>\n",
       "      <td>27294437909732085_1472822600</td>\n",
       "      <td>Not Socially Engaged</td>\n",
       "      <td>{\"visits\": \"1\", \"hits\": \"1\", \"pageviews\": \"1\",...</td>\n",
       "      <td>{\"campaign\": \"(not set)\", \"source\": \"google\", ...</td>\n",
       "      <td>1472822600</td>\n",
       "      <td>2</td>\n",
       "      <td>1472822600</td>\n",
       "    </tr>\n",
       "  </tbody>\n",
       "</table>\n",
       "</div>"
      ],
      "text/plain": [
       "  channelGrouping       date  \\\n",
       "0  Organic Search 2016-09-02   \n",
       "1  Organic Search 2016-09-02   \n",
       "2  Organic Search 2016-09-02   \n",
       "3  Organic Search 2016-09-02   \n",
       "4  Organic Search 2016-09-02   \n",
       "\n",
       "                                              device        fullVisitorId  \\\n",
       "0  {\"browser\": \"Chrome\", \"browserVersion\": \"not a...  1131660440785968503   \n",
       "1  {\"browser\": \"Firefox\", \"browserVersion\": \"not ...   377306020877927890   \n",
       "2  {\"browser\": \"Chrome\", \"browserVersion\": \"not a...  3895546263509774583   \n",
       "3  {\"browser\": \"UC Browser\", \"browserVersion\": \"n...  4763447161404445595   \n",
       "4  {\"browser\": \"Chrome\", \"browserVersion\": \"not a...    27294437909732085   \n",
       "\n",
       "                                          geoNetwork  \\\n",
       "0  {\"continent\": \"Asia\", \"subContinent\": \"Western...   \n",
       "1  {\"continent\": \"Oceania\", \"subContinent\": \"Aust...   \n",
       "2  {\"continent\": \"Europe\", \"subContinent\": \"South...   \n",
       "3  {\"continent\": \"Asia\", \"subContinent\": \"Southea...   \n",
       "4  {\"continent\": \"Europe\", \"subContinent\": \"North...   \n",
       "\n",
       "                        sessionId  socialEngagementType  \\\n",
       "0  1131660440785968503_1472830385  Not Socially Engaged   \n",
       "1   377306020877927890_1472880147  Not Socially Engaged   \n",
       "2  3895546263509774583_1472865386  Not Socially Engaged   \n",
       "3  4763447161404445595_1472881213  Not Socially Engaged   \n",
       "4    27294437909732085_1472822600  Not Socially Engaged   \n",
       "\n",
       "                                              totals  \\\n",
       "0  {\"visits\": \"1\", \"hits\": \"1\", \"pageviews\": \"1\",...   \n",
       "1  {\"visits\": \"1\", \"hits\": \"1\", \"pageviews\": \"1\",...   \n",
       "2  {\"visits\": \"1\", \"hits\": \"1\", \"pageviews\": \"1\",...   \n",
       "3  {\"visits\": \"1\", \"hits\": \"1\", \"pageviews\": \"1\",...   \n",
       "4  {\"visits\": \"1\", \"hits\": \"1\", \"pageviews\": \"1\",...   \n",
       "\n",
       "                                       trafficSource     visitId  visitNumber  \\\n",
       "0  {\"campaign\": \"(not set)\", \"source\": \"google\", ...  1472830385            1   \n",
       "1  {\"campaign\": \"(not set)\", \"source\": \"google\", ...  1472880147            1   \n",
       "2  {\"campaign\": \"(not set)\", \"source\": \"google\", ...  1472865386            1   \n",
       "3  {\"campaign\": \"(not set)\", \"source\": \"google\", ...  1472881213            1   \n",
       "4  {\"campaign\": \"(not set)\", \"source\": \"google\", ...  1472822600            2   \n",
       "\n",
       "   visitStartTime  \n",
       "0      1472830385  \n",
       "1      1472880147  \n",
       "2      1472865386  \n",
       "3      1472881213  \n",
       "4      1472822600  "
      ]
     },
     "execution_count": 3,
     "metadata": {},
     "output_type": "execute_result"
    }
   ],
   "source": [
    "raw_train = pd.read_csv('train.csv', parse_dates=['date'],dtype={'fullVisitorId':'object'})\n",
    "raw_train.head()"
   ]
  },
  {
   "cell_type": "code",
   "execution_count": 4,
   "metadata": {},
   "outputs": [
    {
     "name": "stdout",
     "output_type": "stream",
     "text": [
      "<class 'pandas.core.frame.DataFrame'>\n",
      "RangeIndex: 903653 entries, 0 to 903652\n",
      "Data columns (total 12 columns):\n",
      " #   Column                Non-Null Count   Dtype         \n",
      "---  ------                --------------   -----         \n",
      " 0   channelGrouping       903653 non-null  object        \n",
      " 1   date                  903653 non-null  datetime64[ns]\n",
      " 2   device                903653 non-null  object        \n",
      " 3   fullVisitorId         903653 non-null  object        \n",
      " 4   geoNetwork            903653 non-null  object        \n",
      " 5   sessionId             903653 non-null  object        \n",
      " 6   socialEngagementType  903653 non-null  object        \n",
      " 7   totals                903653 non-null  object        \n",
      " 8   trafficSource         903653 non-null  object        \n",
      " 9   visitId               903653 non-null  int64         \n",
      " 10  visitNumber           903653 non-null  int64         \n",
      " 11  visitStartTime        903653 non-null  int64         \n",
      "dtypes: datetime64[ns](1), int64(3), object(8)\n",
      "memory usage: 82.7+ MB\n"
     ]
    }
   ],
   "source": [
    "raw_train.info()"
   ]
  },
  {
   "cell_type": "code",
   "execution_count": 5,
   "metadata": {},
   "outputs": [],
   "source": [
    "train = raw_train.copy()"
   ]
  },
  {
   "cell_type": "markdown",
   "metadata": {},
   "source": [
    "There don't appear to be any nulls, and I have formatted the `date` and `fullVisitorId` columns correctly on the read in.  There are 4 columns that are dictionarys that need to be convereted to a number of columns.  I will create a function to do that now. "
   ]
  },
  {
   "cell_type": "code",
   "execution_count": 6,
   "metadata": {},
   "outputs": [],
   "source": [
    "#dict_cols = ['device','geoNetwork','totals','trafficSource']"
   ]
  },
  {
   "cell_type": "code",
   "execution_count": 7,
   "metadata": {},
   "outputs": [],
   "source": [
    "#train['device'] = train.device.apply(json.loads)"
   ]
  },
  {
   "cell_type": "markdown",
   "metadata": {},
   "source": [
    "For the first of the columns with a dictionary (in string form) from the dataset I will only keep the features that don't say `not available in demo dataset`"
   ]
  },
  {
   "cell_type": "code",
   "execution_count": 6,
   "metadata": {},
   "outputs": [
    {
     "data": {
      "text/plain": [
       "'{\"browser\": \"Chrome\", \"browserVersion\": \"not available in demo dataset\", \"browserSize\": \"not available in demo dataset\", \"operatingSystem\": \"Windows\", \"operatingSystemVersion\": \"not available in demo dataset\", \"isMobile\": false, \"mobileDeviceBranding\": \"not available in demo dataset\", \"mobileDeviceModel\": \"not available in demo dataset\", \"mobileInputSelector\": \"not available in demo dataset\", \"mobileDeviceInfo\": \"not available in demo dataset\", \"mobileDeviceMarketingName\": \"not available in demo dataset\", \"flashVersion\": \"not available in demo dataset\", \"language\": \"not available in demo dataset\", \"screenColors\": \"not available in demo dataset\", \"screenResolution\": \"not available in demo dataset\", \"deviceCategory\": \"desktop\"}'"
      ]
     },
     "execution_count": 6,
     "metadata": {},
     "output_type": "execute_result"
    }
   ],
   "source": [
    "train.loc[0,'device']"
   ]
  },
  {
   "cell_type": "code",
   "execution_count": 7,
   "metadata": {},
   "outputs": [],
   "source": [
    "train['device'] = train['device'].apply(json.loads)\n",
    "### apply json.loads function to convert string to dictionary"
   ]
  },
  {
   "cell_type": "code",
   "execution_count": 8,
   "metadata": {},
   "outputs": [
    {
     "data": {
      "text/plain": [
       "{'browser': 'Chrome',\n",
       " 'browserVersion': 'not available in demo dataset',\n",
       " 'browserSize': 'not available in demo dataset',\n",
       " 'operatingSystem': 'Windows',\n",
       " 'operatingSystemVersion': 'not available in demo dataset',\n",
       " 'isMobile': False,\n",
       " 'mobileDeviceBranding': 'not available in demo dataset',\n",
       " 'mobileDeviceModel': 'not available in demo dataset',\n",
       " 'mobileInputSelector': 'not available in demo dataset',\n",
       " 'mobileDeviceInfo': 'not available in demo dataset',\n",
       " 'mobileDeviceMarketingName': 'not available in demo dataset',\n",
       " 'flashVersion': 'not available in demo dataset',\n",
       " 'language': 'not available in demo dataset',\n",
       " 'screenColors': 'not available in demo dataset',\n",
       " 'screenResolution': 'not available in demo dataset',\n",
       " 'deviceCategory': 'desktop'}"
      ]
     },
     "execution_count": 8,
     "metadata": {},
     "output_type": "execute_result"
    }
   ],
   "source": [
    "train.loc[0,'device']"
   ]
  },
  {
   "cell_type": "code",
   "execution_count": 9,
   "metadata": {},
   "outputs": [],
   "source": [
    "device_cols = ['browser','operatingSystem','isMobile','deviceCategory']"
   ]
  },
  {
   "cell_type": "code",
   "execution_count": 10,
   "metadata": {},
   "outputs": [],
   "source": [
    "for c in device_cols:\n",
    "    train[c] = train['device'].apply(lambda x: x.get(c,np.nan))"
   ]
  },
  {
   "cell_type": "code",
   "execution_count": 11,
   "metadata": {},
   "outputs": [
    {
     "data": {
      "text/html": [
       "<div>\n",
       "<style scoped>\n",
       "    .dataframe tbody tr th:only-of-type {\n",
       "        vertical-align: middle;\n",
       "    }\n",
       "\n",
       "    .dataframe tbody tr th {\n",
       "        vertical-align: top;\n",
       "    }\n",
       "\n",
       "    .dataframe thead th {\n",
       "        text-align: right;\n",
       "    }\n",
       "</style>\n",
       "<table border=\"1\" class=\"dataframe\">\n",
       "  <thead>\n",
       "    <tr style=\"text-align: right;\">\n",
       "      <th></th>\n",
       "      <th>browser</th>\n",
       "      <th>operatingSystem</th>\n",
       "      <th>isMobile</th>\n",
       "      <th>deviceCategory</th>\n",
       "    </tr>\n",
       "  </thead>\n",
       "  <tbody>\n",
       "    <tr>\n",
       "      <th>0</th>\n",
       "      <td>Chrome</td>\n",
       "      <td>Windows</td>\n",
       "      <td>False</td>\n",
       "      <td>desktop</td>\n",
       "    </tr>\n",
       "    <tr>\n",
       "      <th>1</th>\n",
       "      <td>Firefox</td>\n",
       "      <td>Macintosh</td>\n",
       "      <td>False</td>\n",
       "      <td>desktop</td>\n",
       "    </tr>\n",
       "    <tr>\n",
       "      <th>2</th>\n",
       "      <td>Chrome</td>\n",
       "      <td>Windows</td>\n",
       "      <td>False</td>\n",
       "      <td>desktop</td>\n",
       "    </tr>\n",
       "    <tr>\n",
       "      <th>3</th>\n",
       "      <td>UC Browser</td>\n",
       "      <td>Linux</td>\n",
       "      <td>False</td>\n",
       "      <td>desktop</td>\n",
       "    </tr>\n",
       "    <tr>\n",
       "      <th>4</th>\n",
       "      <td>Chrome</td>\n",
       "      <td>Android</td>\n",
       "      <td>True</td>\n",
       "      <td>mobile</td>\n",
       "    </tr>\n",
       "    <tr>\n",
       "      <th>...</th>\n",
       "      <td>...</td>\n",
       "      <td>...</td>\n",
       "      <td>...</td>\n",
       "      <td>...</td>\n",
       "    </tr>\n",
       "    <tr>\n",
       "      <th>903648</th>\n",
       "      <td>Chrome</td>\n",
       "      <td>Windows</td>\n",
       "      <td>False</td>\n",
       "      <td>desktop</td>\n",
       "    </tr>\n",
       "    <tr>\n",
       "      <th>903649</th>\n",
       "      <td>Chrome</td>\n",
       "      <td>Android</td>\n",
       "      <td>True</td>\n",
       "      <td>mobile</td>\n",
       "    </tr>\n",
       "    <tr>\n",
       "      <th>903650</th>\n",
       "      <td>Android Webview</td>\n",
       "      <td>Android</td>\n",
       "      <td>True</td>\n",
       "      <td>mobile</td>\n",
       "    </tr>\n",
       "    <tr>\n",
       "      <th>903651</th>\n",
       "      <td>Chrome</td>\n",
       "      <td>Windows</td>\n",
       "      <td>False</td>\n",
       "      <td>desktop</td>\n",
       "    </tr>\n",
       "    <tr>\n",
       "      <th>903652</th>\n",
       "      <td>Chrome</td>\n",
       "      <td>Android</td>\n",
       "      <td>True</td>\n",
       "      <td>mobile</td>\n",
       "    </tr>\n",
       "  </tbody>\n",
       "</table>\n",
       "<p>903653 rows × 4 columns</p>\n",
       "</div>"
      ],
      "text/plain": [
       "                browser operatingSystem  isMobile deviceCategory\n",
       "0                Chrome         Windows     False        desktop\n",
       "1               Firefox       Macintosh     False        desktop\n",
       "2                Chrome         Windows     False        desktop\n",
       "3            UC Browser           Linux     False        desktop\n",
       "4                Chrome         Android      True         mobile\n",
       "...                 ...             ...       ...            ...\n",
       "903648           Chrome         Windows     False        desktop\n",
       "903649           Chrome         Android      True         mobile\n",
       "903650  Android Webview         Android      True         mobile\n",
       "903651           Chrome         Windows     False        desktop\n",
       "903652           Chrome         Android      True         mobile\n",
       "\n",
       "[903653 rows x 4 columns]"
      ]
     },
     "execution_count": 11,
     "metadata": {},
     "output_type": "execute_result"
    }
   ],
   "source": [
    "train[device_cols]"
   ]
  },
  {
   "cell_type": "code",
   "execution_count": 12,
   "metadata": {},
   "outputs": [
    {
     "data": {
      "text/plain": [
       "browser            object\n",
       "operatingSystem    object\n",
       "isMobile             bool\n",
       "deviceCategory     object\n",
       "dtype: object"
      ]
     },
     "execution_count": 12,
     "metadata": {},
     "output_type": "execute_result"
    }
   ],
   "source": [
    "train[device_cols].dtypes"
   ]
  },
  {
   "cell_type": "markdown",
   "metadata": {},
   "source": [
    "That looks almost perfect for the `device` column.  Eventually the `isMobile` column will need to be converted to 0's and 1's, so I'll do that now."
   ]
  },
  {
   "cell_type": "code",
   "execution_count": 13,
   "metadata": {},
   "outputs": [
    {
     "data": {
      "text/plain": [
       "0.26461816648647213"
      ]
     },
     "execution_count": 13,
     "metadata": {},
     "output_type": "execute_result"
    }
   ],
   "source": [
    "train['isMobile'] = train['isMobile']*1\n",
    "train['isMobile'].mean()"
   ]
  },
  {
   "cell_type": "markdown",
   "metadata": {},
   "source": [
    "Done.  It looks like 26% of the records come from mobile devices."
   ]
  },
  {
   "cell_type": "markdown",
   "metadata": {},
   "source": [
    "Now I can process the `geoNetwork` column the same way."
   ]
  },
  {
   "cell_type": "code",
   "execution_count": 14,
   "metadata": {},
   "outputs": [
    {
     "data": {
      "text/plain": [
       "{'continent': 'Asia',\n",
       " 'subContinent': 'Western Asia',\n",
       " 'country': 'Turkey',\n",
       " 'region': 'Izmir',\n",
       " 'metro': '(not set)',\n",
       " 'city': 'Izmir',\n",
       " 'cityId': 'not available in demo dataset',\n",
       " 'networkDomain': 'ttnet.com.tr',\n",
       " 'latitude': 'not available in demo dataset',\n",
       " 'longitude': 'not available in demo dataset',\n",
       " 'networkLocation': 'not available in demo dataset'}"
      ]
     },
     "execution_count": 14,
     "metadata": {},
     "output_type": "execute_result"
    }
   ],
   "source": [
    "train['geoNetwork'] = train['geoNetwork'].apply(json.loads)\n",
    "train.loc[0,'geoNetwork']"
   ]
  },
  {
   "cell_type": "code",
   "execution_count": 15,
   "metadata": {},
   "outputs": [],
   "source": [
    "geoNet_cols = ['continent','subContinent','country','region','metro','city','networkDomain']"
   ]
  },
  {
   "cell_type": "code",
   "execution_count": 16,
   "metadata": {},
   "outputs": [],
   "source": [
    "for c in geoNet_cols:\n",
    "    train[c] = train['geoNetwork'].apply(lambda x: x.get(c,np.nan))"
   ]
  },
  {
   "cell_type": "code",
   "execution_count": 17,
   "metadata": {},
   "outputs": [
    {
     "data": {
      "text/plain": [
       "continent        object\n",
       "subContinent     object\n",
       "country          object\n",
       "region           object\n",
       "metro            object\n",
       "city             object\n",
       "networkDomain    object\n",
       "dtype: object"
      ]
     },
     "execution_count": 17,
     "metadata": {},
     "output_type": "execute_result"
    }
   ],
   "source": [
    "train[geoNet_cols].dtypes"
   ]
  },
  {
   "cell_type": "code",
   "execution_count": 18,
   "metadata": {},
   "outputs": [
    {
     "data": {
      "text/plain": [
       "continent        0\n",
       "subContinent     0\n",
       "country          0\n",
       "region           0\n",
       "metro            0\n",
       "city             0\n",
       "networkDomain    0\n",
       "dtype: int64"
      ]
     },
     "execution_count": 18,
     "metadata": {},
     "output_type": "execute_result"
    }
   ],
   "source": [
    "train[geoNet_cols].isna().sum()"
   ]
  },
  {
   "cell_type": "markdown",
   "metadata": {},
   "source": [
    "Job done, column types are correct and no nulls.  Now I'll skip `totals` and deal with `trafficSource`."
   ]
  },
  {
   "cell_type": "code",
   "execution_count": 19,
   "metadata": {},
   "outputs": [
    {
     "data": {
      "text/plain": [
       "{'campaign': '(not set)',\n",
       " 'source': 'google',\n",
       " 'medium': 'organic',\n",
       " 'keyword': '(not provided)',\n",
       " 'adwordsClickInfo': {'criteriaParameters': 'not available in demo dataset'}}"
      ]
     },
     "execution_count": 19,
     "metadata": {},
     "output_type": "execute_result"
    }
   ],
   "source": [
    "train['trafficSource'] = train['trafficSource'].apply(json.loads)\n",
    "train.loc[0,'trafficSource']"
   ]
  },
  {
   "cell_type": "code",
   "execution_count": 20,
   "metadata": {},
   "outputs": [],
   "source": [
    "traffic_cols = ['campaign','source','medium','keyword']"
   ]
  },
  {
   "cell_type": "code",
   "execution_count": 21,
   "metadata": {},
   "outputs": [],
   "source": [
    "for c in traffic_cols:\n",
    "    train[c] = train['trafficSource'].apply(lambda x: x.get(c,np.nan))"
   ]
  },
  {
   "cell_type": "code",
   "execution_count": 22,
   "metadata": {},
   "outputs": [
    {
     "data": {
      "text/plain": [
       "campaign    object\n",
       "source      object\n",
       "medium      object\n",
       "keyword     object\n",
       "dtype: object"
      ]
     },
     "execution_count": 22,
     "metadata": {},
     "output_type": "execute_result"
    }
   ],
   "source": [
    "train[traffic_cols].dtypes"
   ]
  },
  {
   "cell_type": "code",
   "execution_count": 23,
   "metadata": {},
   "outputs": [
    {
     "data": {
      "text/plain": [
       "campaign    0.000000\n",
       "source      0.000000\n",
       "medium      0.000000\n",
       "keyword     0.556551\n",
       "dtype: float64"
      ]
     },
     "execution_count": 23,
     "metadata": {},
     "output_type": "execute_result"
    }
   ],
   "source": [
    "train[traffic_cols].isna().sum()/train.shape[0]"
   ]
  },
  {
   "cell_type": "markdown",
   "metadata": {},
   "source": [
    "Job done.  But more than half of the new `keyword` column is null.  I will drop it now. "
   ]
  },
  {
   "cell_type": "code",
   "execution_count": 24,
   "metadata": {},
   "outputs": [],
   "source": [
    "train = train.drop('keyword',axis=1)"
   ]
  },
  {
   "cell_type": "markdown",
   "metadata": {},
   "source": [
    "Now for `totals` which also happens to have the target for this project `transactionRevenue`, the amount of money spent at the GStore. I assume where this is not present in the record, there was no purchase made."
   ]
  },
  {
   "cell_type": "code",
   "execution_count": 25,
   "metadata": {},
   "outputs": [
    {
     "data": {
      "text/plain": [
       "{'visits': '1',\n",
       " 'hits': '1',\n",
       " 'pageviews': '1',\n",
       " 'bounces': '1',\n",
       " 'newVisits': '1'}"
      ]
     },
     "execution_count": 25,
     "metadata": {},
     "output_type": "execute_result"
    }
   ],
   "source": [
    "train['totals'] = train['totals'].apply(json.loads)\n",
    "train.loc[0,'totals']"
   ]
  },
  {
   "cell_type": "code",
   "execution_count": 26,
   "metadata": {},
   "outputs": [],
   "source": [
    "totals_cols = ['visits','hits','pageviews','bounces','newVisits','transactionRevenue']"
   ]
  },
  {
   "cell_type": "code",
   "execution_count": 27,
   "metadata": {},
   "outputs": [],
   "source": [
    "for c in totals_cols:\n",
    "    train[c] = train['totals'].apply(lambda x: x.get(c,0))"
   ]
  },
  {
   "cell_type": "code",
   "execution_count": 28,
   "metadata": {},
   "outputs": [],
   "source": [
    "### Correct the data type for the latest created columns\n",
    "for c in totals_cols:\n",
    "    train[c] = pd.to_numeric(train[c])"
   ]
  },
  {
   "cell_type": "code",
   "execution_count": 29,
   "metadata": {},
   "outputs": [
    {
     "data": {
      "text/html": [
       "<div>\n",
       "<style scoped>\n",
       "    .dataframe tbody tr th:only-of-type {\n",
       "        vertical-align: middle;\n",
       "    }\n",
       "\n",
       "    .dataframe tbody tr th {\n",
       "        vertical-align: top;\n",
       "    }\n",
       "\n",
       "    .dataframe thead th {\n",
       "        text-align: right;\n",
       "    }\n",
       "</style>\n",
       "<table border=\"1\" class=\"dataframe\">\n",
       "  <thead>\n",
       "    <tr style=\"text-align: right;\">\n",
       "      <th></th>\n",
       "      <th>transactionRevenue</th>\n",
       "    </tr>\n",
       "    <tr>\n",
       "      <th>fullVisitorId</th>\n",
       "      <th></th>\n",
       "    </tr>\n",
       "  </thead>\n",
       "  <tbody>\n",
       "    <tr>\n",
       "      <th>1957458976293878100</th>\n",
       "      <td>77113430000</td>\n",
       "    </tr>\n",
       "    <tr>\n",
       "      <th>5632276788326171571</th>\n",
       "      <td>16023750000</td>\n",
       "    </tr>\n",
       "    <tr>\n",
       "      <th>9417857471295131045</th>\n",
       "      <td>15170120000</td>\n",
       "    </tr>\n",
       "    <tr>\n",
       "      <th>4471415710206918415</th>\n",
       "      <td>11211100000</td>\n",
       "    </tr>\n",
       "    <tr>\n",
       "      <th>4984366501121503466</th>\n",
       "      <td>9513900000</td>\n",
       "    </tr>\n",
       "    <tr>\n",
       "      <th>9089132392240687728</th>\n",
       "      <td>8951970000</td>\n",
       "    </tr>\n",
       "    <tr>\n",
       "      <th>9029794295932939024</th>\n",
       "      <td>7846350000</td>\n",
       "    </tr>\n",
       "    <tr>\n",
       "      <th>7463172420271311409</th>\n",
       "      <td>7225100000</td>\n",
       "    </tr>\n",
       "    <tr>\n",
       "      <th>7311242886083854158</th>\n",
       "      <td>7143250000</td>\n",
       "    </tr>\n",
       "    <tr>\n",
       "      <th>79204932396995037</th>\n",
       "      <td>7047150000</td>\n",
       "    </tr>\n",
       "  </tbody>\n",
       "</table>\n",
       "</div>"
      ],
      "text/plain": [
       "                     transactionRevenue\n",
       "fullVisitorId                          \n",
       "1957458976293878100         77113430000\n",
       "5632276788326171571         16023750000\n",
       "9417857471295131045         15170120000\n",
       "4471415710206918415         11211100000\n",
       "4984366501121503466          9513900000\n",
       "9089132392240687728          8951970000\n",
       "9029794295932939024          7846350000\n",
       "7463172420271311409          7225100000\n",
       "7311242886083854158          7143250000\n",
       "79204932396995037            7047150000"
      ]
     },
     "execution_count": 29,
     "metadata": {},
     "output_type": "execute_result"
    }
   ],
   "source": [
    "### Quick look at the transactionRevenue by top spenders\n",
    "train.groupby('fullVisitorId')[['transactionRevenue']].sum().sort_values('transactionRevenue',ascending=False).head(10)"
   ]
  },
  {
   "cell_type": "markdown",
   "metadata": {},
   "source": [
    "Woah these numbers look way too big... $77 billion????\n",
    "\n",
    "I found a discussion thread saying that units are actually $1*10^6.  I will leave the numbers for now, but will need to change for plotting later. "
   ]
  },
  {
   "cell_type": "markdown",
   "metadata": {},
   "source": [
    "Now I can drop the 4 columns that I extracted sub columns out of"
   ]
  },
  {
   "cell_type": "code",
   "execution_count": 30,
   "metadata": {},
   "outputs": [],
   "source": [
    "train = train.drop(['device','geoNetwork','totals','trafficSource'],axis=1)"
   ]
  },
  {
   "cell_type": "code",
   "execution_count": 31,
   "metadata": {},
   "outputs": [
    {
     "name": "stdout",
     "output_type": "stream",
     "text": [
      "<class 'pandas.core.frame.DataFrame'>\n",
      "RangeIndex: 903653 entries, 0 to 903652\n",
      "Data columns (total 28 columns):\n",
      " #   Column                Non-Null Count   Dtype         \n",
      "---  ------                --------------   -----         \n",
      " 0   channelGrouping       903653 non-null  object        \n",
      " 1   date                  903653 non-null  datetime64[ns]\n",
      " 2   fullVisitorId         903653 non-null  object        \n",
      " 3   sessionId             903653 non-null  object        \n",
      " 4   socialEngagementType  903653 non-null  object        \n",
      " 5   visitId               903653 non-null  int64         \n",
      " 6   visitNumber           903653 non-null  int64         \n",
      " 7   visitStartTime        903653 non-null  int64         \n",
      " 8   browser               903653 non-null  object        \n",
      " 9   operatingSystem       903653 non-null  object        \n",
      " 10  isMobile              903653 non-null  int32         \n",
      " 11  deviceCategory        903653 non-null  object        \n",
      " 12  continent             903653 non-null  object        \n",
      " 13  subContinent          903653 non-null  object        \n",
      " 14  country               903653 non-null  object        \n",
      " 15  region                903653 non-null  object        \n",
      " 16  metro                 903653 non-null  object        \n",
      " 17  city                  903653 non-null  object        \n",
      " 18  networkDomain         903653 non-null  object        \n",
      " 19  campaign              903653 non-null  object        \n",
      " 20  source                903653 non-null  object        \n",
      " 21  medium                903653 non-null  object        \n",
      " 22  visits                903653 non-null  int64         \n",
      " 23  hits                  903653 non-null  int64         \n",
      " 24  pageviews             903653 non-null  int64         \n",
      " 25  bounces               903653 non-null  int64         \n",
      " 26  newVisits             903653 non-null  int64         \n",
      " 27  transactionRevenue    903653 non-null  int64         \n",
      "dtypes: datetime64[ns](1), int32(1), int64(9), object(17)\n",
      "memory usage: 189.6+ MB\n"
     ]
    }
   ],
   "source": [
    "train.info()"
   ]
  },
  {
   "cell_type": "markdown",
   "metadata": {},
   "source": [
    "Is there some redundancy here in the visits columns? I'll take a look"
   ]
  },
  {
   "cell_type": "code",
   "execution_count": 32,
   "metadata": {},
   "outputs": [
    {
     "data": {
      "text/html": [
       "<div>\n",
       "<style scoped>\n",
       "    .dataframe tbody tr th:only-of-type {\n",
       "        vertical-align: middle;\n",
       "    }\n",
       "\n",
       "    .dataframe tbody tr th {\n",
       "        vertical-align: top;\n",
       "    }\n",
       "\n",
       "    .dataframe thead th {\n",
       "        text-align: right;\n",
       "    }\n",
       "</style>\n",
       "<table border=\"1\" class=\"dataframe\">\n",
       "  <thead>\n",
       "    <tr style=\"text-align: right;\">\n",
       "      <th></th>\n",
       "      <th>fullVisitorId</th>\n",
       "      <th>visitId</th>\n",
       "      <th>visitNumber</th>\n",
       "      <th>visitStartTime</th>\n",
       "      <th>visits</th>\n",
       "      <th>hits</th>\n",
       "      <th>pageviews</th>\n",
       "      <th>bounces</th>\n",
       "      <th>newVisits</th>\n",
       "      <th>transactionRevenue</th>\n",
       "    </tr>\n",
       "  </thead>\n",
       "  <tbody>\n",
       "    <tr>\n",
       "      <th>230774</th>\n",
       "      <td>0000010278554503158</td>\n",
       "      <td>1477029466</td>\n",
       "      <td>1</td>\n",
       "      <td>1477029466</td>\n",
       "      <td>1</td>\n",
       "      <td>11</td>\n",
       "      <td>8</td>\n",
       "      <td>0</td>\n",
       "      <td>1</td>\n",
       "      <td>0</td>\n",
       "    </tr>\n",
       "    <tr>\n",
       "      <th>89784</th>\n",
       "      <td>0000020424342248747</td>\n",
       "      <td>1480578901</td>\n",
       "      <td>1</td>\n",
       "      <td>1480578901</td>\n",
       "      <td>1</td>\n",
       "      <td>17</td>\n",
       "      <td>13</td>\n",
       "      <td>0</td>\n",
       "      <td>1</td>\n",
       "      <td>0</td>\n",
       "    </tr>\n",
       "    <tr>\n",
       "      <th>683463</th>\n",
       "      <td>0000027376579751715</td>\n",
       "      <td>1486866293</td>\n",
       "      <td>1</td>\n",
       "      <td>1486866293</td>\n",
       "      <td>1</td>\n",
       "      <td>6</td>\n",
       "      <td>5</td>\n",
       "      <td>0</td>\n",
       "      <td>1</td>\n",
       "      <td>0</td>\n",
       "    </tr>\n",
       "    <tr>\n",
       "      <th>648840</th>\n",
       "      <td>0000039460501403861</td>\n",
       "      <td>1490629516</td>\n",
       "      <td>1</td>\n",
       "      <td>1490629516</td>\n",
       "      <td>1</td>\n",
       "      <td>2</td>\n",
       "      <td>2</td>\n",
       "      <td>0</td>\n",
       "      <td>1</td>\n",
       "      <td>0</td>\n",
       "    </tr>\n",
       "    <tr>\n",
       "      <th>683316</th>\n",
       "      <td>0000040862739425590</td>\n",
       "      <td>1486838824</td>\n",
       "      <td>2</td>\n",
       "      <td>1486838824</td>\n",
       "      <td>1</td>\n",
       "      <td>3</td>\n",
       "      <td>3</td>\n",
       "      <td>0</td>\n",
       "      <td>0</td>\n",
       "      <td>0</td>\n",
       "    </tr>\n",
       "    <tr>\n",
       "      <th>...</th>\n",
       "      <td>...</td>\n",
       "      <td>...</td>\n",
       "      <td>...</td>\n",
       "      <td>...</td>\n",
       "      <td>...</td>\n",
       "      <td>...</td>\n",
       "      <td>...</td>\n",
       "      <td>...</td>\n",
       "      <td>...</td>\n",
       "      <td>...</td>\n",
       "    </tr>\n",
       "    <tr>\n",
       "      <th>182220</th>\n",
       "      <td>999997225970956660</td>\n",
       "      <td>1471672810</td>\n",
       "      <td>1</td>\n",
       "      <td>1471672810</td>\n",
       "      <td>1</td>\n",
       "      <td>1</td>\n",
       "      <td>1</td>\n",
       "      <td>1</td>\n",
       "      <td>1</td>\n",
       "      <td>0</td>\n",
       "    </tr>\n",
       "    <tr>\n",
       "      <th>796213</th>\n",
       "      <td>999997550040396460</td>\n",
       "      <td>1491708533</td>\n",
       "      <td>1</td>\n",
       "      <td>1491708533</td>\n",
       "      <td>1</td>\n",
       "      <td>1</td>\n",
       "      <td>1</td>\n",
       "      <td>1</td>\n",
       "      <td>1</td>\n",
       "      <td>0</td>\n",
       "    </tr>\n",
       "    <tr>\n",
       "      <th>812150</th>\n",
       "      <td>999997550040396460</td>\n",
       "      <td>1492640838</td>\n",
       "      <td>2</td>\n",
       "      <td>1492640838</td>\n",
       "      <td>1</td>\n",
       "      <td>2</td>\n",
       "      <td>2</td>\n",
       "      <td>0</td>\n",
       "      <td>0</td>\n",
       "      <td>0</td>\n",
       "    </tr>\n",
       "    <tr>\n",
       "      <th>617541</th>\n",
       "      <td>9999978264901065827</td>\n",
       "      <td>1485325580</td>\n",
       "      <td>1</td>\n",
       "      <td>1485325580</td>\n",
       "      <td>1</td>\n",
       "      <td>1</td>\n",
       "      <td>1</td>\n",
       "      <td>1</td>\n",
       "      <td>1</td>\n",
       "      <td>0</td>\n",
       "    </tr>\n",
       "    <tr>\n",
       "      <th>141497</th>\n",
       "      <td>9999986437109498564</td>\n",
       "      <td>1491867670</td>\n",
       "      <td>1</td>\n",
       "      <td>1491867670</td>\n",
       "      <td>1</td>\n",
       "      <td>2</td>\n",
       "      <td>2</td>\n",
       "      <td>0</td>\n",
       "      <td>1</td>\n",
       "      <td>0</td>\n",
       "    </tr>\n",
       "  </tbody>\n",
       "</table>\n",
       "<p>903653 rows × 10 columns</p>\n",
       "</div>"
      ],
      "text/plain": [
       "              fullVisitorId     visitId  visitNumber  visitStartTime  visits  \\\n",
       "230774  0000010278554503158  1477029466            1      1477029466       1   \n",
       "89784   0000020424342248747  1480578901            1      1480578901       1   \n",
       "683463  0000027376579751715  1486866293            1      1486866293       1   \n",
       "648840  0000039460501403861  1490629516            1      1490629516       1   \n",
       "683316  0000040862739425590  1486838824            2      1486838824       1   \n",
       "...                     ...         ...          ...             ...     ...   \n",
       "182220   999997225970956660  1471672810            1      1471672810       1   \n",
       "796213   999997550040396460  1491708533            1      1491708533       1   \n",
       "812150   999997550040396460  1492640838            2      1492640838       1   \n",
       "617541  9999978264901065827  1485325580            1      1485325580       1   \n",
       "141497  9999986437109498564  1491867670            1      1491867670       1   \n",
       "\n",
       "        hits  pageviews  bounces  newVisits  transactionRevenue  \n",
       "230774    11          8        0          1                   0  \n",
       "89784     17         13        0          1                   0  \n",
       "683463     6          5        0          1                   0  \n",
       "648840     2          2        0          1                   0  \n",
       "683316     3          3        0          0                   0  \n",
       "...      ...        ...      ...        ...                 ...  \n",
       "182220     1          1        1          1                   0  \n",
       "796213     1          1        1          1                   0  \n",
       "812150     2          2        0          0                   0  \n",
       "617541     1          1        1          1                   0  \n",
       "141497     2          2        0          1                   0  \n",
       "\n",
       "[903653 rows x 10 columns]"
      ]
     },
     "execution_count": 32,
     "metadata": {},
     "output_type": "execute_result"
    }
   ],
   "source": [
    "train[['fullVisitorId','visitId','visitNumber','visitStartTime','visits','hits','pageviews','bounces','newVisits','transactionRevenue']].sort_values('fullVisitorId')"
   ]
  },
  {
   "cell_type": "markdown",
   "metadata": {},
   "source": [
    "For my own reference a few definitions for these columns from www.tendenci.com\n",
    "\n",
    "\"\"\"\n",
    "1. __Visit__ - This is the one piece of information that you really want to know. A visit is one individual visitor who arrives at your web site and proceeds to browse. A visit counts all visitors, no matter how many times the same visitor may have been to your site.\n",
    " \n",
    "2. __Unique Visit/New Visit__ - This is also called Visit by Cookie. A unique visit will tell you which visits from item 1 are visiting your site for the first time. The website can track this as unique by the IP address of the computer. *The number of unique visits will be far less that visits because a unique visit is only tracked if cookies are enabled on the visitors computer*\n",
    " \n",
    "3. __Page View__ - This is also called Impression.  Once a visitor arrives at your website, they will search around on a few more pages. On average, a visitor will look at about 2.5 pages. Each individual page a visitor views is tracked as a page view.\n",
    " \n",
    "4. __Hits__ - The real Black Sheep in the family. The average website owner thinks that a hit means a visit but it is very different (see item 1).  A Hit actually refers to the number of files downloaded on your site, this could include photos, graphics, etc. Picture the average web page, it has photos (each photo is a file and hence a hit) and lots of buttons (each button is a file and hence a hit). On average, each page will include 15 hits.\n",
    " \n",
    "To give you an example -  Using the average statistics listed above, 1 Visit to an average web site will generate 3 Page Views and 45 Hits.\n",
    " \n",
    "\"\"\"\n",
    "\n",
    "Also from webtrafficgeeks.org\n",
    "\n",
    "__Bounce__ = user left the website without clicking further\n"
   ]
  },
  {
   "cell_type": "code",
   "execution_count": 33,
   "metadata": {},
   "outputs": [
    {
     "data": {
      "text/html": [
       "<div>\n",
       "<style scoped>\n",
       "    .dataframe tbody tr th:only-of-type {\n",
       "        vertical-align: middle;\n",
       "    }\n",
       "\n",
       "    .dataframe tbody tr th {\n",
       "        vertical-align: top;\n",
       "    }\n",
       "\n",
       "    .dataframe thead th {\n",
       "        text-align: right;\n",
       "    }\n",
       "</style>\n",
       "<table border=\"1\" class=\"dataframe\">\n",
       "  <thead>\n",
       "    <tr style=\"text-align: right;\">\n",
       "      <th></th>\n",
       "      <th>fullVisitorId</th>\n",
       "      <th>visitNumber</th>\n",
       "      <th>newVisits</th>\n",
       "    </tr>\n",
       "  </thead>\n",
       "  <tbody>\n",
       "    <tr>\n",
       "      <th>4</th>\n",
       "      <td>27294437909732085</td>\n",
       "      <td>2</td>\n",
       "      <td>0</td>\n",
       "    </tr>\n",
       "    <tr>\n",
       "      <th>45</th>\n",
       "      <td>0239575343807682372</td>\n",
       "      <td>3</td>\n",
       "      <td>0</td>\n",
       "    </tr>\n",
       "    <tr>\n",
       "      <th>46</th>\n",
       "      <td>7356002680834488802</td>\n",
       "      <td>2</td>\n",
       "      <td>0</td>\n",
       "    </tr>\n",
       "    <tr>\n",
       "      <th>63</th>\n",
       "      <td>0854783508496317255</td>\n",
       "      <td>5</td>\n",
       "      <td>0</td>\n",
       "    </tr>\n",
       "    <tr>\n",
       "      <th>67</th>\n",
       "      <td>3746051970600816343</td>\n",
       "      <td>2</td>\n",
       "      <td>0</td>\n",
       "    </tr>\n",
       "    <tr>\n",
       "      <th>69</th>\n",
       "      <td>8720204952657722494</td>\n",
       "      <td>2</td>\n",
       "      <td>0</td>\n",
       "    </tr>\n",
       "    <tr>\n",
       "      <th>87</th>\n",
       "      <td>4555387715496410320</td>\n",
       "      <td>2</td>\n",
       "      <td>0</td>\n",
       "    </tr>\n",
       "    <tr>\n",
       "      <th>116</th>\n",
       "      <td>4100806472252896384</td>\n",
       "      <td>2</td>\n",
       "      <td>0</td>\n",
       "    </tr>\n",
       "    <tr>\n",
       "      <th>127</th>\n",
       "      <td>5242592678391575004</td>\n",
       "      <td>2</td>\n",
       "      <td>0</td>\n",
       "    </tr>\n",
       "    <tr>\n",
       "      <th>132</th>\n",
       "      <td>4784477552492518396</td>\n",
       "      <td>11</td>\n",
       "      <td>0</td>\n",
       "    </tr>\n",
       "  </tbody>\n",
       "</table>\n",
       "</div>"
      ],
      "text/plain": [
       "           fullVisitorId  visitNumber  newVisits\n",
       "4      27294437909732085            2          0\n",
       "45   0239575343807682372            3          0\n",
       "46   7356002680834488802            2          0\n",
       "63   0854783508496317255            5          0\n",
       "67   3746051970600816343            2          0\n",
       "69   8720204952657722494            2          0\n",
       "87   4555387715496410320            2          0\n",
       "116  4100806472252896384            2          0\n",
       "127  5242592678391575004            2          0\n",
       "132  4784477552492518396           11          0"
      ]
     },
     "execution_count": 33,
     "metadata": {},
     "output_type": "execute_result"
    }
   ],
   "source": [
    "train[train.visitNumber>1][['fullVisitorId','visitNumber','newVisits']].head(10)"
   ]
  },
  {
   "cell_type": "code",
   "execution_count": 34,
   "metadata": {
    "scrolled": false
   },
   "outputs": [
    {
     "data": {
      "text/html": [
       "<div>\n",
       "<style scoped>\n",
       "    .dataframe tbody tr th:only-of-type {\n",
       "        vertical-align: middle;\n",
       "    }\n",
       "\n",
       "    .dataframe tbody tr th {\n",
       "        vertical-align: top;\n",
       "    }\n",
       "\n",
       "    .dataframe thead th {\n",
       "        text-align: right;\n",
       "    }\n",
       "</style>\n",
       "<table border=\"1\" class=\"dataframe\">\n",
       "  <thead>\n",
       "    <tr style=\"text-align: right;\">\n",
       "      <th></th>\n",
       "      <th>channelGrouping</th>\n",
       "      <th>date</th>\n",
       "      <th>fullVisitorId</th>\n",
       "      <th>sessionId</th>\n",
       "      <th>socialEngagementType</th>\n",
       "      <th>visitId</th>\n",
       "      <th>visitNumber</th>\n",
       "      <th>visitStartTime</th>\n",
       "      <th>browser</th>\n",
       "      <th>operatingSystem</th>\n",
       "      <th>...</th>\n",
       "      <th>networkDomain</th>\n",
       "      <th>campaign</th>\n",
       "      <th>source</th>\n",
       "      <th>medium</th>\n",
       "      <th>visits</th>\n",
       "      <th>hits</th>\n",
       "      <th>pageviews</th>\n",
       "      <th>bounces</th>\n",
       "      <th>newVisits</th>\n",
       "      <th>transactionRevenue</th>\n",
       "    </tr>\n",
       "  </thead>\n",
       "  <tbody>\n",
       "    <tr>\n",
       "      <th>758490</th>\n",
       "      <td>Direct</td>\n",
       "      <td>2016-08-06</td>\n",
       "      <td>0949718915643445721</td>\n",
       "      <td>0949718915643445721_1470518725</td>\n",
       "      <td>Not Socially Engaged</td>\n",
       "      <td>1470518725</td>\n",
       "      <td>18</td>\n",
       "      <td>1470518725</td>\n",
       "      <td>Chrome</td>\n",
       "      <td>Macintosh</td>\n",
       "      <td>...</td>\n",
       "      <td>qwest.net</td>\n",
       "      <td>(not set)</td>\n",
       "      <td>(direct)</td>\n",
       "      <td>(none)</td>\n",
       "      <td>1</td>\n",
       "      <td>1</td>\n",
       "      <td>1</td>\n",
       "      <td>1</td>\n",
       "      <td>0</td>\n",
       "      <td>0</td>\n",
       "    </tr>\n",
       "    <tr>\n",
       "      <th>758495</th>\n",
       "      <td>Direct</td>\n",
       "      <td>2016-08-06</td>\n",
       "      <td>0949718915643445721</td>\n",
       "      <td>0949718915643445721_1470546023</td>\n",
       "      <td>Not Socially Engaged</td>\n",
       "      <td>1470546023</td>\n",
       "      <td>19</td>\n",
       "      <td>1470546023</td>\n",
       "      <td>Chrome</td>\n",
       "      <td>Macintosh</td>\n",
       "      <td>...</td>\n",
       "      <td>qwest.net</td>\n",
       "      <td>(not set)</td>\n",
       "      <td>(direct)</td>\n",
       "      <td>(none)</td>\n",
       "      <td>1</td>\n",
       "      <td>1</td>\n",
       "      <td>1</td>\n",
       "      <td>1</td>\n",
       "      <td>0</td>\n",
       "      <td>0</td>\n",
       "    </tr>\n",
       "    <tr>\n",
       "      <th>893927</th>\n",
       "      <td>Direct</td>\n",
       "      <td>2016-08-07</td>\n",
       "      <td>0949718915643445721</td>\n",
       "      <td>0949718915643445721_1470617387</td>\n",
       "      <td>Not Socially Engaged</td>\n",
       "      <td>1470617387</td>\n",
       "      <td>20</td>\n",
       "      <td>1470617387</td>\n",
       "      <td>Chrome</td>\n",
       "      <td>Macintosh</td>\n",
       "      <td>...</td>\n",
       "      <td>qwest.net</td>\n",
       "      <td>(not set)</td>\n",
       "      <td>(direct)</td>\n",
       "      <td>(none)</td>\n",
       "      <td>1</td>\n",
       "      <td>1</td>\n",
       "      <td>1</td>\n",
       "      <td>1</td>\n",
       "      <td>0</td>\n",
       "      <td>0</td>\n",
       "    </tr>\n",
       "    <tr>\n",
       "      <th>11685</th>\n",
       "      <td>Direct</td>\n",
       "      <td>2016-08-11</td>\n",
       "      <td>0949718915643445721</td>\n",
       "      <td>0949718915643445721_1470928701</td>\n",
       "      <td>Not Socially Engaged</td>\n",
       "      <td>1470928701</td>\n",
       "      <td>21</td>\n",
       "      <td>1470928701</td>\n",
       "      <td>Chrome</td>\n",
       "      <td>Macintosh</td>\n",
       "      <td>...</td>\n",
       "      <td>qwest.net</td>\n",
       "      <td>(not set)</td>\n",
       "      <td>(direct)</td>\n",
       "      <td>(none)</td>\n",
       "      <td>1</td>\n",
       "      <td>1</td>\n",
       "      <td>1</td>\n",
       "      <td>1</td>\n",
       "      <td>0</td>\n",
       "      <td>0</td>\n",
       "    </tr>\n",
       "    <tr>\n",
       "      <th>853865</th>\n",
       "      <td>Direct</td>\n",
       "      <td>2016-08-18</td>\n",
       "      <td>0949718915643445721</td>\n",
       "      <td>0949718915643445721_1471573251</td>\n",
       "      <td>Not Socially Engaged</td>\n",
       "      <td>1471573251</td>\n",
       "      <td>22</td>\n",
       "      <td>1471573251</td>\n",
       "      <td>Chrome</td>\n",
       "      <td>Macintosh</td>\n",
       "      <td>...</td>\n",
       "      <td>qwest.net</td>\n",
       "      <td>(not set)</td>\n",
       "      <td>(direct)</td>\n",
       "      <td>(none)</td>\n",
       "      <td>1</td>\n",
       "      <td>1</td>\n",
       "      <td>1</td>\n",
       "      <td>1</td>\n",
       "      <td>0</td>\n",
       "      <td>0</td>\n",
       "    </tr>\n",
       "    <tr>\n",
       "      <th>...</th>\n",
       "      <td>...</td>\n",
       "      <td>...</td>\n",
       "      <td>...</td>\n",
       "      <td>...</td>\n",
       "      <td>...</td>\n",
       "      <td>...</td>\n",
       "      <td>...</td>\n",
       "      <td>...</td>\n",
       "      <td>...</td>\n",
       "      <td>...</td>\n",
       "      <td>...</td>\n",
       "      <td>...</td>\n",
       "      <td>...</td>\n",
       "      <td>...</td>\n",
       "      <td>...</td>\n",
       "      <td>...</td>\n",
       "      <td>...</td>\n",
       "      <td>...</td>\n",
       "      <td>...</td>\n",
       "      <td>...</td>\n",
       "      <td>...</td>\n",
       "    </tr>\n",
       "    <tr>\n",
       "      <th>871784</th>\n",
       "      <td>Direct</td>\n",
       "      <td>2016-10-05</td>\n",
       "      <td>0949718915643445721</td>\n",
       "      <td>0949718915643445721_1475675614</td>\n",
       "      <td>Not Socially Engaged</td>\n",
       "      <td>1475675614</td>\n",
       "      <td>141</td>\n",
       "      <td>1475675614</td>\n",
       "      <td>Chrome</td>\n",
       "      <td>Macintosh</td>\n",
       "      <td>...</td>\n",
       "      <td>qwest.net</td>\n",
       "      <td>(not set)</td>\n",
       "      <td>(direct)</td>\n",
       "      <td>(none)</td>\n",
       "      <td>1</td>\n",
       "      <td>1</td>\n",
       "      <td>1</td>\n",
       "      <td>1</td>\n",
       "      <td>0</td>\n",
       "      <td>0</td>\n",
       "    </tr>\n",
       "    <tr>\n",
       "      <th>51987</th>\n",
       "      <td>Direct</td>\n",
       "      <td>2016-10-14</td>\n",
       "      <td>0949718915643445721</td>\n",
       "      <td>0949718915643445721_1476452567</td>\n",
       "      <td>Not Socially Engaged</td>\n",
       "      <td>1476452567</td>\n",
       "      <td>142</td>\n",
       "      <td>1476452567</td>\n",
       "      <td>Chrome</td>\n",
       "      <td>Macintosh</td>\n",
       "      <td>...</td>\n",
       "      <td>qwest.net</td>\n",
       "      <td>(not set)</td>\n",
       "      <td>(direct)</td>\n",
       "      <td>(none)</td>\n",
       "      <td>1</td>\n",
       "      <td>2</td>\n",
       "      <td>2</td>\n",
       "      <td>0</td>\n",
       "      <td>0</td>\n",
       "      <td>0</td>\n",
       "    </tr>\n",
       "    <tr>\n",
       "      <th>245608</th>\n",
       "      <td>Direct</td>\n",
       "      <td>2016-10-15</td>\n",
       "      <td>0949718915643445721</td>\n",
       "      <td>0949718915643445721_1476551760</td>\n",
       "      <td>Not Socially Engaged</td>\n",
       "      <td>1476551760</td>\n",
       "      <td>143</td>\n",
       "      <td>1476551760</td>\n",
       "      <td>Chrome</td>\n",
       "      <td>Macintosh</td>\n",
       "      <td>...</td>\n",
       "      <td>qwest.net</td>\n",
       "      <td>(not set)</td>\n",
       "      <td>(direct)</td>\n",
       "      <td>(none)</td>\n",
       "      <td>1</td>\n",
       "      <td>1</td>\n",
       "      <td>1</td>\n",
       "      <td>1</td>\n",
       "      <td>0</td>\n",
       "      <td>0</td>\n",
       "    </tr>\n",
       "    <tr>\n",
       "      <th>245744</th>\n",
       "      <td>Direct</td>\n",
       "      <td>2016-10-15</td>\n",
       "      <td>0949718915643445721</td>\n",
       "      <td>0949718915643445721_1476587564</td>\n",
       "      <td>Not Socially Engaged</td>\n",
       "      <td>1476587564</td>\n",
       "      <td>144</td>\n",
       "      <td>1476587564</td>\n",
       "      <td>Chrome</td>\n",
       "      <td>Macintosh</td>\n",
       "      <td>...</td>\n",
       "      <td>qwest.net</td>\n",
       "      <td>(not set)</td>\n",
       "      <td>(direct)</td>\n",
       "      <td>(none)</td>\n",
       "      <td>1</td>\n",
       "      <td>1</td>\n",
       "      <td>1</td>\n",
       "      <td>1</td>\n",
       "      <td>0</td>\n",
       "      <td>0</td>\n",
       "    </tr>\n",
       "    <tr>\n",
       "      <th>125310</th>\n",
       "      <td>Direct</td>\n",
       "      <td>2016-10-18</td>\n",
       "      <td>0949718915643445721</td>\n",
       "      <td>0949718915643445721_1476811451</td>\n",
       "      <td>Not Socially Engaged</td>\n",
       "      <td>1476811451</td>\n",
       "      <td>145</td>\n",
       "      <td>1476811451</td>\n",
       "      <td>Chrome</td>\n",
       "      <td>Macintosh</td>\n",
       "      <td>...</td>\n",
       "      <td>(not set)</td>\n",
       "      <td>(not set)</td>\n",
       "      <td>(direct)</td>\n",
       "      <td>(none)</td>\n",
       "      <td>1</td>\n",
       "      <td>1</td>\n",
       "      <td>1</td>\n",
       "      <td>1</td>\n",
       "      <td>0</td>\n",
       "      <td>0</td>\n",
       "    </tr>\n",
       "  </tbody>\n",
       "</table>\n",
       "<p>128 rows × 28 columns</p>\n",
       "</div>"
      ],
      "text/plain": [
       "       channelGrouping       date        fullVisitorId  \\\n",
       "758490          Direct 2016-08-06  0949718915643445721   \n",
       "758495          Direct 2016-08-06  0949718915643445721   \n",
       "893927          Direct 2016-08-07  0949718915643445721   \n",
       "11685           Direct 2016-08-11  0949718915643445721   \n",
       "853865          Direct 2016-08-18  0949718915643445721   \n",
       "...                ...        ...                  ...   \n",
       "871784          Direct 2016-10-05  0949718915643445721   \n",
       "51987           Direct 2016-10-14  0949718915643445721   \n",
       "245608          Direct 2016-10-15  0949718915643445721   \n",
       "245744          Direct 2016-10-15  0949718915643445721   \n",
       "125310          Direct 2016-10-18  0949718915643445721   \n",
       "\n",
       "                             sessionId  socialEngagementType     visitId  \\\n",
       "758490  0949718915643445721_1470518725  Not Socially Engaged  1470518725   \n",
       "758495  0949718915643445721_1470546023  Not Socially Engaged  1470546023   \n",
       "893927  0949718915643445721_1470617387  Not Socially Engaged  1470617387   \n",
       "11685   0949718915643445721_1470928701  Not Socially Engaged  1470928701   \n",
       "853865  0949718915643445721_1471573251  Not Socially Engaged  1471573251   \n",
       "...                                ...                   ...         ...   \n",
       "871784  0949718915643445721_1475675614  Not Socially Engaged  1475675614   \n",
       "51987   0949718915643445721_1476452567  Not Socially Engaged  1476452567   \n",
       "245608  0949718915643445721_1476551760  Not Socially Engaged  1476551760   \n",
       "245744  0949718915643445721_1476587564  Not Socially Engaged  1476587564   \n",
       "125310  0949718915643445721_1476811451  Not Socially Engaged  1476811451   \n",
       "\n",
       "        visitNumber  visitStartTime browser operatingSystem  ...  \\\n",
       "758490           18      1470518725  Chrome       Macintosh  ...   \n",
       "758495           19      1470546023  Chrome       Macintosh  ...   \n",
       "893927           20      1470617387  Chrome       Macintosh  ...   \n",
       "11685            21      1470928701  Chrome       Macintosh  ...   \n",
       "853865           22      1471573251  Chrome       Macintosh  ...   \n",
       "...             ...             ...     ...             ...  ...   \n",
       "871784          141      1475675614  Chrome       Macintosh  ...   \n",
       "51987           142      1476452567  Chrome       Macintosh  ...   \n",
       "245608          143      1476551760  Chrome       Macintosh  ...   \n",
       "245744          144      1476587564  Chrome       Macintosh  ...   \n",
       "125310          145      1476811451  Chrome       Macintosh  ...   \n",
       "\n",
       "        networkDomain   campaign    source  medium visits hits pageviews  \\\n",
       "758490      qwest.net  (not set)  (direct)  (none)      1    1         1   \n",
       "758495      qwest.net  (not set)  (direct)  (none)      1    1         1   \n",
       "893927      qwest.net  (not set)  (direct)  (none)      1    1         1   \n",
       "11685       qwest.net  (not set)  (direct)  (none)      1    1         1   \n",
       "853865      qwest.net  (not set)  (direct)  (none)      1    1         1   \n",
       "...               ...        ...       ...     ...    ...  ...       ...   \n",
       "871784      qwest.net  (not set)  (direct)  (none)      1    1         1   \n",
       "51987       qwest.net  (not set)  (direct)  (none)      1    2         2   \n",
       "245608      qwest.net  (not set)  (direct)  (none)      1    1         1   \n",
       "245744      qwest.net  (not set)  (direct)  (none)      1    1         1   \n",
       "125310      (not set)  (not set)  (direct)  (none)      1    1         1   \n",
       "\n",
       "       bounces newVisits transactionRevenue  \n",
       "758490       1         0                  0  \n",
       "758495       1         0                  0  \n",
       "893927       1         0                  0  \n",
       "11685        1         0                  0  \n",
       "853865       1         0                  0  \n",
       "...        ...       ...                ...  \n",
       "871784       1         0                  0  \n",
       "51987        0         0                  0  \n",
       "245608       1         0                  0  \n",
       "245744       1         0                  0  \n",
       "125310       1         0                  0  \n",
       "\n",
       "[128 rows x 28 columns]"
      ]
     },
     "execution_count": 34,
     "metadata": {},
     "output_type": "execute_result"
    }
   ],
   "source": [
    "train[(train.fullVisitorId=='0949718915643445721')].sort_values('visitNumber')"
   ]
  },
  {
   "cell_type": "markdown",
   "metadata": {},
   "source": [
    "After exploring a little, if `visitNumber` is > 1 then `newVisit` is 0, so `visitNumber` and `newVisits` appear to contain redundant information. I'll leave it for now.  In EDA I will check to see if `newVisit` has any other information value concerning the target. "
   ]
  },
  {
   "cell_type": "code",
   "execution_count": 35,
   "metadata": {},
   "outputs": [
    {
     "name": "stdout",
     "output_type": "stream",
     "text": [
      "<class 'pandas.core.frame.DataFrame'>\n",
      "RangeIndex: 903653 entries, 0 to 903652\n",
      "Data columns (total 28 columns):\n",
      " #   Column                Non-Null Count   Dtype         \n",
      "---  ------                --------------   -----         \n",
      " 0   channelGrouping       903653 non-null  object        \n",
      " 1   date                  903653 non-null  datetime64[ns]\n",
      " 2   fullVisitorId         903653 non-null  object        \n",
      " 3   sessionId             903653 non-null  object        \n",
      " 4   socialEngagementType  903653 non-null  object        \n",
      " 5   visitId               903653 non-null  int64         \n",
      " 6   visitNumber           903653 non-null  int64         \n",
      " 7   visitStartTime        903653 non-null  int64         \n",
      " 8   browser               903653 non-null  object        \n",
      " 9   operatingSystem       903653 non-null  object        \n",
      " 10  isMobile              903653 non-null  int32         \n",
      " 11  deviceCategory        903653 non-null  object        \n",
      " 12  continent             903653 non-null  object        \n",
      " 13  subContinent          903653 non-null  object        \n",
      " 14  country               903653 non-null  object        \n",
      " 15  region                903653 non-null  object        \n",
      " 16  metro                 903653 non-null  object        \n",
      " 17  city                  903653 non-null  object        \n",
      " 18  networkDomain         903653 non-null  object        \n",
      " 19  campaign              903653 non-null  object        \n",
      " 20  source                903653 non-null  object        \n",
      " 21  medium                903653 non-null  object        \n",
      " 22  visits                903653 non-null  int64         \n",
      " 23  hits                  903653 non-null  int64         \n",
      " 24  pageviews             903653 non-null  int64         \n",
      " 25  bounces               903653 non-null  int64         \n",
      " 26  newVisits             903653 non-null  int64         \n",
      " 27  transactionRevenue    903653 non-null  int64         \n",
      "dtypes: datetime64[ns](1), int32(1), int64(9), object(17)\n",
      "memory usage: 189.6+ MB\n"
     ]
    }
   ],
   "source": [
    "train.info()"
   ]
  },
  {
   "cell_type": "code",
   "execution_count": 36,
   "metadata": {},
   "outputs": [
    {
     "data": {
      "text/html": [
       "<div>\n",
       "<style scoped>\n",
       "    .dataframe tbody tr th:only-of-type {\n",
       "        vertical-align: middle;\n",
       "    }\n",
       "\n",
       "    .dataframe tbody tr th {\n",
       "        vertical-align: top;\n",
       "    }\n",
       "\n",
       "    .dataframe thead th {\n",
       "        text-align: right;\n",
       "    }\n",
       "</style>\n",
       "<table border=\"1\" class=\"dataframe\">\n",
       "  <thead>\n",
       "    <tr style=\"text-align: right;\">\n",
       "      <th></th>\n",
       "      <th>channelGrouping</th>\n",
       "      <th>date</th>\n",
       "      <th>fullVisitorId</th>\n",
       "      <th>sessionId</th>\n",
       "      <th>socialEngagementType</th>\n",
       "      <th>visitId</th>\n",
       "      <th>visitNumber</th>\n",
       "      <th>visitStartTime</th>\n",
       "      <th>browser</th>\n",
       "      <th>operatingSystem</th>\n",
       "      <th>...</th>\n",
       "      <th>networkDomain</th>\n",
       "      <th>campaign</th>\n",
       "      <th>source</th>\n",
       "      <th>medium</th>\n",
       "      <th>visits</th>\n",
       "      <th>hits</th>\n",
       "      <th>pageviews</th>\n",
       "      <th>bounces</th>\n",
       "      <th>newVisits</th>\n",
       "      <th>transactionRevenue</th>\n",
       "    </tr>\n",
       "  </thead>\n",
       "  <tbody>\n",
       "    <tr>\n",
       "      <th>711</th>\n",
       "      <td>Referral</td>\n",
       "      <td>2016-09-02</td>\n",
       "      <td>3694640209777929241</td>\n",
       "      <td>3694640209777929241_1472846444</td>\n",
       "      <td>Not Socially Engaged</td>\n",
       "      <td>1472846444</td>\n",
       "      <td>9</td>\n",
       "      <td>1472846444</td>\n",
       "      <td>Chrome</td>\n",
       "      <td>Linux</td>\n",
       "      <td>...</td>\n",
       "      <td>(not set)</td>\n",
       "      <td>(not set)</td>\n",
       "      <td>mall.googleplex.com</td>\n",
       "      <td>referral</td>\n",
       "      <td>1</td>\n",
       "      <td>10</td>\n",
       "      <td>10</td>\n",
       "      <td>0</td>\n",
       "      <td>0</td>\n",
       "      <td>0</td>\n",
       "    </tr>\n",
       "    <tr>\n",
       "      <th>1528</th>\n",
       "      <td>Referral</td>\n",
       "      <td>2016-09-02</td>\n",
       "      <td>3694640209777929241</td>\n",
       "      <td>3694640209777929241_1472850328</td>\n",
       "      <td>Not Socially Engaged</td>\n",
       "      <td>1472850328</td>\n",
       "      <td>10</td>\n",
       "      <td>1472850328</td>\n",
       "      <td>Chrome</td>\n",
       "      <td>Linux</td>\n",
       "      <td>...</td>\n",
       "      <td>(not set)</td>\n",
       "      <td>(not set)</td>\n",
       "      <td>mall.googleplex.com</td>\n",
       "      <td>referral</td>\n",
       "      <td>1</td>\n",
       "      <td>1</td>\n",
       "      <td>1</td>\n",
       "      <td>1</td>\n",
       "      <td>0</td>\n",
       "      <td>0</td>\n",
       "    </tr>\n",
       "    <tr>\n",
       "      <th>221043</th>\n",
       "      <td>Referral</td>\n",
       "      <td>2016-09-06</td>\n",
       "      <td>3694640209777929241</td>\n",
       "      <td>3694640209777929241_1473186538</td>\n",
       "      <td>Not Socially Engaged</td>\n",
       "      <td>1473186538</td>\n",
       "      <td>11</td>\n",
       "      <td>1473186538</td>\n",
       "      <td>Chrome</td>\n",
       "      <td>Linux</td>\n",
       "      <td>...</td>\n",
       "      <td>(not set)</td>\n",
       "      <td>(not set)</td>\n",
       "      <td>mall.googleplex.com</td>\n",
       "      <td>referral</td>\n",
       "      <td>1</td>\n",
       "      <td>1</td>\n",
       "      <td>1</td>\n",
       "      <td>1</td>\n",
       "      <td>0</td>\n",
       "      <td>0</td>\n",
       "    </tr>\n",
       "  </tbody>\n",
       "</table>\n",
       "<p>3 rows × 28 columns</p>\n",
       "</div>"
      ],
      "text/plain": [
       "       channelGrouping       date        fullVisitorId  \\\n",
       "711           Referral 2016-09-02  3694640209777929241   \n",
       "1528          Referral 2016-09-02  3694640209777929241   \n",
       "221043        Referral 2016-09-06  3694640209777929241   \n",
       "\n",
       "                             sessionId  socialEngagementType     visitId  \\\n",
       "711     3694640209777929241_1472846444  Not Socially Engaged  1472846444   \n",
       "1528    3694640209777929241_1472850328  Not Socially Engaged  1472850328   \n",
       "221043  3694640209777929241_1473186538  Not Socially Engaged  1473186538   \n",
       "\n",
       "        visitNumber  visitStartTime browser operatingSystem  ...  \\\n",
       "711               9      1472846444  Chrome           Linux  ...   \n",
       "1528             10      1472850328  Chrome           Linux  ...   \n",
       "221043           11      1473186538  Chrome           Linux  ...   \n",
       "\n",
       "        networkDomain   campaign               source    medium visits hits  \\\n",
       "711         (not set)  (not set)  mall.googleplex.com  referral      1   10   \n",
       "1528        (not set)  (not set)  mall.googleplex.com  referral      1    1   \n",
       "221043      (not set)  (not set)  mall.googleplex.com  referral      1    1   \n",
       "\n",
       "       pageviews bounces newVisits transactionRevenue  \n",
       "711           10       0         0                  0  \n",
       "1528           1       1         0                  0  \n",
       "221043         1       1         0                  0  \n",
       "\n",
       "[3 rows x 28 columns]"
      ]
     },
     "execution_count": 36,
     "metadata": {},
     "output_type": "execute_result"
    }
   ],
   "source": [
    "train[train.fullVisitorId=='3694640209777929241']"
   ]
  },
  {
   "cell_type": "markdown",
   "metadata": {},
   "source": [
    "The dataset looks like it is ready for EDA.  I will export the cleaned set now. "
   ]
  },
  {
   "cell_type": "code",
   "execution_count": 41,
   "metadata": {},
   "outputs": [],
   "source": [
    "train.to_csv('train_wrangled.csv')"
   ]
  },
  {
   "cell_type": "markdown",
   "metadata": {},
   "source": [
    "Done and ready for EDA."
   ]
  },
  {
   "cell_type": "code",
   "execution_count": null,
   "metadata": {},
   "outputs": [],
   "source": []
  }
 ],
 "metadata": {
  "kernelspec": {
   "display_name": "Python [conda env:root] *",
   "language": "python",
   "name": "conda-root-py"
  },
  "language_info": {
   "codemirror_mode": {
    "name": "ipython",
    "version": 3
   },
   "file_extension": ".py",
   "mimetype": "text/x-python",
   "name": "python",
   "nbconvert_exporter": "python",
   "pygments_lexer": "ipython3",
   "version": "3.7.6"
  }
 },
 "nbformat": 4,
 "nbformat_minor": 4
}
