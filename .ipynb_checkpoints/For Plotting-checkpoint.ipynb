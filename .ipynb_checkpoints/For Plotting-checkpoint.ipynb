{
 "cells": [
  {
   "cell_type": "code",
   "execution_count": 2,
   "id": "4d67fc89",
   "metadata": {},
   "outputs": [],
   "source": [
    "import matplotlib.pyplot as plt\n",
    "import pandas as pd\n",
    "import seaborn as sns\n"
   ]
  },
  {
   "cell_type": "code",
   "execution_count": 27,
   "id": "fd373e70",
   "metadata": {},
   "outputs": [],
   "source": [
    "import matplotlib as mpl\n",
    "mpl.style.use('seaborn')"
   ]
  },
  {
   "cell_type": "code",
   "execution_count": 28,
   "id": "c3872c77",
   "metadata": {},
   "outputs": [],
   "source": [
    "import os\n",
    "os.chdir(r'D:\\Springboard\\Capstone 3 maybe\\Google Analytics')"
   ]
  },
  {
   "cell_type": "code",
   "execution_count": 29,
   "id": "af586c7c",
   "metadata": {},
   "outputs": [
    {
     "name": "stderr",
     "output_type": "stream",
     "text": [
      "C:\\Users\\blain\\Anaconda3\\lib\\site-packages\\IPython\\core\\interactiveshell.py:3166: DtypeWarning: Columns (3) have mixed types.Specify dtype option on import or set low_memory=False.\n",
      "  interactivity=interactivity, compiler=compiler, result=result)\n"
     ]
    }
   ],
   "source": [
    "train = pd.read_csv('train_eda.csv',index_col=0)\n"
   ]
  },
  {
   "cell_type": "code",
   "execution_count": 30,
   "id": "093662c6",
   "metadata": {},
   "outputs": [
    {
     "data": {
      "text/plain": [
       "<AxesSubplot:>"
      ]
     },
     "execution_count": 30,
     "metadata": {},
     "output_type": "execute_result"
    },
    {
     "data": {
      "image/png": "[encoded data removed]",
      "text/plain": [
       "<Figure size 576x396 with 1 Axes>"
      ]
     },
     "metadata": {},
     "output_type": "display_data"
    }
   ],
   "source": [
    "train.isMobile.hist()"
   ]
  },
  {
   "cell_type": "code",
   "execution_count": 31,
   "id": "3b835c40",
   "metadata": {},
   "outputs": [
    {
     "data": {
      "text/html": [
       "<div>\n",
       "<style scoped>\n",
       "    .dataframe tbody tr th:only-of-type {\n",
       "        vertical-align: middle;\n",
       "    }\n",
       "\n",
       "    .dataframe tbody tr th {\n",
       "        vertical-align: top;\n",
       "    }\n",
       "\n",
       "    .dataframe thead th {\n",
       "        text-align: right;\n",
       "    }\n",
       "</style>\n",
       "<table border=\"1\" class=\"dataframe\">\n",
       "  <thead>\n",
       "    <tr style=\"text-align: right;\">\n",
       "      <th></th>\n",
       "      <th>dollarsSum</th>\n",
       "      <th>dollarsCount</th>\n",
       "      <th>frac</th>\n",
       "    </tr>\n",
       "    <tr>\n",
       "      <th>isMobile</th>\n",
       "      <th></th>\n",
       "      <th></th>\n",
       "      <th></th>\n",
       "    </tr>\n",
       "  </thead>\n",
       "  <tbody>\n",
       "    <tr>\n",
       "      <th>0</th>\n",
       "      <td>1403081.15</td>\n",
       "      <td>663196</td>\n",
       "      <td>0.959576</td>\n",
       "    </tr>\n",
       "    <tr>\n",
       "      <th>1</th>\n",
       "      <td>59106.88</td>\n",
       "      <td>238711</td>\n",
       "      <td>0.040424</td>\n",
       "    </tr>\n",
       "  </tbody>\n",
       "</table>\n",
       "</div>"
      ],
      "text/plain": [
       "          dollarsSum  dollarsCount      frac\n",
       "isMobile                                    \n",
       "0         1403081.15        663196  0.959576\n",
       "1           59106.88        238711  0.040424"
      ]
     },
     "execution_count": 31,
     "metadata": {},
     "output_type": "execute_result"
    }
   ],
   "source": [
    "mobile = train.groupby('isMobile')[['dollars']].agg(['sum','count'])\n",
    "mobile.columns = [col[0]+col[1].capitalize() for col in mobile.columns]\n",
    "mobile['frac'] = mobile.dollarsSum / mobile.dollarsSum.sum()\n",
    "mobile"
   ]
  },
  {
   "cell_type": "code",
   "execution_count": null,
   "id": "1767eade",
   "metadata": {},
   "outputs": [],
   "source": []
  },
  {
   "cell_type": "code",
   "execution_count": 32,
   "id": "7a29d081",
   "metadata": {},
   "outputs": [
    {
     "data": {
      "text/html": [
       "<div>\n",
       "<style scoped>\n",
       "    .dataframe tbody tr th:only-of-type {\n",
       "        vertical-align: middle;\n",
       "    }\n",
       "\n",
       "    .dataframe tbody tr th {\n",
       "        vertical-align: top;\n",
       "    }\n",
       "\n",
       "    .dataframe thead th {\n",
       "        text-align: right;\n",
       "    }\n",
       "</style>\n",
       "<table border=\"1\" class=\"dataframe\">\n",
       "  <thead>\n",
       "    <tr style=\"text-align: right;\">\n",
       "      <th></th>\n",
       "      <th>dollarsSum</th>\n",
       "      <th>dollarsCount</th>\n",
       "      <th>frac</th>\n",
       "    </tr>\n",
       "    <tr>\n",
       "      <th>isMobile</th>\n",
       "      <th></th>\n",
       "      <th></th>\n",
       "      <th></th>\n",
       "    </tr>\n",
       "  </thead>\n",
       "  <tbody>\n",
       "    <tr>\n",
       "      <th>0</th>\n",
       "      <td>1403081.15</td>\n",
       "      <td>663196</td>\n",
       "      <td>0.959576</td>\n",
       "    </tr>\n",
       "    <tr>\n",
       "      <th>1</th>\n",
       "      <td>59106.88</td>\n",
       "      <td>238711</td>\n",
       "      <td>0.040424</td>\n",
       "    </tr>\n",
       "  </tbody>\n",
       "</table>\n",
       "</div>"
      ],
      "text/plain": [
       "          dollarsSum  dollarsCount      frac\n",
       "isMobile                                    \n",
       "0         1403081.15        663196  0.959576\n",
       "1           59106.88        238711  0.040424"
      ]
     },
     "execution_count": 32,
     "metadata": {},
     "output_type": "execute_result"
    }
   ],
   "source": [
    "mobile['frac'] = mobile.dollarsSum / mobile.dollarsSum.sum()\n",
    "mobile"
   ]
  },
  {
   "cell_type": "markdown",
   "id": "07cc49f3",
   "metadata": {},
   "source": []
  },
  {
   "cell_type": "code",
   "execution_count": 33,
   "id": "4b74fb11",
   "metadata": {},
   "outputs": [
    {
     "name": "stdout",
     "output_type": "stream",
     "text": [
      "<class 'pandas.core.frame.DataFrame'>\n",
      "Int64Index: 901907 entries, 0 to 903652\n",
      "Data columns (total 51 columns):\n",
      " #   Column                                   Non-Null Count   Dtype  \n",
      "---  ------                                   --------------   -----  \n",
      " 0   channelGrouping                          901907 non-null  object \n",
      " 1   date                                     901907 non-null  object \n",
      " 2   fullVisitorId                            901907 non-null  object \n",
      " 3   sessionId                                901907 non-null  object \n",
      " 4   visitId                                  901907 non-null  int64  \n",
      " 5   visitNumber                              901907 non-null  int64  \n",
      " 6   visitStartTime                           901907 non-null  int64  \n",
      " 7   browser                                  901907 non-null  object \n",
      " 8   operatingSystem                          901907 non-null  object \n",
      " 9   isMobile                                 901907 non-null  int64  \n",
      " 10  deviceCategory                           901907 non-null  object \n",
      " 11  continent                                901907 non-null  object \n",
      " 12  subContinent                             901907 non-null  object \n",
      " 13  country                                  901907 non-null  object \n",
      " 14  region                                   901907 non-null  object \n",
      " 15  metro                                    901907 non-null  object \n",
      " 16  city                                     901907 non-null  object \n",
      " 17  campaign                                 901907 non-null  object \n",
      " 18  source                                   901907 non-null  object \n",
      " 19  keyword                                  400041 non-null  object \n",
      " 20  hits                                     901907 non-null  int64  \n",
      " 21  pageviews                                901907 non-null  int64  \n",
      " 22  bounces                                  901907 non-null  int64  \n",
      " 23  newVisits                                901907 non-null  int64  \n",
      " 24  transactionRevenue                       901907 non-null  int64  \n",
      " 25  dollars                                  901907 non-null  float64\n",
      " 26  purchase                                 901907 non-null  int64  \n",
      " 27  dateTime                                 901907 non-null  object \n",
      " 28  hour                                     901907 non-null  int64  \n",
      " 29  weekend                                  901907 non-null  int64  \n",
      " 30  month                                    901907 non-null  int64  \n",
      " 31  time                                     901907 non-null  float64\n",
      " 32  timeDiffLastVisit                        189072 non-null  float64\n",
      " 33  countryPopulation                        901907 non-null  float64\n",
      " 34  countryGDP                               901907 non-null  float64\n",
      " 35  countryLE                                901907 non-null  float64\n",
      " 36  countryPIU                               901907 non-null  float64\n",
      " 37  state                                    901907 non-null  object \n",
      " 38  keywordStore                             901907 non-null  int64  \n",
      " 39  keywordMerch                             901907 non-null  int64  \n",
      " 40  keywordShirt                             901907 non-null  int64  \n",
      " 41  keywordGoogle                            901907 non-null  int64  \n",
      " 42  keywordYoutube                           901907 non-null  int64  \n",
      " 43  keywordShop                              901907 non-null  int64  \n",
      " 44  keywordApparel                           901907 non-null  int64  \n",
      " 45  keyword_(Remarketing/Content targeting)  901907 non-null  int64  \n",
      " 46  keyword_(User vertical targeting)        901907 non-null  int64  \n",
      " 47  keyword_(automatic matching)             901907 non-null  int64  \n",
      " 48  keyword_(content targeting)              901907 non-null  int64  \n",
      " 49  keyword_(not provided)                   901907 non-null  int64  \n",
      " 50  keyword_search                           901907 non-null  int64  \n",
      "dtypes: float64(7), int64(26), object(18)\n",
      "memory usage: 390.1+ MB\n"
     ]
    }
   ],
   "source": [
    "train.info()"
   ]
  },
  {
   "cell_type": "code",
   "execution_count": 34,
   "id": "12de939a",
   "metadata": {},
   "outputs": [],
   "source": [
    "train['isUS'] = train.country == 'United States'"
   ]
  },
  {
   "cell_type": "code",
   "execution_count": 35,
   "id": "44bf3e71",
   "metadata": {},
   "outputs": [],
   "source": [
    "train['isIntl'] = train['state']=='NotUS'"
   ]
  },
  {
   "cell_type": "code",
   "execution_count": 36,
   "id": "028e9e0f",
   "metadata": {},
   "outputs": [
    {
     "data": {
      "text/html": [
       "<div>\n",
       "<style scoped>\n",
       "    .dataframe tbody tr th:only-of-type {\n",
       "        vertical-align: middle;\n",
       "    }\n",
       "\n",
       "    .dataframe tbody tr th {\n",
       "        vertical-align: top;\n",
       "    }\n",
       "\n",
       "    .dataframe thead th {\n",
       "        text-align: right;\n",
       "    }\n",
       "</style>\n",
       "<table border=\"1\" class=\"dataframe\">\n",
       "  <thead>\n",
       "    <tr style=\"text-align: right;\">\n",
       "      <th></th>\n",
       "      <th>dollarsSum</th>\n",
       "      <th>dollarsCount</th>\n",
       "      <th>frac</th>\n",
       "    </tr>\n",
       "    <tr>\n",
       "      <th>isUS</th>\n",
       "      <th></th>\n",
       "      <th></th>\n",
       "      <th></th>\n",
       "    </tr>\n",
       "  </thead>\n",
       "  <tbody>\n",
       "    <tr>\n",
       "      <th>False</th>\n",
       "      <td>86860.81</td>\n",
       "      <td>537441</td>\n",
       "      <td>0.059405</td>\n",
       "    </tr>\n",
       "    <tr>\n",
       "      <th>True</th>\n",
       "      <td>1375327.22</td>\n",
       "      <td>364466</td>\n",
       "      <td>0.940595</td>\n",
       "    </tr>\n",
       "  </tbody>\n",
       "</table>\n",
       "</div>"
      ],
      "text/plain": [
       "       dollarsSum  dollarsCount      frac\n",
       "isUS                                     \n",
       "False    86860.81        537441  0.059405\n",
       "True   1375327.22        364466  0.940595"
      ]
     },
     "execution_count": 36,
     "metadata": {},
     "output_type": "execute_result"
    }
   ],
   "source": [
    "dummi = train.groupby('isUS')[['dollars']].agg(['sum','count'])\n",
    "dummi.columns = [col[0]+col[1].capitalize() for col in dummi.columns]\n",
    "dummi['frac'] = dummi.dollarsSum / dummi.dollarsSum.sum()\n",
    "dummi"
   ]
  },
  {
   "cell_type": "code",
   "execution_count": 37,
   "id": "2017731a",
   "metadata": {},
   "outputs": [
    {
     "data": {
      "text/html": [
       "<div>\n",
       "<style scoped>\n",
       "    .dataframe tbody tr th:only-of-type {\n",
       "        vertical-align: middle;\n",
       "    }\n",
       "\n",
       "    .dataframe tbody tr th {\n",
       "        vertical-align: top;\n",
       "    }\n",
       "\n",
       "    .dataframe thead th {\n",
       "        text-align: right;\n",
       "    }\n",
       "</style>\n",
       "<table border=\"1\" class=\"dataframe\">\n",
       "  <thead>\n",
       "    <tr style=\"text-align: right;\">\n",
       "      <th></th>\n",
       "      <th>dollarsSum</th>\n",
       "      <th>dollarsCount</th>\n",
       "      <th>frac</th>\n",
       "    </tr>\n",
       "    <tr>\n",
       "      <th>weekend</th>\n",
       "      <th></th>\n",
       "      <th></th>\n",
       "      <th></th>\n",
       "    </tr>\n",
       "  </thead>\n",
       "  <tbody>\n",
       "    <tr>\n",
       "      <th>0</th>\n",
       "      <td>1321184.67</td>\n",
       "      <td>705653</td>\n",
       "      <td>0.903567</td>\n",
       "    </tr>\n",
       "    <tr>\n",
       "      <th>1</th>\n",
       "      <td>141003.36</td>\n",
       "      <td>196254</td>\n",
       "      <td>0.096433</td>\n",
       "    </tr>\n",
       "  </tbody>\n",
       "</table>\n",
       "</div>"
      ],
      "text/plain": [
       "         dollarsSum  dollarsCount      frac\n",
       "weekend                                    \n",
       "0        1321184.67        705653  0.903567\n",
       "1         141003.36        196254  0.096433"
      ]
     },
     "execution_count": 37,
     "metadata": {},
     "output_type": "execute_result"
    }
   ],
   "source": [
    "dummi = train.groupby('weekend')[['dollars']].agg(['sum','count'])\n",
    "dummi.columns = [col[0]+col[1].capitalize() for col in dummi.columns]\n",
    "dummi['frac'] = dummi.dollarsSum / dummi.dollarsSum.sum()\n",
    "dummi"
   ]
  },
  {
   "cell_type": "code",
   "execution_count": 38,
   "id": "00f57065",
   "metadata": {},
   "outputs": [],
   "source": [
    "dummi = train.groupby('fullVisitorId')[['dollars']].agg(['sum','count'])\n",
    "dummi.columns = [col[0]+col[1].capitalize() for col in dummi.columns]\n",
    "dummi['vst1'] = dummi['dollarsCount'] == 1\n",
    "dg = dummi.groupby('vst1')[['dollarsSum']].agg(['sum','count'])\n",
    "dg.columns = [col[0]+col[1].capitalize() for col in dg.columns]\n",
    "dg['frac'] = dg['dollarsSumSum'] / dg['dollarsSumSum'].sum()"
   ]
  },
  {
   "cell_type": "code",
   "execution_count": 39,
   "id": "3e9afa98",
   "metadata": {},
   "outputs": [
    {
     "data": {
      "text/html": [
       "<div>\n",
       "<style scoped>\n",
       "    .dataframe tbody tr th:only-of-type {\n",
       "        vertical-align: middle;\n",
       "    }\n",
       "\n",
       "    .dataframe tbody tr th {\n",
       "        vertical-align: top;\n",
       "    }\n",
       "\n",
       "    .dataframe thead th {\n",
       "        text-align: right;\n",
       "    }\n",
       "</style>\n",
       "<table border=\"1\" class=\"dataframe\">\n",
       "  <thead>\n",
       "    <tr style=\"text-align: right;\">\n",
       "      <th></th>\n",
       "      <th>dollarsSumSum</th>\n",
       "      <th>dollarsSumCount</th>\n",
       "      <th>frac</th>\n",
       "    </tr>\n",
       "    <tr>\n",
       "      <th>vst1</th>\n",
       "      <th></th>\n",
       "      <th></th>\n",
       "      <th></th>\n",
       "    </tr>\n",
       "  </thead>\n",
       "  <tbody>\n",
       "    <tr>\n",
       "      <th>False</th>\n",
       "      <td>1174443.41</td>\n",
       "      <td>90864</td>\n",
       "      <td>0.80321</td>\n",
       "    </tr>\n",
       "    <tr>\n",
       "      <th>True</th>\n",
       "      <td>287744.62</td>\n",
       "      <td>631804</td>\n",
       "      <td>0.19679</td>\n",
       "    </tr>\n",
       "  </tbody>\n",
       "</table>\n",
       "</div>"
      ],
      "text/plain": [
       "       dollarsSumSum  dollarsSumCount     frac\n",
       "vst1                                          \n",
       "False     1174443.41            90864  0.80321\n",
       "True       287744.62           631804  0.19679"
      ]
     },
     "execution_count": 39,
     "metadata": {},
     "output_type": "execute_result"
    }
   ],
   "source": [
    "dg"
   ]
  },
  {
   "cell_type": "code",
   "execution_count": 40,
   "id": "c7af648d",
   "metadata": {},
   "outputs": [
    {
     "data": {
      "text/plain": [
       "(722668, 2)"
      ]
     },
     "execution_count": 40,
     "metadata": {},
     "output_type": "execute_result"
    }
   ],
   "source": [
    "byuser = train.groupby('fullVisitorId')[['dollars']].agg(['sum','count'])\n",
    "byuser.columns = [col[0]+col[1].capitalize() for col in byuser.columns]\n",
    "byuser.shape"
   ]
  },
  {
   "cell_type": "code",
   "execution_count": 41,
   "id": "654fc0a0",
   "metadata": {},
   "outputs": [
    {
     "data": {
      "image/png": "[encoded data removed]",
      "text/plain": [
       "<Figure size 576x396 with 1 Axes>"
      ]
     },
     "metadata": {},
     "output_type": "display_data"
    }
   ],
   "source": [
    "byuser.dollarsCount.hist(bins=20)\n",
    "plt.yscale('log')\n",
    "plt.ylabel('Number of users')\n",
    "plt.xlabel('Number of visits')\n",
    "plt.show()"
   ]
  },
  {
   "cell_type": "code",
   "execution_count": 42,
   "id": "3ac31f2e",
   "metadata": {},
   "outputs": [
    {
     "data": {
      "text/plain": [
       "1.2480239888856293"
      ]
     },
     "execution_count": 42,
     "metadata": {},
     "output_type": "execute_result"
    }
   ],
   "source": [
    "byuser.dollarsCount.mean()"
   ]
  },
  {
   "cell_type": "code",
   "execution_count": 54,
   "id": "bb569f95",
   "metadata": {},
   "outputs": [
    {
     "data": {
      "image/png": "[encoded data removed]",
      "text/plain": [
       "<Figure size 576x396 with 1 Axes>"
      ]
     },
     "metadata": {},
     "output_type": "display_data"
    }
   ],
   "source": [
    "### limits\n",
    "visits = 30\n",
    "dollars = 0\n",
    "sns.boxplot(data=byuser[(byuser['dollarsSum']>dollars) & (byuser['dollarsCount']<visits)], x='dollarsCount', y= 'dollarsSum')\n",
    "#byuser.plot(kind='scatter',x='dollarsCount',y='dollarsSum')\n",
    "\n",
    "plt.ylim((0,8000))\n",
    "plt.ylabel('Total user revenue')\n",
    "plt.xlabel('Number of visits')\n",
    "plt.show()"
   ]
  },
  {
   "cell_type": "code",
   "execution_count": 79,
   "id": "cfc6fb77",
   "metadata": {},
   "outputs": [
    {
     "data": {
      "text/html": [
       "<div>\n",
       "<style scoped>\n",
       "    .dataframe tbody tr th:only-of-type {\n",
       "        vertical-align: middle;\n",
       "    }\n",
       "\n",
       "    .dataframe tbody tr th {\n",
       "        vertical-align: top;\n",
       "    }\n",
       "\n",
       "    .dataframe thead th {\n",
       "        text-align: right;\n",
       "    }\n",
       "</style>\n",
       "<table border=\"1\" class=\"dataframe\">\n",
       "  <thead>\n",
       "    <tr style=\"text-align: right;\">\n",
       "      <th></th>\n",
       "      <th>dollarsSum</th>\n",
       "      <th>dollarsMedian</th>\n",
       "      <th>p10</th>\n",
       "      <th>p90</th>\n",
       "      <th>p50</th>\n",
       "      <th>p75</th>\n",
       "    </tr>\n",
       "    <tr>\n",
       "      <th>dollarsCount</th>\n",
       "      <th></th>\n",
       "      <th></th>\n",
       "      <th></th>\n",
       "      <th></th>\n",
       "      <th></th>\n",
       "      <th></th>\n",
       "    </tr>\n",
       "  </thead>\n",
       "  <tbody>\n",
       "    <tr>\n",
       "      <th>1</th>\n",
       "      <td>81.908517</td>\n",
       "      <td>37.480</td>\n",
       "      <td>12.99</td>\n",
       "      <td>168.190</td>\n",
       "      <td>37.480</td>\n",
       "      <td>75.9600</td>\n",
       "    </tr>\n",
       "    <tr>\n",
       "      <th>2</th>\n",
       "      <td>102.097308</td>\n",
       "      <td>44.975</td>\n",
       "      <td>15.19</td>\n",
       "      <td>199.566</td>\n",
       "      <td>44.975</td>\n",
       "      <td>95.1200</td>\n",
       "    </tr>\n",
       "    <tr>\n",
       "      <th>3</th>\n",
       "      <td>114.133581</td>\n",
       "      <td>52.370</td>\n",
       "      <td>15.45</td>\n",
       "      <td>270.360</td>\n",
       "      <td>52.370</td>\n",
       "      <td>111.2650</td>\n",
       "    </tr>\n",
       "    <tr>\n",
       "      <th>4</th>\n",
       "      <td>146.319490</td>\n",
       "      <td>59.990</td>\n",
       "      <td>15.99</td>\n",
       "      <td>341.883</td>\n",
       "      <td>59.990</td>\n",
       "      <td>125.4625</td>\n",
       "    </tr>\n",
       "    <tr>\n",
       "      <th>5</th>\n",
       "      <td>181.806492</td>\n",
       "      <td>67.180</td>\n",
       "      <td>16.99</td>\n",
       "      <td>413.200</td>\n",
       "      <td>67.180</td>\n",
       "      <td>147.9400</td>\n",
       "    </tr>\n",
       "  </tbody>\n",
       "</table>\n",
       "</div>"
      ],
      "text/plain": [
       "              dollarsSum  dollarsMedian    p10      p90     p50       p75\n",
       "dollarsCount                                                             \n",
       "1              81.908517         37.480  12.99  168.190  37.480   75.9600\n",
       "2             102.097308         44.975  15.19  199.566  44.975   95.1200\n",
       "3             114.133581         52.370  15.45  270.360  52.370  111.2650\n",
       "4             146.319490         59.990  15.99  341.883  59.990  125.4625\n",
       "5             181.806492         67.180  16.99  413.200  67.180  147.9400"
      ]
     },
     "execution_count": 79,
     "metadata": {},
     "output_type": "execute_result"
    }
   ],
   "source": [
    "byvisit_gb = byuser[byuser['dollarsSum']>0].groupby('dollarsCount')\n",
    "\n",
    "byvisit = byvisit_gb[['dollarsSum']].mean()\n",
    "byvisit['dollarsMedian'] = byvisit_gb[['dollarsSum']].median()\n",
    "byvisit['p10'] = byvisit_gb[['dollarsSum']].quantile(.1)\n",
    "byvisit['p90'] = byvisit_gb[['dollarsSum']].quantile(.9)\n",
    "byvisit['p50'] = byvisit_gb[['dollarsSum']].quantile(.5)\n",
    "byvisit['p75'] = byvisit_gb[['dollarsSum']].quantile(.75)\n",
    "\n",
    "\n",
    "\n",
    "byvisit.head()"
   ]
  },
  {
   "cell_type": "code",
   "execution_count": 81,
   "id": "dcce13c9",
   "metadata": {},
   "outputs": [
    {
     "data": {
      "image/png": "[encoded data removed]",
      "text/plain": [
       "<Figure size 576x396 with 1 Axes>"
      ]
     },
     "metadata": {},
     "output_type": "display_data"
    }
   ],
   "source": [
    "plt.plot(byvisit.index, byvisit['dollarsMedian'])\n",
    "plt.plot(byvisit.index, byvisit['dollarsSum'], color='grey',linestyle=':')\n",
    "plt.xlim(0,30)\n",
    "plt.fill_between(byvisit.index,byvisit['p90'],byvisit['dollarsMedian'],alpha=.2)\n",
    "plt.legend(labels=['Median','Mean','P90'],loc='upper left',fontsize=14)\n",
    "\n",
    "plt.ylim(0,7000)\n",
    "plt.ylabel('User revenue')\n",
    "plt.xlabel('Number of visits')\n",
    "plt.show()"
   ]
  },
  {
   "cell_type": "code",
   "execution_count": null,
   "id": "6e5c11b8",
   "metadata": {},
   "outputs": [],
   "source": []
  }
 ],
 "metadata": {
  "kernelspec": {
   "display_name": "Python [conda env:root] *",
   "language": "python",
   "name": "conda-root-py"
  },
  "language_info": {
   "codemirror_mode": {
    "name": "ipython",
    "version": 3
   },
   "file_extension": ".py",
   "mimetype": "text/x-python",
   "name": "python",
   "nbconvert_exporter": "python",
   "pygments_lexer": "ipython3",
   "version": "3.7.10"
  }
 },
 "nbformat": 4,
 "nbformat_minor": 5
}
