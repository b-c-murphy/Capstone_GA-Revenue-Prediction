{
 "cells": [
  {
   "cell_type": "markdown",
   "metadata": {},
   "source": [
    "# Data Wrangling\n",
    "## September 2021\n",
    "Create a tidy dataset from the training data provided for the Kaggle competition. \n",
    "https://www.kaggle.com/c/ga-customer-revenue-prediction/overview\n",
    "\n",
    "Note: The target for the project is the natural log of the sum of the spend for each user. So...\n",
    "\n",
    "$target_{user} = ln(y_{user}+1)$\n",
    "\n",
    "where \n",
    "\n",
    "$y_{user} = \\sum\\limits_{1}^{n} transactions_{user}$\n",
    "\n",
    "I will have to aggregate the spend of each user for the target variable.  I could do that on the front end, but that would get rid of the time component (repeated visits to store) so I don't want to do that.  I will have to figure out how to aggregate the predictions after modelling.  "
   ]
  },
  {
   "cell_type": "code",
   "execution_count": 1,
   "metadata": {},
   "outputs": [],
   "source": [
    "import pandas as pd\n",
    "import os\n",
    "import numpy as np\n",
    "import json"
   ]
  },
  {
   "cell_type": "markdown",
   "metadata": {},
   "source": [
    "Read in training data"
   ]
  },
  {
   "cell_type": "code",
   "execution_count": 2,
   "metadata": {
    "scrolled": true
   },
   "outputs": [
    {
     "data": {
      "text/plain": [
       "['sample_submission.csv',\n",
       " 'sample_submission_v2.csv',\n",
       " 'test.csv',\n",
       " 'test_v2.csv',\n",
       " 'train.csv',\n",
       " 'train_v2.csv',\n",
       " 'train_wrangled.csv']"
      ]
     },
     "execution_count": 2,
     "metadata": {},
     "output_type": "execute_result"
    }
   ],
   "source": [
    "os.chdir(r'D:\\Springboard\\Capstone 3 maybe\\Google Analytics')\n",
    "os.listdir()"
   ]
  },
  {
   "cell_type": "code",
   "execution_count": 3,
   "metadata": {},
   "outputs": [
    {
     "data": {
      "text/html": [
       "<div>\n",
       "<style scoped>\n",
       "    .dataframe tbody tr th:only-of-type {\n",
       "        vertical-align: middle;\n",
       "    }\n",
       "\n",
       "    .dataframe tbody tr th {\n",
       "        vertical-align: top;\n",
       "    }\n",
       "\n",
       "    .dataframe thead th {\n",
       "        text-align: right;\n",
       "    }\n",
       "</style>\n",
       "<table border=\"1\" class=\"dataframe\">\n",
       "  <thead>\n",
       "    <tr style=\"text-align: right;\">\n",
       "      <th></th>\n",
       "      <th>channelGrouping</th>\n",
       "      <th>customDimensions</th>\n",
       "      <th>date</th>\n",
       "      <th>device</th>\n",
       "      <th>fullVisitorId</th>\n",
       "      <th>geoNetwork</th>\n",
       "      <th>hits</th>\n",
       "      <th>socialEngagementType</th>\n",
       "      <th>totals</th>\n",
       "      <th>trafficSource</th>\n",
       "      <th>visitId</th>\n",
       "      <th>visitNumber</th>\n",
       "      <th>visitStartTime</th>\n",
       "    </tr>\n",
       "  </thead>\n",
       "  <tbody>\n",
       "    <tr>\n",
       "      <th>0</th>\n",
       "      <td>Organic Search</td>\n",
       "      <td>[{'index': '4', 'value': 'EMEA'}]</td>\n",
       "      <td>2017-10-16</td>\n",
       "      <td>{\"browser\": \"Firefox\", \"browserVersion\": \"not ...</td>\n",
       "      <td>3162355547410993243</td>\n",
       "      <td>{\"continent\": \"Europe\", \"subContinent\": \"Weste...</td>\n",
       "      <td>[{'hitNumber': '1', 'time': '0', 'hour': '17',...</td>\n",
       "      <td>Not Socially Engaged</td>\n",
       "      <td>{\"visits\": \"1\", \"hits\": \"1\", \"pageviews\": \"1\",...</td>\n",
       "      <td>{\"campaign\": \"(not set)\", \"source\": \"google\", ...</td>\n",
       "      <td>1508198450</td>\n",
       "      <td>1</td>\n",
       "      <td>1508198450</td>\n",
       "    </tr>\n",
       "    <tr>\n",
       "      <th>1</th>\n",
       "      <td>Referral</td>\n",
       "      <td>[{'index': '4', 'value': 'North America'}]</td>\n",
       "      <td>2017-10-16</td>\n",
       "      <td>{\"browser\": \"Chrome\", \"browserVersion\": \"not a...</td>\n",
       "      <td>8934116514970143966</td>\n",
       "      <td>{\"continent\": \"Americas\", \"subContinent\": \"Nor...</td>\n",
       "      <td>[{'hitNumber': '1', 'time': '0', 'hour': '10',...</td>\n",
       "      <td>Not Socially Engaged</td>\n",
       "      <td>{\"visits\": \"1\", \"hits\": \"2\", \"pageviews\": \"2\",...</td>\n",
       "      <td>{\"referralPath\": \"/a/google.com/transportation...</td>\n",
       "      <td>1508176307</td>\n",
       "      <td>6</td>\n",
       "      <td>1508176307</td>\n",
       "    </tr>\n",
       "    <tr>\n",
       "      <th>2</th>\n",
       "      <td>Direct</td>\n",
       "      <td>[{'index': '4', 'value': 'North America'}]</td>\n",
       "      <td>2017-10-16</td>\n",
       "      <td>{\"browser\": \"Chrome\", \"browserVersion\": \"not a...</td>\n",
       "      <td>7992466427990357681</td>\n",
       "      <td>{\"continent\": \"Americas\", \"subContinent\": \"Nor...</td>\n",
       "      <td>[{'hitNumber': '1', 'time': '0', 'hour': '17',...</td>\n",
       "      <td>Not Socially Engaged</td>\n",
       "      <td>{\"visits\": \"1\", \"hits\": \"2\", \"pageviews\": \"2\",...</td>\n",
       "      <td>{\"campaign\": \"(not set)\", \"source\": \"(direct)\"...</td>\n",
       "      <td>1508201613</td>\n",
       "      <td>1</td>\n",
       "      <td>1508201613</td>\n",
       "    </tr>\n",
       "    <tr>\n",
       "      <th>3</th>\n",
       "      <td>Organic Search</td>\n",
       "      <td>[{'index': '4', 'value': 'EMEA'}]</td>\n",
       "      <td>2017-10-16</td>\n",
       "      <td>{\"browser\": \"Chrome\", \"browserVersion\": \"not a...</td>\n",
       "      <td>9075655783635761930</td>\n",
       "      <td>{\"continent\": \"Asia\", \"subContinent\": \"Western...</td>\n",
       "      <td>[{'hitNumber': '1', 'time': '0', 'hour': '9', ...</td>\n",
       "      <td>Not Socially Engaged</td>\n",
       "      <td>{\"visits\": \"1\", \"hits\": \"2\", \"pageviews\": \"2\",...</td>\n",
       "      <td>{\"campaign\": \"(not set)\", \"source\": \"google\", ...</td>\n",
       "      <td>1508169851</td>\n",
       "      <td>1</td>\n",
       "      <td>1508169851</td>\n",
       "    </tr>\n",
       "    <tr>\n",
       "      <th>4</th>\n",
       "      <td>Organic Search</td>\n",
       "      <td>[{'index': '4', 'value': 'Central America'}]</td>\n",
       "      <td>2017-10-16</td>\n",
       "      <td>{\"browser\": \"Chrome\", \"browserVersion\": \"not a...</td>\n",
       "      <td>6960673291025684308</td>\n",
       "      <td>{\"continent\": \"Americas\", \"subContinent\": \"Cen...</td>\n",
       "      <td>[{'hitNumber': '1', 'time': '0', 'hour': '14',...</td>\n",
       "      <td>Not Socially Engaged</td>\n",
       "      <td>{\"visits\": \"1\", \"hits\": \"2\", \"pageviews\": \"2\",...</td>\n",
       "      <td>{\"campaign\": \"(not set)\", \"source\": \"google\", ...</td>\n",
       "      <td>1508190552</td>\n",
       "      <td>1</td>\n",
       "      <td>1508190552</td>\n",
       "    </tr>\n",
       "  </tbody>\n",
       "</table>\n",
       "</div>"
      ],
      "text/plain": [
       "  channelGrouping                              customDimensions       date  \\\n",
       "0  Organic Search             [{'index': '4', 'value': 'EMEA'}] 2017-10-16   \n",
       "1        Referral    [{'index': '4', 'value': 'North America'}] 2017-10-16   \n",
       "2          Direct    [{'index': '4', 'value': 'North America'}] 2017-10-16   \n",
       "3  Organic Search             [{'index': '4', 'value': 'EMEA'}] 2017-10-16   \n",
       "4  Organic Search  [{'index': '4', 'value': 'Central America'}] 2017-10-16   \n",
       "\n",
       "                                              device        fullVisitorId  \\\n",
       "0  {\"browser\": \"Firefox\", \"browserVersion\": \"not ...  3162355547410993243   \n",
       "1  {\"browser\": \"Chrome\", \"browserVersion\": \"not a...  8934116514970143966   \n",
       "2  {\"browser\": \"Chrome\", \"browserVersion\": \"not a...  7992466427990357681   \n",
       "3  {\"browser\": \"Chrome\", \"browserVersion\": \"not a...  9075655783635761930   \n",
       "4  {\"browser\": \"Chrome\", \"browserVersion\": \"not a...  6960673291025684308   \n",
       "\n",
       "                                          geoNetwork  \\\n",
       "0  {\"continent\": \"Europe\", \"subContinent\": \"Weste...   \n",
       "1  {\"continent\": \"Americas\", \"subContinent\": \"Nor...   \n",
       "2  {\"continent\": \"Americas\", \"subContinent\": \"Nor...   \n",
       "3  {\"continent\": \"Asia\", \"subContinent\": \"Western...   \n",
       "4  {\"continent\": \"Americas\", \"subContinent\": \"Cen...   \n",
       "\n",
       "                                                hits  socialEngagementType  \\\n",
       "0  [{'hitNumber': '1', 'time': '0', 'hour': '17',...  Not Socially Engaged   \n",
       "1  [{'hitNumber': '1', 'time': '0', 'hour': '10',...  Not Socially Engaged   \n",
       "2  [{'hitNumber': '1', 'time': '0', 'hour': '17',...  Not Socially Engaged   \n",
       "3  [{'hitNumber': '1', 'time': '0', 'hour': '9', ...  Not Socially Engaged   \n",
       "4  [{'hitNumber': '1', 'time': '0', 'hour': '14',...  Not Socially Engaged   \n",
       "\n",
       "                                              totals  \\\n",
       "0  {\"visits\": \"1\", \"hits\": \"1\", \"pageviews\": \"1\",...   \n",
       "1  {\"visits\": \"1\", \"hits\": \"2\", \"pageviews\": \"2\",...   \n",
       "2  {\"visits\": \"1\", \"hits\": \"2\", \"pageviews\": \"2\",...   \n",
       "3  {\"visits\": \"1\", \"hits\": \"2\", \"pageviews\": \"2\",...   \n",
       "4  {\"visits\": \"1\", \"hits\": \"2\", \"pageviews\": \"2\",...   \n",
       "\n",
       "                                       trafficSource     visitId  visitNumber  \\\n",
       "0  {\"campaign\": \"(not set)\", \"source\": \"google\", ...  1508198450            1   \n",
       "1  {\"referralPath\": \"/a/google.com/transportation...  1508176307            6   \n",
       "2  {\"campaign\": \"(not set)\", \"source\": \"(direct)\"...  1508201613            1   \n",
       "3  {\"campaign\": \"(not set)\", \"source\": \"google\", ...  1508169851            1   \n",
       "4  {\"campaign\": \"(not set)\", \"source\": \"google\", ...  1508190552            1   \n",
       "\n",
       "   visitStartTime  \n",
       "0      1508198450  \n",
       "1      1508176307  \n",
       "2      1508201613  \n",
       "3      1508169851  \n",
       "4      1508190552  "
      ]
     },
     "execution_count": 3,
     "metadata": {},
     "output_type": "execute_result"
    }
   ],
   "source": [
    "raw_train = pd.read_csv('train_v2.csv', parse_dates=['date'],dtype={'fullVisitorId':'object'})\n",
    "raw_train.head()"
   ]
  },
  {
   "cell_type": "code",
   "execution_count": 4,
   "metadata": {},
   "outputs": [
    {
     "name": "stdout",
     "output_type": "stream",
     "text": [
      "<class 'pandas.core.frame.DataFrame'>\n",
      "RangeIndex: 1708337 entries, 0 to 1708336\n",
      "Data columns (total 13 columns):\n",
      " #   Column                Dtype         \n",
      "---  ------                -----         \n",
      " 0   channelGrouping       object        \n",
      " 1   customDimensions      object        \n",
      " 2   date                  datetime64[ns]\n",
      " 3   device                object        \n",
      " 4   fullVisitorId         object        \n",
      " 5   geoNetwork            object        \n",
      " 6   hits                  object        \n",
      " 7   socialEngagementType  object        \n",
      " 8   totals                object        \n",
      " 9   trafficSource         object        \n",
      " 10  visitId               int64         \n",
      " 11  visitNumber           int64         \n",
      " 12  visitStartTime        int64         \n",
      "dtypes: datetime64[ns](1), int64(3), object(9)\n",
      "memory usage: 169.4+ MB\n"
     ]
    }
   ],
   "source": [
    "raw_train.info()"
   ]
  },
  {
   "cell_type": "code",
   "execution_count": 5,
   "metadata": {},
   "outputs": [
    {
     "data": {
      "text/plain": [
       "(1708337, 13)"
      ]
     },
     "execution_count": 5,
     "metadata": {},
     "output_type": "execute_result"
    }
   ],
   "source": [
    "raw_train.shape"
   ]
  },
  {
   "cell_type": "code",
   "execution_count": 6,
   "metadata": {},
   "outputs": [],
   "source": [
    "train = raw_train.copy()\n"
   ]
  },
  {
   "cell_type": "markdown",
   "metadata": {},
   "source": [
    "There don't appear to be any nulls, and I have formatted the `date` and `fullVisitorId` columns correctly on the read in.  There are 4 columns that are dictionarys that need to be convereted to a number of columns.  I will create a function to do that now. "
   ]
  },
  {
   "cell_type": "code",
   "execution_count": 7,
   "metadata": {},
   "outputs": [],
   "source": [
    "#dict_cols = ['device','geoNetwork','totals','trafficSource']"
   ]
  },
  {
   "cell_type": "code",
   "execution_count": 8,
   "metadata": {},
   "outputs": [],
   "source": [
    "#train['device'] = train.device.apply(json.loads)"
   ]
  },
  {
   "cell_type": "markdown",
   "metadata": {},
   "source": [
    "For the first of the columns with a dictionary (in string form) from the dataset I will only keep the features that don't say `not available in demo dataset`"
   ]
  },
  {
   "cell_type": "code",
   "execution_count": 9,
   "metadata": {},
   "outputs": [
    {
     "data": {
      "text/plain": [
       "'{\"browser\": \"Firefox\", \"browserVersion\": \"not available in demo dataset\", \"browserSize\": \"not available in demo dataset\", \"operatingSystem\": \"Windows\", \"operatingSystemVersion\": \"not available in demo dataset\", \"isMobile\": false, \"mobileDeviceBranding\": \"not available in demo dataset\", \"mobileDeviceModel\": \"not available in demo dataset\", \"mobileInputSelector\": \"not available in demo dataset\", \"mobileDeviceInfo\": \"not available in demo dataset\", \"mobileDeviceMarketingName\": \"not available in demo dataset\", \"flashVersion\": \"not available in demo dataset\", \"language\": \"not available in demo dataset\", \"screenColors\": \"not available in demo dataset\", \"screenResolution\": \"not available in demo dataset\", \"deviceCategory\": \"desktop\"}'"
      ]
     },
     "execution_count": 9,
     "metadata": {},
     "output_type": "execute_result"
    }
   ],
   "source": [
    "train.loc[0,'device']"
   ]
  },
  {
   "cell_type": "code",
   "execution_count": 10,
   "metadata": {},
   "outputs": [],
   "source": [
    "train['device'] = train['device'].apply(json.loads)\n",
    "### apply json.loads function to convert string to dictionary"
   ]
  },
  {
   "cell_type": "code",
   "execution_count": 11,
   "metadata": {},
   "outputs": [
    {
     "data": {
      "text/plain": [
       "{'browser': 'Firefox',\n",
       " 'browserVersion': 'not available in demo dataset',\n",
       " 'browserSize': 'not available in demo dataset',\n",
       " 'operatingSystem': 'Windows',\n",
       " 'operatingSystemVersion': 'not available in demo dataset',\n",
       " 'isMobile': False,\n",
       " 'mobileDeviceBranding': 'not available in demo dataset',\n",
       " 'mobileDeviceModel': 'not available in demo dataset',\n",
       " 'mobileInputSelector': 'not available in demo dataset',\n",
       " 'mobileDeviceInfo': 'not available in demo dataset',\n",
       " 'mobileDeviceMarketingName': 'not available in demo dataset',\n",
       " 'flashVersion': 'not available in demo dataset',\n",
       " 'language': 'not available in demo dataset',\n",
       " 'screenColors': 'not available in demo dataset',\n",
       " 'screenResolution': 'not available in demo dataset',\n",
       " 'deviceCategory': 'desktop'}"
      ]
     },
     "execution_count": 11,
     "metadata": {},
     "output_type": "execute_result"
    }
   ],
   "source": [
    "train.loc[0,'device']"
   ]
  },
  {
   "cell_type": "code",
   "execution_count": 12,
   "metadata": {},
   "outputs": [],
   "source": [
    "device_cols = ['browser','operatingSystem','isMobile','deviceCategory']"
   ]
  },
  {
   "cell_type": "code",
   "execution_count": 13,
   "metadata": {},
   "outputs": [],
   "source": [
    "for c in device_cols:\n",
    "    train[c] = train['device'].apply(lambda x: x.get(c,np.nan))"
   ]
  },
  {
   "cell_type": "code",
   "execution_count": 14,
   "metadata": {},
   "outputs": [
    {
     "data": {
      "text/html": [
       "<div>\n",
       "<style scoped>\n",
       "    .dataframe tbody tr th:only-of-type {\n",
       "        vertical-align: middle;\n",
       "    }\n",
       "\n",
       "    .dataframe tbody tr th {\n",
       "        vertical-align: top;\n",
       "    }\n",
       "\n",
       "    .dataframe thead th {\n",
       "        text-align: right;\n",
       "    }\n",
       "</style>\n",
       "<table border=\"1\" class=\"dataframe\">\n",
       "  <thead>\n",
       "    <tr style=\"text-align: right;\">\n",
       "      <th></th>\n",
       "      <th>browser</th>\n",
       "      <th>operatingSystem</th>\n",
       "      <th>isMobile</th>\n",
       "      <th>deviceCategory</th>\n",
       "    </tr>\n",
       "  </thead>\n",
       "  <tbody>\n",
       "    <tr>\n",
       "      <th>0</th>\n",
       "      <td>Firefox</td>\n",
       "      <td>Windows</td>\n",
       "      <td>False</td>\n",
       "      <td>desktop</td>\n",
       "    </tr>\n",
       "    <tr>\n",
       "      <th>1</th>\n",
       "      <td>Chrome</td>\n",
       "      <td>Chrome OS</td>\n",
       "      <td>False</td>\n",
       "      <td>desktop</td>\n",
       "    </tr>\n",
       "    <tr>\n",
       "      <th>2</th>\n",
       "      <td>Chrome</td>\n",
       "      <td>Android</td>\n",
       "      <td>True</td>\n",
       "      <td>mobile</td>\n",
       "    </tr>\n",
       "    <tr>\n",
       "      <th>3</th>\n",
       "      <td>Chrome</td>\n",
       "      <td>Windows</td>\n",
       "      <td>False</td>\n",
       "      <td>desktop</td>\n",
       "    </tr>\n",
       "    <tr>\n",
       "      <th>4</th>\n",
       "      <td>Chrome</td>\n",
       "      <td>Windows</td>\n",
       "      <td>False</td>\n",
       "      <td>desktop</td>\n",
       "    </tr>\n",
       "    <tr>\n",
       "      <th>...</th>\n",
       "      <td>...</td>\n",
       "      <td>...</td>\n",
       "      <td>...</td>\n",
       "      <td>...</td>\n",
       "    </tr>\n",
       "    <tr>\n",
       "      <th>1708332</th>\n",
       "      <td>Chrome</td>\n",
       "      <td>Windows</td>\n",
       "      <td>False</td>\n",
       "      <td>desktop</td>\n",
       "    </tr>\n",
       "    <tr>\n",
       "      <th>1708333</th>\n",
       "      <td>Chrome</td>\n",
       "      <td>Android</td>\n",
       "      <td>True</td>\n",
       "      <td>mobile</td>\n",
       "    </tr>\n",
       "    <tr>\n",
       "      <th>1708334</th>\n",
       "      <td>Android Webview</td>\n",
       "      <td>Android</td>\n",
       "      <td>True</td>\n",
       "      <td>mobile</td>\n",
       "    </tr>\n",
       "    <tr>\n",
       "      <th>1708335</th>\n",
       "      <td>Chrome</td>\n",
       "      <td>Windows</td>\n",
       "      <td>False</td>\n",
       "      <td>desktop</td>\n",
       "    </tr>\n",
       "    <tr>\n",
       "      <th>1708336</th>\n",
       "      <td>Chrome</td>\n",
       "      <td>Android</td>\n",
       "      <td>True</td>\n",
       "      <td>mobile</td>\n",
       "    </tr>\n",
       "  </tbody>\n",
       "</table>\n",
       "<p>1708337 rows × 4 columns</p>\n",
       "</div>"
      ],
      "text/plain": [
       "                 browser operatingSystem  isMobile deviceCategory\n",
       "0                Firefox         Windows     False        desktop\n",
       "1                 Chrome       Chrome OS     False        desktop\n",
       "2                 Chrome         Android      True         mobile\n",
       "3                 Chrome         Windows     False        desktop\n",
       "4                 Chrome         Windows     False        desktop\n",
       "...                  ...             ...       ...            ...\n",
       "1708332           Chrome         Windows     False        desktop\n",
       "1708333           Chrome         Android      True         mobile\n",
       "1708334  Android Webview         Android      True         mobile\n",
       "1708335           Chrome         Windows     False        desktop\n",
       "1708336           Chrome         Android      True         mobile\n",
       "\n",
       "[1708337 rows x 4 columns]"
      ]
     },
     "execution_count": 14,
     "metadata": {},
     "output_type": "execute_result"
    }
   ],
   "source": [
    "train[device_cols]"
   ]
  },
  {
   "cell_type": "code",
   "execution_count": 15,
   "metadata": {},
   "outputs": [
    {
     "data": {
      "text/plain": [
       "browser            object\n",
       "operatingSystem    object\n",
       "isMobile             bool\n",
       "deviceCategory     object\n",
       "dtype: object"
      ]
     },
     "execution_count": 15,
     "metadata": {},
     "output_type": "execute_result"
    }
   ],
   "source": [
    "train[device_cols].dtypes"
   ]
  },
  {
   "cell_type": "markdown",
   "metadata": {},
   "source": [
    "That looks almost perfect for the `device` column.  Eventually the `isMobile` column will need to be converted to 0's and 1's, so I'll do that now."
   ]
  },
  {
   "cell_type": "code",
   "execution_count": 16,
   "metadata": {},
   "outputs": [
    {
     "data": {
      "text/plain": [
       "0.314145862321076"
      ]
     },
     "execution_count": 16,
     "metadata": {},
     "output_type": "execute_result"
    }
   ],
   "source": [
    "train['isMobile'] = train['isMobile']*1\n",
    "train['isMobile'].mean()"
   ]
  },
  {
   "cell_type": "markdown",
   "metadata": {},
   "source": [
    "Done.  It looks like 31% of the records come from mobile devices."
   ]
  },
  {
   "cell_type": "markdown",
   "metadata": {},
   "source": [
    "Now I can process the `geoNetwork` column the same way."
   ]
  },
  {
   "cell_type": "code",
   "execution_count": 17,
   "metadata": {},
   "outputs": [
    {
     "data": {
      "text/plain": [
       "{'continent': 'Europe',\n",
       " 'subContinent': 'Western Europe',\n",
       " 'country': 'Germany',\n",
       " 'region': 'not available in demo dataset',\n",
       " 'metro': 'not available in demo dataset',\n",
       " 'city': 'not available in demo dataset',\n",
       " 'cityId': 'not available in demo dataset',\n",
       " 'networkDomain': '(not set)',\n",
       " 'latitude': 'not available in demo dataset',\n",
       " 'longitude': 'not available in demo dataset',\n",
       " 'networkLocation': 'not available in demo dataset'}"
      ]
     },
     "execution_count": 17,
     "metadata": {},
     "output_type": "execute_result"
    }
   ],
   "source": [
    "train['geoNetwork'] = train['geoNetwork'].apply(json.loads)\n",
    "train.loc[0,'geoNetwork']"
   ]
  },
  {
   "cell_type": "code",
   "execution_count": 18,
   "metadata": {},
   "outputs": [],
   "source": [
    "geoNet_cols = ['continent','subContinent','country','region','metro','city','networkDomain']"
   ]
  },
  {
   "cell_type": "code",
   "execution_count": 19,
   "metadata": {},
   "outputs": [],
   "source": [
    "for c in geoNet_cols:\n",
    "    train[c] = train['geoNetwork'].apply(lambda x: x.get(c,np.nan))"
   ]
  },
  {
   "cell_type": "code",
   "execution_count": 20,
   "metadata": {},
   "outputs": [
    {
     "data": {
      "text/plain": [
       "continent        object\n",
       "subContinent     object\n",
       "country          object\n",
       "region           object\n",
       "metro            object\n",
       "city             object\n",
       "networkDomain    object\n",
       "dtype: object"
      ]
     },
     "execution_count": 20,
     "metadata": {},
     "output_type": "execute_result"
    }
   ],
   "source": [
    "train[geoNet_cols].dtypes"
   ]
  },
  {
   "cell_type": "code",
   "execution_count": 21,
   "metadata": {},
   "outputs": [
    {
     "data": {
      "text/plain": [
       "continent        0\n",
       "subContinent     0\n",
       "country          0\n",
       "region           0\n",
       "metro            0\n",
       "city             0\n",
       "networkDomain    0\n",
       "dtype: int64"
      ]
     },
     "execution_count": 21,
     "metadata": {},
     "output_type": "execute_result"
    }
   ],
   "source": [
    "train[geoNet_cols].isna().sum()"
   ]
  },
  {
   "cell_type": "markdown",
   "metadata": {},
   "source": [
    "Job done, column types are correct and no nulls.  Now I'll skip `totals` and deal with `trafficSource`."
   ]
  },
  {
   "cell_type": "code",
   "execution_count": 22,
   "metadata": {},
   "outputs": [
    {
     "data": {
      "text/plain": [
       "{'campaign': '(not set)',\n",
       " 'source': 'google',\n",
       " 'medium': 'organic',\n",
       " 'keyword': 'water bottle',\n",
       " 'adwordsClickInfo': {'criteriaParameters': 'not available in demo dataset'}}"
      ]
     },
     "execution_count": 22,
     "metadata": {},
     "output_type": "execute_result"
    }
   ],
   "source": [
    "train['trafficSource'] = train['trafficSource'].apply(json.loads)\n",
    "train.loc[0,'trafficSource']"
   ]
  },
  {
   "cell_type": "code",
   "execution_count": 23,
   "metadata": {},
   "outputs": [],
   "source": [
    "traffic_cols = ['campaign','source','medium','keyword']"
   ]
  },
  {
   "cell_type": "code",
   "execution_count": 24,
   "metadata": {},
   "outputs": [],
   "source": [
    "for c in traffic_cols:\n",
    "    train[c] = train['trafficSource'].apply(lambda x: x.get(c,np.nan))"
   ]
  },
  {
   "cell_type": "code",
   "execution_count": 25,
   "metadata": {},
   "outputs": [
    {
     "data": {
      "text/plain": [
       "campaign    object\n",
       "source      object\n",
       "medium      object\n",
       "keyword     object\n",
       "dtype: object"
      ]
     },
     "execution_count": 25,
     "metadata": {},
     "output_type": "execute_result"
    }
   ],
   "source": [
    "train[traffic_cols].dtypes"
   ]
  },
  {
   "cell_type": "code",
   "execution_count": 26,
   "metadata": {},
   "outputs": [
    {
     "data": {
      "text/plain": [
       "campaign    0.00000\n",
       "source      0.00000\n",
       "medium      0.00000\n",
       "keyword     0.61626\n",
       "dtype: float64"
      ]
     },
     "execution_count": 26,
     "metadata": {},
     "output_type": "execute_result"
    }
   ],
   "source": [
    "train[traffic_cols].isna().sum()/train.shape[0]"
   ]
  },
  {
   "cell_type": "markdown",
   "metadata": {},
   "source": [
    "Job done."
   ]
  },
  {
   "cell_type": "markdown",
   "metadata": {},
   "source": [
    "Now for `totals` which also happens to have the target for this project `transactionRevenue`, the amount of money spent at the GStore. I assume where this is not present in the record, there was no purchase made."
   ]
  },
  {
   "cell_type": "code",
   "execution_count": 27,
   "metadata": {},
   "outputs": [
    {
     "data": {
      "text/plain": [
       "{'visits': '1',\n",
       " 'hits': '1',\n",
       " 'pageviews': '1',\n",
       " 'bounces': '1',\n",
       " 'newVisits': '1',\n",
       " 'sessionQualityDim': '1'}"
      ]
     },
     "execution_count": 27,
     "metadata": {},
     "output_type": "execute_result"
    }
   ],
   "source": [
    "train['totals'] = train['totals'].apply(json.loads)\n",
    "train.loc[0,'totals']"
   ]
  },
  {
   "cell_type": "code",
   "execution_count": 28,
   "metadata": {},
   "outputs": [],
   "source": [
    "totals_cols = ['visits','hits','pageviews','bounces','newVisits','sessionQualityDim','transactionRevenue']"
   ]
  },
  {
   "cell_type": "code",
   "execution_count": 29,
   "metadata": {},
   "outputs": [],
   "source": [
    "for c in totals_cols:\n",
    "    train[c] = train['totals'].apply(lambda x: x.get(c,0))"
   ]
  },
  {
   "cell_type": "code",
   "execution_count": 30,
   "metadata": {},
   "outputs": [],
   "source": [
    "### Correct the data type for the latest created columns\n",
    "for c in totals_cols:\n",
    "    train[c] = pd.to_numeric(train[c])"
   ]
  },
  {
   "cell_type": "code",
   "execution_count": 31,
   "metadata": {},
   "outputs": [
    {
     "data": {
      "text/html": [
       "<div>\n",
       "<style scoped>\n",
       "    .dataframe tbody tr th:only-of-type {\n",
       "        vertical-align: middle;\n",
       "    }\n",
       "\n",
       "    .dataframe tbody tr th {\n",
       "        vertical-align: top;\n",
       "    }\n",
       "\n",
       "    .dataframe thead th {\n",
       "        text-align: right;\n",
       "    }\n",
       "</style>\n",
       "<table border=\"1\" class=\"dataframe\">\n",
       "  <thead>\n",
       "    <tr style=\"text-align: right;\">\n",
       "      <th></th>\n",
       "      <th>transactionRevenue</th>\n",
       "    </tr>\n",
       "    <tr>\n",
       "      <th>fullVisitorId</th>\n",
       "      <th></th>\n",
       "    </tr>\n",
       "  </thead>\n",
       "  <tbody>\n",
       "    <tr>\n",
       "      <th>1957458976293878100</th>\n",
       "      <td>119851560000</td>\n",
       "    </tr>\n",
       "    <tr>\n",
       "      <th>5632276788326171571</th>\n",
       "      <td>16023750000</td>\n",
       "    </tr>\n",
       "    <tr>\n",
       "      <th>9417857471295131045</th>\n",
       "      <td>15170120000</td>\n",
       "    </tr>\n",
       "    <tr>\n",
       "      <th>4471415710206918415</th>\n",
       "      <td>11211100000</td>\n",
       "    </tr>\n",
       "    <tr>\n",
       "      <th>4984366501121503466</th>\n",
       "      <td>9513900000</td>\n",
       "    </tr>\n",
       "    <tr>\n",
       "      <th>7311242886083854158</th>\n",
       "      <td>9507410000</td>\n",
       "    </tr>\n",
       "    <tr>\n",
       "      <th>9089132392240687728</th>\n",
       "      <td>8951970000</td>\n",
       "    </tr>\n",
       "    <tr>\n",
       "      <th>5469079519715865124</th>\n",
       "      <td>8820710000</td>\n",
       "    </tr>\n",
       "    <tr>\n",
       "      <th>2050125810100188362</th>\n",
       "      <td>8672970000</td>\n",
       "    </tr>\n",
       "    <tr>\n",
       "      <th>1735639359262605484</th>\n",
       "      <td>7913850000</td>\n",
       "    </tr>\n",
       "  </tbody>\n",
       "</table>\n",
       "</div>"
      ],
      "text/plain": [
       "                     transactionRevenue\n",
       "fullVisitorId                          \n",
       "1957458976293878100        119851560000\n",
       "5632276788326171571         16023750000\n",
       "9417857471295131045         15170120000\n",
       "4471415710206918415         11211100000\n",
       "4984366501121503466          9513900000\n",
       "7311242886083854158          9507410000\n",
       "9089132392240687728          8951970000\n",
       "5469079519715865124          8820710000\n",
       "2050125810100188362          8672970000\n",
       "1735639359262605484          7913850000"
      ]
     },
     "execution_count": 31,
     "metadata": {},
     "output_type": "execute_result"
    }
   ],
   "source": [
    "### Quick look at the transactionRevenue by top spenders\n",
    "train.groupby('fullVisitorId')[['transactionRevenue']].sum().sort_values('transactionRevenue',ascending=False).head(10)"
   ]
  },
  {
   "cell_type": "markdown",
   "metadata": {},
   "source": [
    "Woah these numbers look way too big... $119 trillion????\n",
    "\n",
    "I found a discussion thread saying that units are actually $1*10^6.  I will leave the numbers for now, but will need to change for plotting later. "
   ]
  },
  {
   "cell_type": "markdown",
   "metadata": {},
   "source": [
    "Finally I will fix the `customDimensions` column"
   ]
  },
  {
   "cell_type": "code",
   "execution_count": 38,
   "metadata": {},
   "outputs": [
    {
     "data": {
      "text/plain": [
       "\"[{'index': '4', 'value': 'EMEA'}]\""
      ]
     },
     "execution_count": 38,
     "metadata": {},
     "output_type": "execute_result"
    }
   ],
   "source": [
    "#train['customDimensions'] = train['customDimensions'].apply(json.loads)\n",
    "train.loc[0,'customDimensions']"
   ]
  },
  {
   "cell_type": "markdown",
   "metadata": {},
   "source": [
    "Now I can drop the 4 columns that I extracted sub columns out of"
   ]
  },
  {
   "cell_type": "code",
   "execution_count": 32,
   "metadata": {},
   "outputs": [],
   "source": [
    "train = train.drop(['device','geoNetwork','totals','trafficSource'],axis=1)"
   ]
  },
  {
   "cell_type": "code",
   "execution_count": 33,
   "metadata": {},
   "outputs": [
    {
     "name": "stdout",
     "output_type": "stream",
     "text": [
      "<class 'pandas.core.frame.DataFrame'>\n",
      "RangeIndex: 1708337 entries, 0 to 1708336\n",
      "Data columns (total 30 columns):\n",
      " #   Column                Dtype         \n",
      "---  ------                -----         \n",
      " 0   channelGrouping       object        \n",
      " 1   customDimensions      object        \n",
      " 2   date                  datetime64[ns]\n",
      " 3   fullVisitorId         object        \n",
      " 4   hits                  int64         \n",
      " 5   socialEngagementType  object        \n",
      " 6   visitId               int64         \n",
      " 7   visitNumber           int64         \n",
      " 8   visitStartTime        int64         \n",
      " 9   browser               object        \n",
      " 10  operatingSystem       object        \n",
      " 11  isMobile              int32         \n",
      " 12  deviceCategory        object        \n",
      " 13  continent             object        \n",
      " 14  subContinent          object        \n",
      " 15  country               object        \n",
      " 16  region                object        \n",
      " 17  metro                 object        \n",
      " 18  city                  object        \n",
      " 19  networkDomain         object        \n",
      " 20  campaign              object        \n",
      " 21  source                object        \n",
      " 22  medium                object        \n",
      " 23  keyword               object        \n",
      " 24  visits                int64         \n",
      " 25  pageviews             int64         \n",
      " 26  bounces               int64         \n",
      " 27  newVisits             int64         \n",
      " 28  sessionQualityDim     int64         \n",
      " 29  transactionRevenue    int64         \n",
      "dtypes: datetime64[ns](1), int32(1), int64(10), object(18)\n",
      "memory usage: 384.5+ MB\n"
     ]
    }
   ],
   "source": [
    "train.info()"
   ]
  },
  {
   "cell_type": "markdown",
   "metadata": {},
   "source": [
    "Is there some redundancy here in the visits columns? I'll take a look"
   ]
  },
  {
   "cell_type": "code",
   "execution_count": 34,
   "metadata": {},
   "outputs": [
    {
     "data": {
      "text/html": [
       "<div>\n",
       "<style scoped>\n",
       "    .dataframe tbody tr th:only-of-type {\n",
       "        vertical-align: middle;\n",
       "    }\n",
       "\n",
       "    .dataframe tbody tr th {\n",
       "        vertical-align: top;\n",
       "    }\n",
       "\n",
       "    .dataframe thead th {\n",
       "        text-align: right;\n",
       "    }\n",
       "</style>\n",
       "<table border=\"1\" class=\"dataframe\">\n",
       "  <thead>\n",
       "    <tr style=\"text-align: right;\">\n",
       "      <th></th>\n",
       "      <th>fullVisitorId</th>\n",
       "      <th>visitId</th>\n",
       "      <th>visitNumber</th>\n",
       "      <th>visitStartTime</th>\n",
       "      <th>visits</th>\n",
       "      <th>hits</th>\n",
       "      <th>pageviews</th>\n",
       "      <th>bounces</th>\n",
       "      <th>newVisits</th>\n",
       "      <th>transactionRevenue</th>\n",
       "    </tr>\n",
       "  </thead>\n",
       "  <tbody>\n",
       "    <tr>\n",
       "      <th>683687</th>\n",
       "      <td>0000000259678714014</td>\n",
       "      <td>1511912001</td>\n",
       "      <td>1</td>\n",
       "      <td>1511912001</td>\n",
       "      <td>1</td>\n",
       "      <td>3</td>\n",
       "      <td>3</td>\n",
       "      <td>0</td>\n",
       "      <td>1</td>\n",
       "      <td>0</td>\n",
       "    </tr>\n",
       "    <tr>\n",
       "      <th>680923</th>\n",
       "      <td>0000000259678714014</td>\n",
       "      <td>1511914780</td>\n",
       "      <td>2</td>\n",
       "      <td>1511914780</td>\n",
       "      <td>1</td>\n",
       "      <td>16</td>\n",
       "      <td>10</td>\n",
       "      <td>0</td>\n",
       "      <td>0</td>\n",
       "      <td>0</td>\n",
       "    </tr>\n",
       "    <tr>\n",
       "      <th>379656</th>\n",
       "      <td>0000010278554503158</td>\n",
       "      <td>1477029466</td>\n",
       "      <td>1</td>\n",
       "      <td>1477029466</td>\n",
       "      <td>1</td>\n",
       "      <td>11</td>\n",
       "      <td>8</td>\n",
       "      <td>0</td>\n",
       "      <td>1</td>\n",
       "      <td>0</td>\n",
       "    </tr>\n",
       "    <tr>\n",
       "      <th>168926</th>\n",
       "      <td>0000020424342248747</td>\n",
       "      <td>1480578901</td>\n",
       "      <td>1</td>\n",
       "      <td>1480578901</td>\n",
       "      <td>1</td>\n",
       "      <td>17</td>\n",
       "      <td>13</td>\n",
       "      <td>0</td>\n",
       "      <td>1</td>\n",
       "      <td>0</td>\n",
       "    </tr>\n",
       "    <tr>\n",
       "      <th>1260547</th>\n",
       "      <td>0000027376579751715</td>\n",
       "      <td>1486866293</td>\n",
       "      <td>1</td>\n",
       "      <td>1486866293</td>\n",
       "      <td>1</td>\n",
       "      <td>6</td>\n",
       "      <td>5</td>\n",
       "      <td>0</td>\n",
       "      <td>1</td>\n",
       "      <td>0</td>\n",
       "    </tr>\n",
       "    <tr>\n",
       "      <th>...</th>\n",
       "      <td>...</td>\n",
       "      <td>...</td>\n",
       "      <td>...</td>\n",
       "      <td>...</td>\n",
       "      <td>...</td>\n",
       "      <td>...</td>\n",
       "      <td>...</td>\n",
       "      <td>...</td>\n",
       "      <td>...</td>\n",
       "      <td>...</td>\n",
       "    </tr>\n",
       "    <tr>\n",
       "      <th>1132625</th>\n",
       "      <td>9999978264901065827</td>\n",
       "      <td>1485325580</td>\n",
       "      <td>1</td>\n",
       "      <td>1485325580</td>\n",
       "      <td>1</td>\n",
       "      <td>1</td>\n",
       "      <td>1</td>\n",
       "      <td>1</td>\n",
       "      <td>1</td>\n",
       "      <td>0</td>\n",
       "    </tr>\n",
       "    <tr>\n",
       "      <th>1092080</th>\n",
       "      <td>9999985820452794361</td>\n",
       "      <td>1524174443</td>\n",
       "      <td>2</td>\n",
       "      <td>1524174443</td>\n",
       "      <td>1</td>\n",
       "      <td>5</td>\n",
       "      <td>5</td>\n",
       "      <td>0</td>\n",
       "      <td>0</td>\n",
       "      <td>0</td>\n",
       "    </tr>\n",
       "    <tr>\n",
       "      <th>1092135</th>\n",
       "      <td>9999985820452794361</td>\n",
       "      <td>1524173872</td>\n",
       "      <td>1</td>\n",
       "      <td>1524173872</td>\n",
       "      <td>1</td>\n",
       "      <td>6</td>\n",
       "      <td>6</td>\n",
       "      <td>0</td>\n",
       "      <td>1</td>\n",
       "      <td>0</td>\n",
       "    </tr>\n",
       "    <tr>\n",
       "      <th>256613</th>\n",
       "      <td>9999986437109498564</td>\n",
       "      <td>1491867670</td>\n",
       "      <td>1</td>\n",
       "      <td>1491867670</td>\n",
       "      <td>1</td>\n",
       "      <td>2</td>\n",
       "      <td>2</td>\n",
       "      <td>0</td>\n",
       "      <td>1</td>\n",
       "      <td>0</td>\n",
       "    </tr>\n",
       "    <tr>\n",
       "      <th>988316</th>\n",
       "      <td>9999997304197521748</td>\n",
       "      <td>1508004130</td>\n",
       "      <td>1</td>\n",
       "      <td>1508004130</td>\n",
       "      <td>1</td>\n",
       "      <td>3</td>\n",
       "      <td>3</td>\n",
       "      <td>0</td>\n",
       "      <td>1</td>\n",
       "      <td>0</td>\n",
       "    </tr>\n",
       "  </tbody>\n",
       "</table>\n",
       "<p>1708337 rows × 10 columns</p>\n",
       "</div>"
      ],
      "text/plain": [
       "               fullVisitorId     visitId  visitNumber  visitStartTime  visits  \\\n",
       "683687   0000000259678714014  1511912001            1      1511912001       1   \n",
       "680923   0000000259678714014  1511914780            2      1511914780       1   \n",
       "379656   0000010278554503158  1477029466            1      1477029466       1   \n",
       "168926   0000020424342248747  1480578901            1      1480578901       1   \n",
       "1260547  0000027376579751715  1486866293            1      1486866293       1   \n",
       "...                      ...         ...          ...             ...     ...   \n",
       "1132625  9999978264901065827  1485325580            1      1485325580       1   \n",
       "1092080  9999985820452794361  1524174443            2      1524174443       1   \n",
       "1092135  9999985820452794361  1524173872            1      1524173872       1   \n",
       "256613   9999986437109498564  1491867670            1      1491867670       1   \n",
       "988316   9999997304197521748  1508004130            1      1508004130       1   \n",
       "\n",
       "         hits  pageviews  bounces  newVisits  transactionRevenue  \n",
       "683687      3          3        0          1                   0  \n",
       "680923     16         10        0          0                   0  \n",
       "379656     11          8        0          1                   0  \n",
       "168926     17         13        0          1                   0  \n",
       "1260547     6          5        0          1                   0  \n",
       "...       ...        ...      ...        ...                 ...  \n",
       "1132625     1          1        1          1                   0  \n",
       "1092080     5          5        0          0                   0  \n",
       "1092135     6          6        0          1                   0  \n",
       "256613      2          2        0          1                   0  \n",
       "988316      3          3        0          1                   0  \n",
       "\n",
       "[1708337 rows x 10 columns]"
      ]
     },
     "execution_count": 34,
     "metadata": {},
     "output_type": "execute_result"
    }
   ],
   "source": [
    "train[['fullVisitorId','visitId','visitNumber','visitStartTime','visits','hits','pageviews','bounces','newVisits','transactionRevenue']].sort_values('fullVisitorId')"
   ]
  },
  {
   "cell_type": "markdown",
   "metadata": {},
   "source": [
    "For my own reference a few definitions for these columns from www.tendenci.com\n",
    "\n",
    "\"\"\"\n",
    "1. __Visit__ - This is the one piece of information that you really want to know. A visit is one individual visitor who arrives at your web site and proceeds to browse. A visit counts all visitors, no matter how many times the same visitor may have been to your site.\n",
    " \n",
    "2. __Unique Visit/New Visit__ - This is also called Visit by Cookie. A unique visit will tell you which visits from item 1 are visiting your site for the first time. The website can track this as unique by the IP address of the computer. *The number of unique visits will be far less that visits because a unique visit is only tracked if cookies are enabled on the visitors computer*\n",
    " \n",
    "3. __Page View__ - This is also called Impression.  Once a visitor arrives at your website, they will search around on a few more pages. On average, a visitor will look at about 2.5 pages. Each individual page a visitor views is tracked as a page view.\n",
    " \n",
    "4. __Hits__ - The real Black Sheep in the family. The average website owner thinks that a hit means a visit but it is very different (see item 1).  A Hit actually refers to the number of files downloaded on your site, this could include photos, graphics, etc. Picture the average web page, it has photos (each photo is a file and hence a hit) and lots of buttons (each button is a file and hence a hit). On average, each page will include 15 hits.\n",
    " \n",
    "To give you an example -  Using the average statistics listed above, 1 Visit to an average web site will generate 3 Page Views and 45 Hits.\n",
    " \n",
    "\"\"\"\n",
    "\n",
    "Also from webtrafficgeeks.org\n",
    "\n",
    "__Bounce__ = user left the website without clicking further\n"
   ]
  },
  {
   "cell_type": "code",
   "execution_count": 35,
   "metadata": {},
   "outputs": [
    {
     "data": {
      "text/html": [
       "<div>\n",
       "<style scoped>\n",
       "    .dataframe tbody tr th:only-of-type {\n",
       "        vertical-align: middle;\n",
       "    }\n",
       "\n",
       "    .dataframe tbody tr th {\n",
       "        vertical-align: top;\n",
       "    }\n",
       "\n",
       "    .dataframe thead th {\n",
       "        text-align: right;\n",
       "    }\n",
       "</style>\n",
       "<table border=\"1\" class=\"dataframe\">\n",
       "  <thead>\n",
       "    <tr style=\"text-align: right;\">\n",
       "      <th></th>\n",
       "      <th>fullVisitorId</th>\n",
       "      <th>visitNumber</th>\n",
       "      <th>newVisits</th>\n",
       "    </tr>\n",
       "  </thead>\n",
       "  <tbody>\n",
       "    <tr>\n",
       "      <th>1</th>\n",
       "      <td>8934116514970143966</td>\n",
       "      <td>6</td>\n",
       "      <td>0</td>\n",
       "    </tr>\n",
       "    <tr>\n",
       "      <th>9</th>\n",
       "      <td>1259490915281096752</td>\n",
       "      <td>2</td>\n",
       "      <td>0</td>\n",
       "    </tr>\n",
       "    <tr>\n",
       "      <th>13</th>\n",
       "      <td>6135613929977117121</td>\n",
       "      <td>10</td>\n",
       "      <td>0</td>\n",
       "    </tr>\n",
       "    <tr>\n",
       "      <th>24</th>\n",
       "      <td>5634653258298299672</td>\n",
       "      <td>3</td>\n",
       "      <td>0</td>\n",
       "    </tr>\n",
       "    <tr>\n",
       "      <th>29</th>\n",
       "      <td>451521411412093630</td>\n",
       "      <td>3</td>\n",
       "      <td>0</td>\n",
       "    </tr>\n",
       "    <tr>\n",
       "      <th>31</th>\n",
       "      <td>9630953897602496525</td>\n",
       "      <td>2</td>\n",
       "      <td>0</td>\n",
       "    </tr>\n",
       "    <tr>\n",
       "      <th>35</th>\n",
       "      <td>8292302978090732261</td>\n",
       "      <td>4</td>\n",
       "      <td>0</td>\n",
       "    </tr>\n",
       "    <tr>\n",
       "      <th>41</th>\n",
       "      <td>8461088577726398196</td>\n",
       "      <td>6</td>\n",
       "      <td>0</td>\n",
       "    </tr>\n",
       "    <tr>\n",
       "      <th>45</th>\n",
       "      <td>8574773000077178719</td>\n",
       "      <td>2</td>\n",
       "      <td>0</td>\n",
       "    </tr>\n",
       "    <tr>\n",
       "      <th>57</th>\n",
       "      <td>7122741899604173060</td>\n",
       "      <td>14</td>\n",
       "      <td>0</td>\n",
       "    </tr>\n",
       "  </tbody>\n",
       "</table>\n",
       "</div>"
      ],
      "text/plain": [
       "          fullVisitorId  visitNumber  newVisits\n",
       "1   8934116514970143966            6          0\n",
       "9   1259490915281096752            2          0\n",
       "13  6135613929977117121           10          0\n",
       "24  5634653258298299672            3          0\n",
       "29   451521411412093630            3          0\n",
       "31  9630953897602496525            2          0\n",
       "35  8292302978090732261            4          0\n",
       "41  8461088577726398196            6          0\n",
       "45  8574773000077178719            2          0\n",
       "57  7122741899604173060           14          0"
      ]
     },
     "execution_count": 35,
     "metadata": {},
     "output_type": "execute_result"
    }
   ],
   "source": [
    "train[train.visitNumber>1][['fullVisitorId','visitNumber','newVisits']].head(10)"
   ]
  },
  {
   "cell_type": "code",
   "execution_count": 36,
   "metadata": {
    "scrolled": false
   },
   "outputs": [
    {
     "data": {
      "text/html": [
       "<div>\n",
       "<style scoped>\n",
       "    .dataframe tbody tr th:only-of-type {\n",
       "        vertical-align: middle;\n",
       "    }\n",
       "\n",
       "    .dataframe tbody tr th {\n",
       "        vertical-align: top;\n",
       "    }\n",
       "\n",
       "    .dataframe thead th {\n",
       "        text-align: right;\n",
       "    }\n",
       "</style>\n",
       "<table border=\"1\" class=\"dataframe\">\n",
       "  <thead>\n",
       "    <tr style=\"text-align: right;\">\n",
       "      <th></th>\n",
       "      <th>channelGrouping</th>\n",
       "      <th>customDimensions</th>\n",
       "      <th>date</th>\n",
       "      <th>fullVisitorId</th>\n",
       "      <th>hits</th>\n",
       "      <th>socialEngagementType</th>\n",
       "      <th>visitId</th>\n",
       "      <th>visitNumber</th>\n",
       "      <th>visitStartTime</th>\n",
       "      <th>browser</th>\n",
       "      <th>...</th>\n",
       "      <th>campaign</th>\n",
       "      <th>source</th>\n",
       "      <th>medium</th>\n",
       "      <th>keyword</th>\n",
       "      <th>visits</th>\n",
       "      <th>pageviews</th>\n",
       "      <th>bounces</th>\n",
       "      <th>newVisits</th>\n",
       "      <th>sessionQualityDim</th>\n",
       "      <th>transactionRevenue</th>\n",
       "    </tr>\n",
       "  </thead>\n",
       "  <tbody>\n",
       "    <tr>\n",
       "      <th>1420089</th>\n",
       "      <td>Direct</td>\n",
       "      <td>[{'index': '4', 'value': 'North America'}]</td>\n",
       "      <td>2016-08-06</td>\n",
       "      <td>0949718915643445721</td>\n",
       "      <td>1</td>\n",
       "      <td>Not Socially Engaged</td>\n",
       "      <td>1470518725</td>\n",
       "      <td>18</td>\n",
       "      <td>1470518725</td>\n",
       "      <td>Chrome</td>\n",
       "      <td>...</td>\n",
       "      <td>(not set)</td>\n",
       "      <td>(direct)</td>\n",
       "      <td>(none)</td>\n",
       "      <td>NaN</td>\n",
       "      <td>1</td>\n",
       "      <td>1</td>\n",
       "      <td>1</td>\n",
       "      <td>0</td>\n",
       "      <td>0</td>\n",
       "      <td>0</td>\n",
       "    </tr>\n",
       "    <tr>\n",
       "      <th>1420052</th>\n",
       "      <td>Direct</td>\n",
       "      <td>[{'index': '4', 'value': 'North America'}]</td>\n",
       "      <td>2016-08-06</td>\n",
       "      <td>0949718915643445721</td>\n",
       "      <td>1</td>\n",
       "      <td>Not Socially Engaged</td>\n",
       "      <td>1470546023</td>\n",
       "      <td>19</td>\n",
       "      <td>1470546023</td>\n",
       "      <td>Chrome</td>\n",
       "      <td>...</td>\n",
       "      <td>(not set)</td>\n",
       "      <td>(direct)</td>\n",
       "      <td>(none)</td>\n",
       "      <td>NaN</td>\n",
       "      <td>1</td>\n",
       "      <td>1</td>\n",
       "      <td>1</td>\n",
       "      <td>0</td>\n",
       "      <td>0</td>\n",
       "      <td>0</td>\n",
       "    </tr>\n",
       "    <tr>\n",
       "      <th>1693820</th>\n",
       "      <td>Direct</td>\n",
       "      <td>[{'index': '4', 'value': 'North America'}]</td>\n",
       "      <td>2016-08-07</td>\n",
       "      <td>0949718915643445721</td>\n",
       "      <td>1</td>\n",
       "      <td>Not Socially Engaged</td>\n",
       "      <td>1470617387</td>\n",
       "      <td>20</td>\n",
       "      <td>1470617387</td>\n",
       "      <td>Chrome</td>\n",
       "      <td>...</td>\n",
       "      <td>(not set)</td>\n",
       "      <td>(direct)</td>\n",
       "      <td>(none)</td>\n",
       "      <td>NaN</td>\n",
       "      <td>1</td>\n",
       "      <td>1</td>\n",
       "      <td>1</td>\n",
       "      <td>0</td>\n",
       "      <td>0</td>\n",
       "      <td>0</td>\n",
       "    </tr>\n",
       "    <tr>\n",
       "      <th>22738</th>\n",
       "      <td>Direct</td>\n",
       "      <td>[{'index': '4', 'value': 'North America'}]</td>\n",
       "      <td>2016-08-11</td>\n",
       "      <td>0949718915643445721</td>\n",
       "      <td>1</td>\n",
       "      <td>Not Socially Engaged</td>\n",
       "      <td>1470928701</td>\n",
       "      <td>21</td>\n",
       "      <td>1470928701</td>\n",
       "      <td>Chrome</td>\n",
       "      <td>...</td>\n",
       "      <td>(not set)</td>\n",
       "      <td>(direct)</td>\n",
       "      <td>(none)</td>\n",
       "      <td>NaN</td>\n",
       "      <td>1</td>\n",
       "      <td>1</td>\n",
       "      <td>1</td>\n",
       "      <td>0</td>\n",
       "      <td>0</td>\n",
       "      <td>0</td>\n",
       "    </tr>\n",
       "    <tr>\n",
       "      <th>1629799</th>\n",
       "      <td>Direct</td>\n",
       "      <td>[{'index': '4', 'value': 'North America'}]</td>\n",
       "      <td>2016-08-18</td>\n",
       "      <td>0949718915643445721</td>\n",
       "      <td>1</td>\n",
       "      <td>Not Socially Engaged</td>\n",
       "      <td>1471573251</td>\n",
       "      <td>22</td>\n",
       "      <td>1471573251</td>\n",
       "      <td>Chrome</td>\n",
       "      <td>...</td>\n",
       "      <td>(not set)</td>\n",
       "      <td>(direct)</td>\n",
       "      <td>(none)</td>\n",
       "      <td>NaN</td>\n",
       "      <td>1</td>\n",
       "      <td>1</td>\n",
       "      <td>1</td>\n",
       "      <td>0</td>\n",
       "      <td>0</td>\n",
       "      <td>0</td>\n",
       "    </tr>\n",
       "    <tr>\n",
       "      <th>...</th>\n",
       "      <td>...</td>\n",
       "      <td>...</td>\n",
       "      <td>...</td>\n",
       "      <td>...</td>\n",
       "      <td>...</td>\n",
       "      <td>...</td>\n",
       "      <td>...</td>\n",
       "      <td>...</td>\n",
       "      <td>...</td>\n",
       "      <td>...</td>\n",
       "      <td>...</td>\n",
       "      <td>...</td>\n",
       "      <td>...</td>\n",
       "      <td>...</td>\n",
       "      <td>...</td>\n",
       "      <td>...</td>\n",
       "      <td>...</td>\n",
       "      <td>...</td>\n",
       "      <td>...</td>\n",
       "      <td>...</td>\n",
       "      <td>...</td>\n",
       "    </tr>\n",
       "    <tr>\n",
       "      <th>1659001</th>\n",
       "      <td>Direct</td>\n",
       "      <td>[{'index': '4', 'value': 'North America'}]</td>\n",
       "      <td>2016-10-05</td>\n",
       "      <td>0949718915643445721</td>\n",
       "      <td>1</td>\n",
       "      <td>Not Socially Engaged</td>\n",
       "      <td>1475675614</td>\n",
       "      <td>141</td>\n",
       "      <td>1475675614</td>\n",
       "      <td>Chrome</td>\n",
       "      <td>...</td>\n",
       "      <td>(not set)</td>\n",
       "      <td>(direct)</td>\n",
       "      <td>(none)</td>\n",
       "      <td>NaN</td>\n",
       "      <td>1</td>\n",
       "      <td>1</td>\n",
       "      <td>1</td>\n",
       "      <td>0</td>\n",
       "      <td>0</td>\n",
       "      <td>0</td>\n",
       "    </tr>\n",
       "    <tr>\n",
       "      <th>91798</th>\n",
       "      <td>Direct</td>\n",
       "      <td>[{'index': '4', 'value': 'North America'}]</td>\n",
       "      <td>2016-10-14</td>\n",
       "      <td>0949718915643445721</td>\n",
       "      <td>2</td>\n",
       "      <td>Not Socially Engaged</td>\n",
       "      <td>1476452567</td>\n",
       "      <td>142</td>\n",
       "      <td>1476452567</td>\n",
       "      <td>Chrome</td>\n",
       "      <td>...</td>\n",
       "      <td>(not set)</td>\n",
       "      <td>(direct)</td>\n",
       "      <td>(none)</td>\n",
       "      <td>NaN</td>\n",
       "      <td>1</td>\n",
       "      <td>2</td>\n",
       "      <td>0</td>\n",
       "      <td>0</td>\n",
       "      <td>0</td>\n",
       "      <td>0</td>\n",
       "    </tr>\n",
       "    <tr>\n",
       "      <th>397415</th>\n",
       "      <td>Direct</td>\n",
       "      <td>[{'index': '4', 'value': 'North America'}]</td>\n",
       "      <td>2016-10-15</td>\n",
       "      <td>0949718915643445721</td>\n",
       "      <td>1</td>\n",
       "      <td>Not Socially Engaged</td>\n",
       "      <td>1476551760</td>\n",
       "      <td>143</td>\n",
       "      <td>1476551760</td>\n",
       "      <td>Chrome</td>\n",
       "      <td>...</td>\n",
       "      <td>(not set)</td>\n",
       "      <td>(direct)</td>\n",
       "      <td>(none)</td>\n",
       "      <td>NaN</td>\n",
       "      <td>1</td>\n",
       "      <td>1</td>\n",
       "      <td>1</td>\n",
       "      <td>0</td>\n",
       "      <td>0</td>\n",
       "      <td>0</td>\n",
       "    </tr>\n",
       "    <tr>\n",
       "      <th>397479</th>\n",
       "      <td>Direct</td>\n",
       "      <td>[{'index': '4', 'value': 'North America'}]</td>\n",
       "      <td>2016-10-15</td>\n",
       "      <td>0949718915643445721</td>\n",
       "      <td>1</td>\n",
       "      <td>Not Socially Engaged</td>\n",
       "      <td>1476587564</td>\n",
       "      <td>144</td>\n",
       "      <td>1476587564</td>\n",
       "      <td>Chrome</td>\n",
       "      <td>...</td>\n",
       "      <td>(not set)</td>\n",
       "      <td>(direct)</td>\n",
       "      <td>(none)</td>\n",
       "      <td>NaN</td>\n",
       "      <td>1</td>\n",
       "      <td>1</td>\n",
       "      <td>1</td>\n",
       "      <td>0</td>\n",
       "      <td>0</td>\n",
       "      <td>0</td>\n",
       "    </tr>\n",
       "    <tr>\n",
       "      <th>219819</th>\n",
       "      <td>Direct</td>\n",
       "      <td>[{'index': '4', 'value': 'North America'}]</td>\n",
       "      <td>2016-10-18</td>\n",
       "      <td>0949718915643445721</td>\n",
       "      <td>1</td>\n",
       "      <td>Not Socially Engaged</td>\n",
       "      <td>1476811451</td>\n",
       "      <td>145</td>\n",
       "      <td>1476811451</td>\n",
       "      <td>Chrome</td>\n",
       "      <td>...</td>\n",
       "      <td>(not set)</td>\n",
       "      <td>(direct)</td>\n",
       "      <td>(none)</td>\n",
       "      <td>NaN</td>\n",
       "      <td>1</td>\n",
       "      <td>1</td>\n",
       "      <td>1</td>\n",
       "      <td>0</td>\n",
       "      <td>0</td>\n",
       "      <td>0</td>\n",
       "    </tr>\n",
       "  </tbody>\n",
       "</table>\n",
       "<p>128 rows × 30 columns</p>\n",
       "</div>"
      ],
      "text/plain": [
       "        channelGrouping                            customDimensions  \\\n",
       "1420089          Direct  [{'index': '4', 'value': 'North America'}]   \n",
       "1420052          Direct  [{'index': '4', 'value': 'North America'}]   \n",
       "1693820          Direct  [{'index': '4', 'value': 'North America'}]   \n",
       "22738            Direct  [{'index': '4', 'value': 'North America'}]   \n",
       "1629799          Direct  [{'index': '4', 'value': 'North America'}]   \n",
       "...                 ...                                         ...   \n",
       "1659001          Direct  [{'index': '4', 'value': 'North America'}]   \n",
       "91798            Direct  [{'index': '4', 'value': 'North America'}]   \n",
       "397415           Direct  [{'index': '4', 'value': 'North America'}]   \n",
       "397479           Direct  [{'index': '4', 'value': 'North America'}]   \n",
       "219819           Direct  [{'index': '4', 'value': 'North America'}]   \n",
       "\n",
       "              date        fullVisitorId  hits  socialEngagementType  \\\n",
       "1420089 2016-08-06  0949718915643445721     1  Not Socially Engaged   \n",
       "1420052 2016-08-06  0949718915643445721     1  Not Socially Engaged   \n",
       "1693820 2016-08-07  0949718915643445721     1  Not Socially Engaged   \n",
       "22738   2016-08-11  0949718915643445721     1  Not Socially Engaged   \n",
       "1629799 2016-08-18  0949718915643445721     1  Not Socially Engaged   \n",
       "...            ...                  ...   ...                   ...   \n",
       "1659001 2016-10-05  0949718915643445721     1  Not Socially Engaged   \n",
       "91798   2016-10-14  0949718915643445721     2  Not Socially Engaged   \n",
       "397415  2016-10-15  0949718915643445721     1  Not Socially Engaged   \n",
       "397479  2016-10-15  0949718915643445721     1  Not Socially Engaged   \n",
       "219819  2016-10-18  0949718915643445721     1  Not Socially Engaged   \n",
       "\n",
       "            visitId  visitNumber  visitStartTime browser  ...   campaign  \\\n",
       "1420089  1470518725           18      1470518725  Chrome  ...  (not set)   \n",
       "1420052  1470546023           19      1470546023  Chrome  ...  (not set)   \n",
       "1693820  1470617387           20      1470617387  Chrome  ...  (not set)   \n",
       "22738    1470928701           21      1470928701  Chrome  ...  (not set)   \n",
       "1629799  1471573251           22      1471573251  Chrome  ...  (not set)   \n",
       "...             ...          ...             ...     ...  ...        ...   \n",
       "1659001  1475675614          141      1475675614  Chrome  ...  (not set)   \n",
       "91798    1476452567          142      1476452567  Chrome  ...  (not set)   \n",
       "397415   1476551760          143      1476551760  Chrome  ...  (not set)   \n",
       "397479   1476587564          144      1476587564  Chrome  ...  (not set)   \n",
       "219819   1476811451          145      1476811451  Chrome  ...  (not set)   \n",
       "\n",
       "           source  medium keyword visits pageviews bounces newVisits  \\\n",
       "1420089  (direct)  (none)     NaN      1         1       1         0   \n",
       "1420052  (direct)  (none)     NaN      1         1       1         0   \n",
       "1693820  (direct)  (none)     NaN      1         1       1         0   \n",
       "22738    (direct)  (none)     NaN      1         1       1         0   \n",
       "1629799  (direct)  (none)     NaN      1         1       1         0   \n",
       "...           ...     ...     ...    ...       ...     ...       ...   \n",
       "1659001  (direct)  (none)     NaN      1         1       1         0   \n",
       "91798    (direct)  (none)     NaN      1         2       0         0   \n",
       "397415   (direct)  (none)     NaN      1         1       1         0   \n",
       "397479   (direct)  (none)     NaN      1         1       1         0   \n",
       "219819   (direct)  (none)     NaN      1         1       1         0   \n",
       "\n",
       "        sessionQualityDim transactionRevenue  \n",
       "1420089                 0                  0  \n",
       "1420052                 0                  0  \n",
       "1693820                 0                  0  \n",
       "22738                   0                  0  \n",
       "1629799                 0                  0  \n",
       "...                   ...                ...  \n",
       "1659001                 0                  0  \n",
       "91798                   0                  0  \n",
       "397415                  0                  0  \n",
       "397479                  0                  0  \n",
       "219819                  0                  0  \n",
       "\n",
       "[128 rows x 30 columns]"
      ]
     },
     "execution_count": 36,
     "metadata": {},
     "output_type": "execute_result"
    }
   ],
   "source": [
    "train[(train.fullVisitorId=='0949718915643445721')].sort_values('visitNumber')"
   ]
  },
  {
   "cell_type": "markdown",
   "metadata": {},
   "source": [
    "After exploring a little, if `visitNumber` is > 1 then `newVisit` is 0, so `visitNumber` and `newVisits` appear to contain redundant information. I'll leave it for now.  In EDA I will check to see if `newVisit` has any other information value concerning the target. "
   ]
  },
  {
   "cell_type": "code",
   "execution_count": 35,
   "metadata": {},
   "outputs": [
    {
     "name": "stdout",
     "output_type": "stream",
     "text": [
      "<class 'pandas.core.frame.DataFrame'>\n",
      "RangeIndex: 903653 entries, 0 to 903652\n",
      "Data columns (total 28 columns):\n",
      " #   Column                Non-Null Count   Dtype         \n",
      "---  ------                --------------   -----         \n",
      " 0   channelGrouping       903653 non-null  object        \n",
      " 1   date                  903653 non-null  datetime64[ns]\n",
      " 2   fullVisitorId         903653 non-null  object        \n",
      " 3   sessionId             903653 non-null  object        \n",
      " 4   socialEngagementType  903653 non-null  object        \n",
      " 5   visitId               903653 non-null  int64         \n",
      " 6   visitNumber           903653 non-null  int64         \n",
      " 7   visitStartTime        903653 non-null  int64         \n",
      " 8   browser               903653 non-null  object        \n",
      " 9   operatingSystem       903653 non-null  object        \n",
      " 10  isMobile              903653 non-null  int32         \n",
      " 11  deviceCategory        903653 non-null  object        \n",
      " 12  continent             903653 non-null  object        \n",
      " 13  subContinent          903653 non-null  object        \n",
      " 14  country               903653 non-null  object        \n",
      " 15  region                903653 non-null  object        \n",
      " 16  metro                 903653 non-null  object        \n",
      " 17  city                  903653 non-null  object        \n",
      " 18  networkDomain         903653 non-null  object        \n",
      " 19  campaign              903653 non-null  object        \n",
      " 20  source                903653 non-null  object        \n",
      " 21  medium                903653 non-null  object        \n",
      " 22  visits                903653 non-null  int64         \n",
      " 23  hits                  903653 non-null  int64         \n",
      " 24  pageviews             903653 non-null  int64         \n",
      " 25  bounces               903653 non-null  int64         \n",
      " 26  newVisits             903653 non-null  int64         \n",
      " 27  transactionRevenue    903653 non-null  int64         \n",
      "dtypes: datetime64[ns](1), int32(1), int64(9), object(17)\n",
      "memory usage: 189.6+ MB\n"
     ]
    }
   ],
   "source": [
    "train.info()"
   ]
  },
  {
   "cell_type": "markdown",
   "metadata": {},
   "source": [
    "The dataset looks like it is ready for EDA.  I will export the cleaned set now. "
   ]
  },
  {
   "cell_type": "code",
   "execution_count": 41,
   "metadata": {},
   "outputs": [],
   "source": [
    "train.to_csv('train_wrangled.csv')"
   ]
  },
  {
   "cell_type": "markdown",
   "metadata": {},
   "source": [
    "Done and ready for EDA."
   ]
  },
  {
   "cell_type": "code",
   "execution_count": null,
   "metadata": {},
   "outputs": [],
   "source": []
  }
 ],
 "metadata": {
  "kernelspec": {
   "display_name": "Python [conda env:root] *",
   "language": "python",
   "name": "conda-root-py"
  },
  "language_info": {
   "codemirror_mode": {
    "name": "ipython",
    "version": 3
   },
   "file_extension": ".py",
   "mimetype": "text/x-python",
   "name": "python",
   "nbconvert_exporter": "python",
   "pygments_lexer": "ipython3",
   "version": "3.7.6"
  }
 },
 "nbformat": 4,
 "nbformat_minor": 4
}
