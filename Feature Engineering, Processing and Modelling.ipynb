{
 "cells": [
  {
   "cell_type": "markdown",
   "metadata": {},
   "source": [
    "# GA Analytics\n",
    "## Feature Engineering, Pre-processing, and Modelling\n",
    "### Blaine Murphy -- September 2021\n"
   ]
  },
  {
   "cell_type": "markdown",
   "metadata": {},
   "source": [
    "For the feature engineering phase I will do the following.\n",
    "- Read in the data exported from the EDA notebook\n",
    "- Encode categorical features identified in EDA\n",
    "- Condense data to user level\n",
    "    - to help answer the business question for identifying big spenders and how to market to them\n",
    "    - compute the target -- ln(total_user_revenue+1)\n",
    "    - Calculate user level features with summary statistics for numeric features\n",
    "- Split data into train, validation, and test for modelling\n",
    "- Scale the data based on the training data\n",
    "- Export data sets prepped for modelling"
   ]
  },
  {
   "cell_type": "code",
   "execution_count": 1,
   "metadata": {},
   "outputs": [],
   "source": [
    "import pandas as pd\n",
    "import numpy as np\n",
    "import os"
   ]
  },
  {
   "cell_type": "code",
   "execution_count": 2,
   "metadata": {},
   "outputs": [
    {
     "data": {
      "text/plain": [
       "['e390021b-3cdc-4df0-b92e-22082e3ad15b_Data.csv',\n",
       " 'GA_features.csv',\n",
       " 'GA_Test.npz',\n",
       " 'GA_Train.npz',\n",
       " 'GA_Validation.npz',\n",
       " 'GDP by Country world bank.csv',\n",
       " 'life expectency by country_world bank.csv',\n",
       " 'Metadata_Country_API_NY.GDP.MKTP.CD_DS2_en_csv_v2_2763936.csv',\n",
       " 'Metadata_Country_API_SP.DYN.LE00.IN_DS2_en_csv_v2_2764094.csv',\n",
       " 'Metadata_Country_API_SP.POP.TOTL_DS2_en_csv_v2_2763937.csv',\n",
       " 'Metadata_Indicator_API_NY.GDP.MKTP.CD_DS2_en_csv_v2_2763936.csv',\n",
       " 'Metadata_Indicator_API_SP.DYN.LE00.IN_DS2_en_csv_v2_2764094.csv',\n",
       " 'Metadata_Indicator_API_SP.POP.TOTL_DS2_en_csv_v2_2763937.csv',\n",
       " 'model.png',\n",
       " 'Population by country world bank.csv',\n",
       " 'sample_submission.csv',\n",
       " 'sample_submission_v2.csv',\n",
       " 'test.csv',\n",
       " 'test_v2.csv',\n",
       " 'train.csv',\n",
       " 'train_eda.csv',\n",
       " 'train_v2.csv',\n",
       " 'train_wrangled.csv',\n",
       " 'user_train_X.csv',\n",
       " 'user_train_y.csv',\n",
       " 'worldpopulationreview.com']"
      ]
     },
     "execution_count": 2,
     "metadata": {},
     "output_type": "execute_result"
    }
   ],
   "source": [
    "os.chdir(r'D:\\Springboard\\Capstone 3 maybe\\Google Analytics')\n",
    "os.listdir()"
   ]
  },
  {
   "cell_type": "code",
   "execution_count": 3,
   "metadata": {},
   "outputs": [
    {
     "name": "stderr",
     "output_type": "stream",
     "text": [
      "C:\\Users\\blain\\Anaconda3\\lib\\site-packages\\IPython\\core\\interactiveshell.py:3166: DtypeWarning: Columns (3) have mixed types.Specify dtype option on import or set low_memory=False.\n",
      "  interactivity=interactivity, compiler=compiler, result=result)\n"
     ]
    },
    {
     "name": "stdout",
     "output_type": "stream",
     "text": [
      "<class 'pandas.core.frame.DataFrame'>\n",
      "Int64Index: 901907 entries, 0 to 903652\n",
      "Data columns (total 50 columns):\n",
      " #   Column                                   Non-Null Count   Dtype         \n",
      "---  ------                                   --------------   -----         \n",
      " 0   channelGrouping                          901907 non-null  object        \n",
      " 1   date                                     901907 non-null  datetime64[ns]\n",
      " 2   fullVisitorId                            901907 non-null  object        \n",
      " 3   sessionId                                901907 non-null  object        \n",
      " 4   visitId                                  901907 non-null  int64         \n",
      " 5   visitNumber                              901907 non-null  int64         \n",
      " 6   visitStartTime                           901907 non-null  int64         \n",
      " 7   browser                                  901907 non-null  object        \n",
      " 8   operatingSystem                          901907 non-null  object        \n",
      " 9   isMobile                                 901907 non-null  int64         \n",
      " 10  deviceCategory                           901907 non-null  object        \n",
      " 11  continent                                901907 non-null  object        \n",
      " 12  subContinent                             901907 non-null  object        \n",
      " 13  country                                  901907 non-null  object        \n",
      " 14  region                                   901907 non-null  object        \n",
      " 15  metro                                    901907 non-null  object        \n",
      " 16  city                                     901907 non-null  object        \n",
      " 17  campaign                                 901907 non-null  object        \n",
      " 18  source                                   901907 non-null  object        \n",
      " 19  keyword                                  400041 non-null  object        \n",
      " 20  hits                                     901907 non-null  int64         \n",
      " 21  pageviews                                901907 non-null  int64         \n",
      " 22  bounces                                  901907 non-null  int64         \n",
      " 23  newVisits                                901907 non-null  int64         \n",
      " 24  transactionRevenue                       901907 non-null  int64         \n",
      " 25  dollars                                  901907 non-null  float64       \n",
      " 26  purchase                                 901907 non-null  int64         \n",
      " 27  dateTime                                 901907 non-null  datetime64[ns]\n",
      " 28  hour                                     901907 non-null  int64         \n",
      " 29  weekend                                  901907 non-null  int64         \n",
      " 30  month                                    901907 non-null  int64         \n",
      " 31  time                                     901907 non-null  float64       \n",
      " 32  timeDiffLastVisit                        189072 non-null  float64       \n",
      " 33  countryPopulation                        901907 non-null  float64       \n",
      " 34  countryGDP                               901907 non-null  float64       \n",
      " 35  countryLE                                901907 non-null  float64       \n",
      " 36  state                                    901907 non-null  object        \n",
      " 37  keywordStore                             901907 non-null  int64         \n",
      " 38  keywordMerch                             901907 non-null  int64         \n",
      " 39  keywordShirt                             901907 non-null  int64         \n",
      " 40  keywordGoogle                            901907 non-null  int64         \n",
      " 41  keywordYoutube                           901907 non-null  int64         \n",
      " 42  keywordShop                              901907 non-null  int64         \n",
      " 43  keywordApparel                           901907 non-null  int64         \n",
      " 44  keyword_(Remarketing/Content targeting)  901907 non-null  int64         \n",
      " 45  keyword_(User vertical targeting)        901907 non-null  int64         \n",
      " 46  keyword_(automatic matching)             901907 non-null  int64         \n",
      " 47  keyword_(content targeting)              901907 non-null  int64         \n",
      " 48  keyword_(not provided)                   901907 non-null  int64         \n",
      " 49  keyword_search                           901907 non-null  int64         \n",
      "dtypes: datetime64[ns](2), float64(6), int64(26), object(16)\n",
      "memory usage: 350.9+ MB\n"
     ]
    }
   ],
   "source": [
    "train = pd.read_csv('train_eda.csv',index_col=0,parse_dates=['date','dateTime'])\n",
    "train.info()"
   ]
  },
  {
   "cell_type": "markdown",
   "metadata": {},
   "source": [
    "A couple of columns to fix. `keyword` is mostly null and I already created new columns from it based on the most frequent search words that resulted in a purchase.  I can drop it now.  \n",
    "\n",
    "And `timeDiffLastVisit` is mostly null because most of the records are new visits, not repeat visits.  I will fill all of those nulls with the maximum of the `timeDiffLastVisit` column.\n"
   ]
  },
  {
   "cell_type": "code",
   "execution_count": 4,
   "metadata": {},
   "outputs": [],
   "source": [
    "train.drop('keyword',axis=1,inplace=True)\n",
    "train['timeDiffLastVisit'] = train.timeDiffLastVisit.fillna(train.timeDiffLastVisit.max())\n"
   ]
  },
  {
   "cell_type": "code",
   "execution_count": 5,
   "metadata": {},
   "outputs": [],
   "source": [
    "### Convert to float for summary statistics below\n",
    "train['hits'] = train['hits'].astype('float')\n",
    "train['pageviews'] = train['pageviews'].astype('float')"
   ]
  },
  {
   "cell_type": "code",
   "execution_count": 6,
   "metadata": {},
   "outputs": [
    {
     "name": "stdout",
     "output_type": "stream",
     "text": [
      "<class 'pandas.core.frame.DataFrame'>\n",
      "Int64Index: 901907 entries, 0 to 903652\n",
      "Data columns (total 49 columns):\n",
      " #   Column                                   Non-Null Count   Dtype         \n",
      "---  ------                                   --------------   -----         \n",
      " 0   channelGrouping                          901907 non-null  object        \n",
      " 1   date                                     901907 non-null  datetime64[ns]\n",
      " 2   fullVisitorId                            901907 non-null  object        \n",
      " 3   sessionId                                901907 non-null  object        \n",
      " 4   visitId                                  901907 non-null  int64         \n",
      " 5   visitNumber                              901907 non-null  int64         \n",
      " 6   visitStartTime                           901907 non-null  int64         \n",
      " 7   browser                                  901907 non-null  object        \n",
      " 8   operatingSystem                          901907 non-null  object        \n",
      " 9   isMobile                                 901907 non-null  int64         \n",
      " 10  deviceCategory                           901907 non-null  object        \n",
      " 11  continent                                901907 non-null  object        \n",
      " 12  subContinent                             901907 non-null  object        \n",
      " 13  country                                  901907 non-null  object        \n",
      " 14  region                                   901907 non-null  object        \n",
      " 15  metro                                    901907 non-null  object        \n",
      " 16  city                                     901907 non-null  object        \n",
      " 17  campaign                                 901907 non-null  object        \n",
      " 18  source                                   901907 non-null  object        \n",
      " 19  hits                                     901907 non-null  float64       \n",
      " 20  pageviews                                901907 non-null  float64       \n",
      " 21  bounces                                  901907 non-null  int64         \n",
      " 22  newVisits                                901907 non-null  int64         \n",
      " 23  transactionRevenue                       901907 non-null  int64         \n",
      " 24  dollars                                  901907 non-null  float64       \n",
      " 25  purchase                                 901907 non-null  int64         \n",
      " 26  dateTime                                 901907 non-null  datetime64[ns]\n",
      " 27  hour                                     901907 non-null  int64         \n",
      " 28  weekend                                  901907 non-null  int64         \n",
      " 29  month                                    901907 non-null  int64         \n",
      " 30  time                                     901907 non-null  float64       \n",
      " 31  timeDiffLastVisit                        901907 non-null  float64       \n",
      " 32  countryPopulation                        901907 non-null  float64       \n",
      " 33  countryGDP                               901907 non-null  float64       \n",
      " 34  countryLE                                901907 non-null  float64       \n",
      " 35  state                                    901907 non-null  object        \n",
      " 36  keywordStore                             901907 non-null  int64         \n",
      " 37  keywordMerch                             901907 non-null  int64         \n",
      " 38  keywordShirt                             901907 non-null  int64         \n",
      " 39  keywordGoogle                            901907 non-null  int64         \n",
      " 40  keywordYoutube                           901907 non-null  int64         \n",
      " 41  keywordShop                              901907 non-null  int64         \n",
      " 42  keywordApparel                           901907 non-null  int64         \n",
      " 43  keyword_(Remarketing/Content targeting)  901907 non-null  int64         \n",
      " 44  keyword_(User vertical targeting)        901907 non-null  int64         \n",
      " 45  keyword_(automatic matching)             901907 non-null  int64         \n",
      " 46  keyword_(content targeting)              901907 non-null  int64         \n",
      " 47  keyword_(not provided)                   901907 non-null  int64         \n",
      " 48  keyword_search                           901907 non-null  int64         \n",
      "dtypes: datetime64[ns](2), float64(8), int64(24), object(15)\n",
      "memory usage: 344.1+ MB\n"
     ]
    }
   ],
   "source": [
    "train.info()"
   ]
  },
  {
   "cell_type": "code",
   "execution_count": 7,
   "metadata": {},
   "outputs": [],
   "source": [
    "window_start = train['visitStartTime'].min()\n",
    "window_end = train['visitStartTime'].max()"
   ]
  },
  {
   "cell_type": "markdown",
   "metadata": {},
   "source": [
    "### One hot encoding of categorical columns"
   ]
  },
  {
   "cell_type": "code",
   "execution_count": 8,
   "metadata": {},
   "outputs": [
    {
     "data": {
      "text/plain": [
       "\"channelGrouping','date','fullVisitorId','sessionId','visitId','visitNumber','visitStartTime','browser','operatingSystem','isMobile','deviceCategory','continent','subContinent','country','region','metro','city','campaign','source','hits','pageviews','bounces','newVisits','transactionRevenue','dollars','purchase','dateTime','hour','weekend','month','time','timeDiffLastVisit','countryPopulation','countryGDP','countryLE','state','keywordStore','keywordMerch','keywordShirt','keywordGoogle','keywordYoutube','keywordShop','keywordApparel','keyword_(Remarketing/Content targeting)','keyword_(User vertical targeting)','keyword_(automatic matching)','keyword_(content targeting)','keyword_(not provided)','keyword_search\""
      ]
     },
     "execution_count": 8,
     "metadata": {},
     "output_type": "execute_result"
    }
   ],
   "source": [
    "\"','\".join(list(train.columns))"
   ]
  },
  {
   "cell_type": "code",
   "execution_count": 9,
   "metadata": {},
   "outputs": [],
   "source": [
    "num_cols = ['fullVisitorId','visitNumber','isMobile','hits','pageviews','bounces','newVisits',\\\n",
    "        'visitStartTime','weekend','time','timeDiffLastVisit',\\\n",
    "        'countryPopulation','countryGDP','countryLE','keywordStore',\\\n",
    "        'keywordMerch','keywordShirt','keywordGoogle',\\\n",
    "        'keywordYoutube','keywordShop','keywordApparel',\\\n",
    "        'keyword_(Remarketing/Content targeting)',\\\n",
    "        'keyword_(User vertical targeting)','keyword_(automatic matching)',\\\n",
    "        'keyword_(content targeting)','keyword_(not provided)','keyword_search',\\\n",
    "        'dollars','transactionRevenue']"
   ]
  },
  {
   "cell_type": "code",
   "execution_count": 10,
   "metadata": {},
   "outputs": [],
   "source": [
    "dummy_cols = ['channelGrouping','browser','operatingSystem',\\\n",
    "              'deviceCategory','subContinent','city','state',\\\n",
    "              'campaign','source','month','hour']"
   ]
  },
  {
   "cell_type": "code",
   "execution_count": 11,
   "metadata": {},
   "outputs": [],
   "source": [
    "### convert month to object for label encoding, ditto for hour\n",
    "train['month'] = train['month'].astype('object')\n",
    "train['month'].dtype\n",
    "\n",
    "train['hour'] = train['hour'].astype('object')\n"
   ]
  },
  {
   "cell_type": "code",
   "execution_count": 12,
   "metadata": {},
   "outputs": [],
   "source": [
    "train = pd.concat([train[num_cols],pd.get_dummies(train[dummy_cols])], axis=1)"
   ]
  },
  {
   "cell_type": "code",
   "execution_count": 13,
   "metadata": {
    "scrolled": true
   },
   "outputs": [
    {
     "data": {
      "text/plain": [
       "(901907, 343)"
      ]
     },
     "execution_count": 13,
     "metadata": {},
     "output_type": "execute_result"
    }
   ],
   "source": [
    "train.shape"
   ]
  },
  {
   "cell_type": "code",
   "execution_count": 14,
   "metadata": {
    "scrolled": true
   },
   "outputs": [],
   "source": [
    "train_cols = list(train.columns)"
   ]
  },
  {
   "cell_type": "markdown",
   "metadata": {},
   "source": [
    "### Grouping by user"
   ]
  },
  {
   "cell_type": "code",
   "execution_count": 15,
   "metadata": {},
   "outputs": [],
   "source": [
    "bool_cols = ['isMobile','weekend','bounces','keywordStore','keywordMerch','keywordShirt',\\\n",
    "             'keywordGoogle','keywordYoutube','keywordShop','keywordApparel',\\\n",
    "             'keyword_(Remarketing/Content targeting)','keyword_(User vertical targeting)',\\\n",
    "             'keyword_(automatic matching)','keyword_(content targeting)','keyword_(not provided)','keyword_search' ]"
   ]
  },
  {
   "cell_type": "code",
   "execution_count": 16,
   "metadata": {},
   "outputs": [],
   "source": [
    "user_groupby = train.groupby('fullVisitorId', as_index=True)"
   ]
  },
  {
   "cell_type": "markdown",
   "metadata": {},
   "source": [
    "Creation of target in a new user level dataframe"
   ]
  },
  {
   "cell_type": "code",
   "execution_count": 17,
   "metadata": {},
   "outputs": [],
   "source": [
    "### Function for creation of target column ln(total_revenue_per_user + 1)\n",
    "TargetFunc = lambda x: np.log(sum(x) + 1.0)\n",
    "\n",
    "### Calculate target\n",
    "X = user_groupby[['transactionRevenue']].agg(TargetFunc)\n"
   ]
  },
  {
   "cell_type": "code",
   "execution_count": 18,
   "metadata": {
    "scrolled": false
   },
   "outputs": [
    {
     "data": {
      "text/html": [
       "<div>\n",
       "<style scoped>\n",
       "    .dataframe tbody tr th:only-of-type {\n",
       "        vertical-align: middle;\n",
       "    }\n",
       "\n",
       "    .dataframe tbody tr th {\n",
       "        vertical-align: top;\n",
       "    }\n",
       "\n",
       "    .dataframe thead th {\n",
       "        text-align: right;\n",
       "    }\n",
       "</style>\n",
       "<table border=\"1\" class=\"dataframe\">\n",
       "  <thead>\n",
       "    <tr style=\"text-align: right;\">\n",
       "      <th></th>\n",
       "      <th>transactionRevenue</th>\n",
       "      <th>visits</th>\n",
       "      <th>visitMax</th>\n",
       "      <th>visitMin</th>\n",
       "      <th>timeTilFirstVisit</th>\n",
       "      <th>timeLastVisitFromEnd</th>\n",
       "      <th>hitsMin</th>\n",
       "      <th>hitsMax</th>\n",
       "      <th>hitsMedian</th>\n",
       "      <th>hitsMean</th>\n",
       "      <th>...</th>\n",
       "      <th>hour_14Mean</th>\n",
       "      <th>hour_15Mean</th>\n",
       "      <th>hour_16Mean</th>\n",
       "      <th>hour_17Mean</th>\n",
       "      <th>hour_18Mean</th>\n",
       "      <th>hour_19Mean</th>\n",
       "      <th>hour_20Mean</th>\n",
       "      <th>hour_21Mean</th>\n",
       "      <th>hour_22Mean</th>\n",
       "      <th>hour_23Mean</th>\n",
       "    </tr>\n",
       "    <tr>\n",
       "      <th>fullVisitorId</th>\n",
       "      <th></th>\n",
       "      <th></th>\n",
       "      <th></th>\n",
       "      <th></th>\n",
       "      <th></th>\n",
       "      <th></th>\n",
       "      <th></th>\n",
       "      <th></th>\n",
       "      <th></th>\n",
       "      <th></th>\n",
       "      <th></th>\n",
       "      <th></th>\n",
       "      <th></th>\n",
       "      <th></th>\n",
       "      <th></th>\n",
       "      <th></th>\n",
       "      <th></th>\n",
       "      <th></th>\n",
       "      <th></th>\n",
       "      <th></th>\n",
       "      <th></th>\n",
       "    </tr>\n",
       "  </thead>\n",
       "  <tbody>\n",
       "    <tr>\n",
       "      <th>4823595352351</th>\n",
       "      <td>0.0</td>\n",
       "      <td>1</td>\n",
       "      <td>1</td>\n",
       "      <td>1</td>\n",
       "      <td>7976698</td>\n",
       "      <td>23645683</td>\n",
       "      <td>1.0</td>\n",
       "      <td>1.0</td>\n",
       "      <td>1.0</td>\n",
       "      <td>1.0</td>\n",
       "      <td>...</td>\n",
       "      <td>1.0</td>\n",
       "      <td>0.0</td>\n",
       "      <td>0.0</td>\n",
       "      <td>0.0</td>\n",
       "      <td>0.0</td>\n",
       "      <td>0.0</td>\n",
       "      <td>0.0</td>\n",
       "      <td>0.0</td>\n",
       "      <td>0.0</td>\n",
       "      <td>0.0</td>\n",
       "    </tr>\n",
       "    <tr>\n",
       "      <th>5103959234087</th>\n",
       "      <td>0.0</td>\n",
       "      <td>1</td>\n",
       "      <td>1</td>\n",
       "      <td>1</td>\n",
       "      <td>1782396</td>\n",
       "      <td>29839985</td>\n",
       "      <td>10.0</td>\n",
       "      <td>10.0</td>\n",
       "      <td>10.0</td>\n",
       "      <td>10.0</td>\n",
       "      <td>...</td>\n",
       "      <td>0.0</td>\n",
       "      <td>0.0</td>\n",
       "      <td>0.0</td>\n",
       "      <td>0.0</td>\n",
       "      <td>0.0</td>\n",
       "      <td>0.0</td>\n",
       "      <td>0.0</td>\n",
       "      <td>0.0</td>\n",
       "      <td>1.0</td>\n",
       "      <td>0.0</td>\n",
       "    </tr>\n",
       "    <tr>\n",
       "      <th>10278554503158</th>\n",
       "      <td>0.0</td>\n",
       "      <td>1</td>\n",
       "      <td>1</td>\n",
       "      <td>1</td>\n",
       "      <td>6994654</td>\n",
       "      <td>24627727</td>\n",
       "      <td>11.0</td>\n",
       "      <td>11.0</td>\n",
       "      <td>11.0</td>\n",
       "      <td>11.0</td>\n",
       "      <td>...</td>\n",
       "      <td>0.0</td>\n",
       "      <td>0.0</td>\n",
       "      <td>0.0</td>\n",
       "      <td>0.0</td>\n",
       "      <td>0.0</td>\n",
       "      <td>0.0</td>\n",
       "      <td>0.0</td>\n",
       "      <td>0.0</td>\n",
       "      <td>0.0</td>\n",
       "      <td>0.0</td>\n",
       "    </tr>\n",
       "    <tr>\n",
       "      <th>20424342248747</th>\n",
       "      <td>0.0</td>\n",
       "      <td>1</td>\n",
       "      <td>1</td>\n",
       "      <td>1</td>\n",
       "      <td>10544089</td>\n",
       "      <td>21078292</td>\n",
       "      <td>17.0</td>\n",
       "      <td>17.0</td>\n",
       "      <td>17.0</td>\n",
       "      <td>17.0</td>\n",
       "      <td>...</td>\n",
       "      <td>0.0</td>\n",
       "      <td>0.0</td>\n",
       "      <td>0.0</td>\n",
       "      <td>0.0</td>\n",
       "      <td>0.0</td>\n",
       "      <td>0.0</td>\n",
       "      <td>0.0</td>\n",
       "      <td>0.0</td>\n",
       "      <td>0.0</td>\n",
       "      <td>0.0</td>\n",
       "    </tr>\n",
       "    <tr>\n",
       "      <th>26722803385797</th>\n",
       "      <td>0.0</td>\n",
       "      <td>1</td>\n",
       "      <td>1</td>\n",
       "      <td>1</td>\n",
       "      <td>26623582</td>\n",
       "      <td>4998799</td>\n",
       "      <td>3.0</td>\n",
       "      <td>3.0</td>\n",
       "      <td>3.0</td>\n",
       "      <td>3.0</td>\n",
       "      <td>...</td>\n",
       "      <td>0.0</td>\n",
       "      <td>0.0</td>\n",
       "      <td>0.0</td>\n",
       "      <td>0.0</td>\n",
       "      <td>0.0</td>\n",
       "      <td>0.0</td>\n",
       "      <td>0.0</td>\n",
       "      <td>0.0</td>\n",
       "      <td>0.0</td>\n",
       "      <td>0.0</td>\n",
       "    </tr>\n",
       "  </tbody>\n",
       "</table>\n",
       "<p>5 rows × 357 columns</p>\n",
       "</div>"
      ],
      "text/plain": [
       "                transactionRevenue  visits  visitMax  visitMin  \\\n",
       "fullVisitorId                                                    \n",
       "4823595352351                  0.0       1         1         1   \n",
       "5103959234087                  0.0       1         1         1   \n",
       "10278554503158                 0.0       1         1         1   \n",
       "20424342248747                 0.0       1         1         1   \n",
       "26722803385797                 0.0       1         1         1   \n",
       "\n",
       "                timeTilFirstVisit  timeLastVisitFromEnd  hitsMin  hitsMax  \\\n",
       "fullVisitorId                                                               \n",
       "4823595352351             7976698              23645683      1.0      1.0   \n",
       "5103959234087             1782396              29839985     10.0     10.0   \n",
       "10278554503158            6994654              24627727     11.0     11.0   \n",
       "20424342248747           10544089              21078292     17.0     17.0   \n",
       "26722803385797           26623582               4998799      3.0      3.0   \n",
       "\n",
       "                hitsMedian  hitsMean  ...  hour_14Mean  hour_15Mean  \\\n",
       "fullVisitorId                         ...                             \n",
       "4823595352351          1.0       1.0  ...          1.0          0.0   \n",
       "5103959234087         10.0      10.0  ...          0.0          0.0   \n",
       "10278554503158        11.0      11.0  ...          0.0          0.0   \n",
       "20424342248747        17.0      17.0  ...          0.0          0.0   \n",
       "26722803385797         3.0       3.0  ...          0.0          0.0   \n",
       "\n",
       "                hour_16Mean  hour_17Mean  hour_18Mean  hour_19Mean  \\\n",
       "fullVisitorId                                                        \n",
       "4823595352351           0.0          0.0          0.0          0.0   \n",
       "5103959234087           0.0          0.0          0.0          0.0   \n",
       "10278554503158          0.0          0.0          0.0          0.0   \n",
       "20424342248747          0.0          0.0          0.0          0.0   \n",
       "26722803385797          0.0          0.0          0.0          0.0   \n",
       "\n",
       "                hour_20Mean  hour_21Mean  hour_22Mean  hour_23Mean  \n",
       "fullVisitorId                                                       \n",
       "4823595352351           0.0          0.0          0.0          0.0  \n",
       "5103959234087           0.0          0.0          1.0          0.0  \n",
       "10278554503158          0.0          0.0          0.0          0.0  \n",
       "20424342248747          0.0          0.0          0.0          0.0  \n",
       "26722803385797          0.0          0.0          0.0          0.0  \n",
       "\n",
       "[5 rows x 357 columns]"
      ]
     },
     "execution_count": 18,
     "metadata": {},
     "output_type": "execute_result"
    }
   ],
   "source": [
    "### Create features based on visits\n",
    "X['visits'] = user_groupby[['transactionRevenue']].count()\n",
    "X['visitMax'] = user_groupby['visitNumber'].max()\n",
    "X['visitMin'] = user_groupby['visitNumber'].min()\n",
    "\n",
    "### Create features based on time between visits and start and end of the data window\n",
    "X['timeTilFirstVisit'] = user_groupby['visitStartTime'].agg(lambda x: min(x) - window_start)\n",
    "X['timeLastVisitFromEnd'] = user_groupby['visitStartTime'].agg(lambda x: window_end - max(x))\n",
    "\n",
    "\n",
    "\n",
    "### Create statistical measures of numerical columns\n",
    "for col in ['hits','pageviews','timeDiffLastVisit']:\n",
    "    dum = user_groupby[[col]].agg(['min','max','median','mean','std'])\n",
    "    dum.columns = [col+i.capitalize() for i in ['min','max','median','mean','std']]\n",
    "    X = pd.concat([X,dum], axis=1)\n",
    "    del dum\n",
    "\n",
    "    \n",
    "for col in ['countryPopulation','countryGDP','countryLE']:\n",
    "    dum = user_groupby[[col]].agg(['mean','std'])\n",
    "    dum.columns = [col+i.capitalize() for i in ['mean','std']]\n",
    "    X = pd.concat([X,dum], axis=1)\n",
    "    del dum\n",
    "    \n",
    "### calculate mean of boolean columns\n",
    "for col in bool_cols:\n",
    "    dum = user_groupby[[col]].mean()\n",
    "    dum.columns = [col+'Mean']\n",
    "    X = pd.concat([X,dum], axis=1)\n",
    "    del dum\n",
    "\n",
    "### Mean of dummy columns with correct column naming\n",
    "for col in dummy_cols:\n",
    "    for dumi_col in [i for i in train_cols if i.startswith(col)]:\n",
    "        dum = user_groupby[[dumi_col]].mean()\n",
    "        dum.columns = [dumi_col+'Mean']\n",
    "        X = pd.concat([X,dum], axis=1)\n",
    "        del dum\n",
    "\n",
    "\n",
    "\n",
    "    \n",
    "X.head()"
   ]
  },
  {
   "cell_type": "code",
   "execution_count": 19,
   "metadata": {},
   "outputs": [],
   "source": [
    "X_cols = X.columns"
   ]
  },
  {
   "cell_type": "code",
   "execution_count": 20,
   "metadata": {
    "scrolled": true
   },
   "outputs": [
    {
     "data": {
      "text/plain": [
       "hitsStd                 631804\n",
       "pageviewsStd            631804\n",
       "timeDiffLastVisitStd    631804\n",
       "countryPopulationStd    631804\n",
       "countryGDPStd           631804\n",
       "countryLEStd            631804\n",
       "dtype: int64"
      ]
     },
     "execution_count": 20,
     "metadata": {},
     "output_type": "execute_result"
    }
   ],
   "source": [
    "nulls = X.isna().sum().T\n",
    "nulls[nulls>0]"
   ]
  },
  {
   "cell_type": "code",
   "execution_count": 21,
   "metadata": {},
   "outputs": [],
   "source": [
    "X = X.fillna(0)"
   ]
  },
  {
   "cell_type": "code",
   "execution_count": null,
   "metadata": {},
   "outputs": [],
   "source": []
  },
  {
   "cell_type": "code",
   "execution_count": 22,
   "metadata": {},
   "outputs": [],
   "source": [
    "del train"
   ]
  },
  {
   "cell_type": "code",
   "execution_count": 23,
   "metadata": {},
   "outputs": [],
   "source": [
    "y = X.pop('transactionRevenue')"
   ]
  },
  {
   "cell_type": "code",
   "execution_count": 24,
   "metadata": {},
   "outputs": [
    {
     "data": {
      "text/plain": [
       "(722668, 356)"
      ]
     },
     "execution_count": 24,
     "metadata": {},
     "output_type": "execute_result"
    }
   ],
   "source": [
    "X.shape"
   ]
  },
  {
   "cell_type": "code",
   "execution_count": 25,
   "metadata": {},
   "outputs": [],
   "source": [
    "random_seed = 33"
   ]
  },
  {
   "cell_type": "code",
   "execution_count": 26,
   "metadata": {},
   "outputs": [],
   "source": [
    "### Split into 70-20-10 train-validation-test\n",
    "from sklearn.model_selection import train_test_split\n",
    "X_train, X_test, y_train, y_test = train_test_split(X, y, test_size=0.3, random_state=random_seed)\n",
    "X_val, X_test, y_val, y_test = train_test_split(X_test, y_test, test_size = 0.333, random_state=random_seed)\n"
   ]
  },
  {
   "cell_type": "code",
   "execution_count": 27,
   "metadata": {},
   "outputs": [
    {
     "name": "stdout",
     "output_type": "stream",
     "text": [
      "Train features: (505867, 356)\n",
      "Train target: (505867,)\n",
      "Validation features: (144606, 356)\n",
      "Validation target: (144606,)\n",
      "Test features: (72195, 356)\n",
      "Test target: (72195,)\n"
     ]
    }
   ],
   "source": [
    "print('Train features:', X_train.shape)\n",
    "print('Train target:', y_train.shape)\n",
    "print('Validation features:',X_val.shape)\n",
    "print('Validation target:',y_val.shape)\n",
    "print('Test features:',X_test.shape)\n",
    "print('Test target:',y_test.shape)\n"
   ]
  },
  {
   "cell_type": "code",
   "execution_count": 28,
   "metadata": {},
   "outputs": [],
   "source": [
    "from sklearn.preprocessing import StandardScaler\n",
    "ss = StandardScaler()\n",
    "ss.fit(X_train)\n",
    "X_train, X_test, X_val = ss.transform(X_train), ss.transform(X_test), ss.transform(X_val)\n",
    "\n",
    "\n"
   ]
  },
  {
   "cell_type": "code",
   "execution_count": 29,
   "metadata": {},
   "outputs": [],
   "source": [
    "np.savez('GA_Train', inputs=X_train, targets = y_train)\n",
    "np.savez('GA_Validation', inputs=X_val, targets = y_val)\n",
    "np.savez('GA_Test', inputs=X_test, targets = y_test)"
   ]
  },
  {
   "cell_type": "code",
   "execution_count": 31,
   "metadata": {},
   "outputs": [],
   "source": [
    "with open('GA_features.csv','w') as f:\n",
    "    [f.write(col+'\\n') for col in X_cols]\n",
    "\n",
    "    "
   ]
  },
  {
   "cell_type": "markdown",
   "metadata": {},
   "source": [
    "Data saved."
   ]
  },
  {
   "cell_type": "code",
   "execution_count": 32,
   "metadata": {},
   "outputs": [
    {
     "name": "stdout",
     "output_type": "stream",
     "text": [
      "Train Frac of purchasers: 0.014132173081066762\n",
      "Validation Frac purchasers: 0.013747700648659116\n",
      "Test Frac purchasers: 0.013865226123692776\n"
     ]
    }
   ],
   "source": [
    "print('Train Frac of purchasers:', np.sum(y_train > 1) / y_train.shape[0])\n",
    "print('Validation Frac purchasers:', np.sum(y_val > 1) / y_val.shape[0])\n",
    "print('Test Frac purchasers:', np.sum(y_test > 1) / y_test.shape[0])"
   ]
  },
  {
   "cell_type": "markdown",
   "metadata": {},
   "source": [
    "## Modelling phase"
   ]
  },
  {
   "cell_type": "markdown",
   "metadata": {},
   "source": [
    "### Linear Regression with Lasso to get a baseline model performance and quick look at feature importance"
   ]
  },
  {
   "cell_type": "code",
   "execution_count": 1,
   "metadata": {},
   "outputs": [],
   "source": [
    "import pandas as pd\n",
    "import numpy as np\n",
    "import os \n",
    "\n",
    "os.chdir(r'D:\\Springboard\\Capstone 3 maybe\\Google Analytics')"
   ]
  },
  {
   "cell_type": "code",
   "execution_count": 2,
   "metadata": {},
   "outputs": [],
   "source": [
    "### Loading data\n",
    "train = np.load('GA_Train.npz')\n",
    "valid = np.load('GA_Validation.npz')\n",
    "test = np.load('GA_Test.npz')\n"
   ]
  },
  {
   "cell_type": "code",
   "execution_count": 3,
   "metadata": {},
   "outputs": [
    {
     "data": {
      "text/plain": [
       "Lasso()"
      ]
     },
     "execution_count": 3,
     "metadata": {},
     "output_type": "execute_result"
    }
   ],
   "source": [
    "from sklearn.linear_model import Lasso\n",
    "lass = Lasso()\n",
    "lass.fit(train['inputs'], train['targets'])"
   ]
  },
  {
   "cell_type": "code",
   "execution_count": 4,
   "metadata": {},
   "outputs": [
    {
     "name": "stdout",
     "output_type": "stream",
     "text": [
      "Lasso Regression RMSE:\n",
      "2.078\n"
     ]
    }
   ],
   "source": [
    "from sklearn.metrics import mean_squared_error\n",
    "print('Lasso Regression RMSE:\\n{:.3f}'.format(np.sqrt(mean_squared_error(valid['targets'],lass.predict(valid['inputs'])))))\n"
   ]
  },
  {
   "cell_type": "code",
   "execution_count": 5,
   "metadata": {},
   "outputs": [
    {
     "name": "stdout",
     "output_type": "stream",
     "text": [
      "[ 0.  0.  0.  0. -0.  0.  0.  0.  0.  0.  0.  0.  0.  0.  0. -0. -0. -0.\n",
      " -0.  0.  0.  0.  0.  0.  0.  0. -0. -0. -0. -0.  0. -0.  0. -0. -0.  0.\n",
      "  0. -0. -0. -0. -0.  0.  0. -0.  0.  0. -0.  0.  0. -0. -0. -0.  0. -0.\n",
      " -0. -0. -0. -0. -0. -0. -0.  0.  0.  0. -0. -0. -0. -0.  0. -0. -0. -0.\n",
      " -0. -0. -0. -0. -0. -0. -0. -0. -0. -0.  0. -0. -0. -0. -0. -0. -0. -0.\n",
      " -0. -0. -0. -0. -0.  0. -0.  0. -0.  0. -0. -0.  0. -0. -0.  0. -0. -0.\n",
      "  0.  0.  0. -0. -0. -0.  0.  0.  0.  0. -0.  0.  0.  0.  0. -0. -0. -0.\n",
      "  0.  0.  0.  0.  0.  0. -0.  0. -0.  0. -0.  0.  0.  0. -0. -0. -0.  0.\n",
      "  0.  0. -0. -0. -0.  0.  0.  0. -0.  0.  0. -0.  0. -0.  0.  0. -0. -0.\n",
      "  0. -0.  0. -0.  0. -0.  0.  0.  0.  0. -0.  0.  0. -0.  0.  0.  0.  0.\n",
      "  0. -0. -0.  0.  0. -0.  0. -0.  0.  0.  0.  0.  0.  0.  0.  0.  0. -0.\n",
      "  0.  0.  0. -0. -0.  0.  0. -0. -0.  0. -0.  0. -0.  0. -0. -0.  0.  0.\n",
      "  0. -0. -0. -0.  0. -0.  0. -0. -0. -0. -0.  0.  0.  0.  0.  0.  0. -0.\n",
      " -0.  0.  0.  0. -0. -0. -0.  0.  0.  0.  0.  0. -0.  0.  0.  0.  0.  0.\n",
      " -0. -0. -0. -0.  0.  0.  0.  0.  0. -0.  0. -0. -0. -0.  0. -0.  0.  0.\n",
      " -0.  0. -0. -0. -0.  0. -0. -0. -0.  0.  0.  0.  0.  0.  0.  0. -0. -0.\n",
      " -0.  0.  0. -0. -0.  0.  0.  0.  0.  0. -0.  0.  0.  0.  0. -0.  0.  0.\n",
      "  0.  0. -0. -0.  0. -0. -0. -0.  0. -0.  0.  0.  0. -0. -0. -0. -0.  0.\n",
      "  0.  0.  0.  0. -0. -0. -0.  0.  0.  0.  0.  0. -0. -0. -0. -0. -0. -0.\n",
      " -0. -0. -0. -0. -0.  0.  0.  0.  0.  0.  0.  0.  0.  0.]\n"
     ]
    }
   ],
   "source": [
    "print(lass.coef_)"
   ]
  },
  {
   "cell_type": "markdown",
   "metadata": {},
   "source": [
    "Due to the large number of users who didn't make a purchaes The model predicts nobody will make a purchase.  "
   ]
  },
  {
   "cell_type": "markdown",
   "metadata": {},
   "source": [
    "### Moving on to deep learning with TensorFlow"
   ]
  },
  {
   "cell_type": "code",
   "execution_count": 6,
   "metadata": {},
   "outputs": [],
   "source": [
    "import tensorflow as tf\n"
   ]
  },
  {
   "cell_type": "code",
   "execution_count": 7,
   "metadata": {},
   "outputs": [
    {
     "name": "stdout",
     "output_type": "stream",
     "text": [
      "There should be a purchase every 71 records\n"
     ]
    }
   ],
   "source": [
    "train_num_purchasers = np.sum(train['targets'] > 1) \n",
    "\n",
    "#train['targets'].shape[0] / train_num_purchasers\n",
    "\n",
    "print('There should be a purchase every {:.0f} records'.format(train['targets'].shape[0] / train_num_purchasers))\n"
   ]
  },
  {
   "cell_type": "markdown",
   "metadata": {},
   "source": [
    "In the training set I would expect to see one purchase every 71 records. I will try a batch size of 500 to try to get multiple purchases in each batch"
   ]
  },
  {
   "cell_type": "code",
   "execution_count": 8,
   "metadata": {},
   "outputs": [],
   "source": [
    "### Declare some variables for modelling \n",
    "\n",
    "input_size = train['inputs'].shape[1]\n",
    "output_size = 1\n",
    "hidden_layer_size = 64\n",
    "batch_size = 500\n",
    "epochs = 50\n"
   ]
  },
  {
   "cell_type": "markdown",
   "metadata": {},
   "source": [
    "Model building"
   ]
  },
  {
   "cell_type": "code",
   "execution_count": 9,
   "metadata": {},
   "outputs": [],
   "source": [
    "model = tf.keras.Sequential()\n",
    "\n",
    "### 3 Dense layers, first 2 with dropout for regularization\n",
    "model.add(tf.keras.layers.Dense(hidden_layer_size, activation = 'relu'))\n",
    "model.add(tf.keras.layers.Dropout(0.2))\n",
    "model.add(tf.keras.layers.Dense(hidden_layer_size, activation = 'relu'))\n",
    "model.add(tf.keras.layers.Dense(hidden_layer_size, activation = 'relu'))\n",
    "model.add(tf.keras.layers.Dense(1))\n",
    "\n",
    "model.compile(optimizer='adam', \n",
    "              loss = tf.keras.losses.MeanSquaredError(), \n",
    "              metrics = [tf.keras.metrics.RootMeanSquaredError(), tf.keras.metrics.MeanAbsoluteError()])"
   ]
  },
  {
   "cell_type": "code",
   "execution_count": 10,
   "metadata": {
    "scrolled": true
   },
   "outputs": [
    {
     "name": "stdout",
     "output_type": "stream",
     "text": [
      "Epoch 1/50\n",
      "1012/1012 - 3s - loss: 3.0809 - root_mean_squared_error: 1.7553 - mean_absolute_error: 0.4158 - val_loss: 2.7421 - val_root_mean_squared_error: 1.6559 - val_mean_absolute_error: 0.3523\n",
      "Epoch 2/50\n",
      "1012/1012 - 2s - loss: 2.7672 - root_mean_squared_error: 1.6635 - mean_absolute_error: 0.3482 - val_loss: 2.6386 - val_root_mean_squared_error: 1.6244 - val_mean_absolute_error: 0.2823\n",
      "Epoch 3/50\n",
      "1012/1012 - 3s - loss: 2.6993 - root_mean_squared_error: 1.6430 - mean_absolute_error: 0.3313 - val_loss: 2.5638 - val_root_mean_squared_error: 1.6012 - val_mean_absolute_error: 0.3203\n",
      "Epoch 4/50\n",
      "1012/1012 - 3s - loss: 2.6415 - root_mean_squared_error: 1.6253 - mean_absolute_error: 0.3245 - val_loss: 2.7195 - val_root_mean_squared_error: 1.6491 - val_mean_absolute_error: 0.3210\n",
      "Epoch 5/50\n",
      "1012/1012 - 2s - loss: 2.5955 - root_mean_squared_error: 1.6110 - mean_absolute_error: 0.3170 - val_loss: 2.5590 - val_root_mean_squared_error: 1.5997 - val_mean_absolute_error: 0.2899\n",
      "Epoch 6/50\n",
      "1012/1012 - 2s - loss: 2.5716 - root_mean_squared_error: 1.6036 - mean_absolute_error: 0.3126 - val_loss: 2.5347 - val_root_mean_squared_error: 1.5921 - val_mean_absolute_error: 0.2997\n",
      "Epoch 7/50\n",
      "1012/1012 - 2s - loss: 2.5198 - root_mean_squared_error: 1.5874 - mean_absolute_error: 0.3046 - val_loss: 2.5533 - val_root_mean_squared_error: 1.5979 - val_mean_absolute_error: 0.2918\n",
      "Epoch 8/50\n",
      "1012/1012 - 2s - loss: 2.4941 - root_mean_squared_error: 1.5793 - mean_absolute_error: 0.3026 - val_loss: 2.6010 - val_root_mean_squared_error: 1.6127 - val_mean_absolute_error: 0.2892\n",
      "Epoch 9/50\n",
      "1012/1012 - 3s - loss: 2.4671 - root_mean_squared_error: 1.5707 - mean_absolute_error: 0.2987 - val_loss: 2.6686 - val_root_mean_squared_error: 1.6336 - val_mean_absolute_error: 0.2704\n"
     ]
    }
   ],
   "source": [
    "early_stop = tf.keras.callbacks.EarlyStopping(patience=3,restore_best_weights=True)\n",
    "\n",
    "history = model.fit(x=train['inputs'],\n",
    "          y=train['targets'],\n",
    "          batch_size=batch_size,\n",
    "          callbacks=early_stop,\n",
    "          epochs=epochs,\n",
    "          validation_data=(valid['inputs'],valid['targets']),\n",
    "          verbose = 2)"
   ]
  },
  {
   "cell_type": "code",
   "execution_count": 11,
   "metadata": {},
   "outputs": [],
   "source": [
    "import matplotlib.pyplot as plt\n",
    "def PlotLoss(hist):\n",
    "    plt.plot(np.sqrt(hist.history['loss']), label='Loss')\n",
    "    plt.plot(np.sqrt(history.history['val_loss']), label='ValidLoss')\n",
    "    plt.xlabel('Epochs')\n",
    "    plt.ylabel('RMSE')\n",
    "    plt.legend()\n",
    "    plt.show()\n",
    "    "
   ]
  },
  {
   "cell_type": "code",
   "execution_count": 12,
   "metadata": {},
   "outputs": [
    {
     "data": {
      "image/png": "[encoded data removed]",
      "text/plain": [
       "<Figure size 432x288 with 1 Axes>"
      ]
     },
     "metadata": {
      "needs_background": "light"
     },
     "output_type": "display_data"
    }
   ],
   "source": [
    "PlotLoss(history)"
   ]
  },
  {
   "cell_type": "code",
   "execution_count": 13,
   "metadata": {},
   "outputs": [
    {
     "data": {
      "text/plain": [
       "['loss', 'root_mean_squared_error', 'mean_absolute_error']"
      ]
     },
     "execution_count": 13,
     "metadata": {},
     "output_type": "execute_result"
    }
   ],
   "source": [
    "model.metrics_names"
   ]
  },
  {
   "cell_type": "code",
   "execution_count": 14,
   "metadata": {},
   "outputs": [
    {
     "name": "stdout",
     "output_type": "stream",
     "text": [
      "15809/15809 [==============================] - 12s 747us/step - loss: 2.4196 - root_mean_squared_error: 1.5555 - mean_absolute_error: 0.2931\n",
      "4519/4519 [==============================] - 3s 696us/step - loss: 2.5347 - root_mean_squared_error: 1.5921 - mean_absolute_error: 0.2997\n",
      "2257/2257 [==============================] - 2s 681us/step - loss: 2.6245 - root_mean_squared_error: 1.6200 - mean_absolute_error: 0.3023\n"
     ]
    },
    {
     "data": {
      "text/html": [
       "<div>\n",
       "<style scoped>\n",
       "    .dataframe tbody tr th:only-of-type {\n",
       "        vertical-align: middle;\n",
       "    }\n",
       "\n",
       "    .dataframe tbody tr th {\n",
       "        vertical-align: top;\n",
       "    }\n",
       "\n",
       "    .dataframe thead th {\n",
       "        text-align: right;\n",
       "    }\n",
       "</style>\n",
       "<table border=\"1\" class=\"dataframe\">\n",
       "  <thead>\n",
       "    <tr style=\"text-align: right;\">\n",
       "      <th></th>\n",
       "      <th>RMSE</th>\n",
       "    </tr>\n",
       "  </thead>\n",
       "  <tbody>\n",
       "    <tr>\n",
       "      <th>train</th>\n",
       "      <td>1.555521</td>\n",
       "    </tr>\n",
       "    <tr>\n",
       "      <th>validation</th>\n",
       "      <td>1.592071</td>\n",
       "    </tr>\n",
       "    <tr>\n",
       "      <th>test</th>\n",
       "      <td>1.620039</td>\n",
       "    </tr>\n",
       "  </tbody>\n",
       "</table>\n",
       "</div>"
      ],
      "text/plain": [
       "                RMSE\n",
       "train       1.555521\n",
       "validation  1.592071\n",
       "test        1.620039"
      ]
     },
     "execution_count": 14,
     "metadata": {},
     "output_type": "execute_result"
    }
   ],
   "source": [
    "perf = {'RMSE':[]}\n",
    "for inputs, r_targets in zip([train['inputs'],valid['inputs'], test['inputs']],\n",
    "                                             [train['targets'],valid['targets'], test['targets']]):\n",
    "    \n",
    "    dum = model.evaluate(inputs,r_targets)\n",
    "    perf['RMSE'].append(dum[1])\n",
    "    \n",
    "    del dum\n",
    "base_seq_nn = pd.DataFrame(perf,index = ['train','validation','test'])\n",
    "base_seq_nn"
   ]
  },
  {
   "cell_type": "markdown",
   "metadata": {},
   "source": [
    "The test RMSE is higher than the validation RMSE suggesting that this model is overfitting to the train and validation sets.  Now visualizing the model predictions."
   ]
  },
  {
   "cell_type": "code",
   "execution_count": 15,
   "metadata": {},
   "outputs": [
    {
     "data": {
      "image/png": "[encoded data removed]",
      "text/plain": [
       "<Figure size 432x288 with 1 Axes>"
      ]
     },
     "metadata": {
      "needs_background": "light"
     },
     "output_type": "display_data"
    }
   ],
   "source": [
    "plt.scatter(valid['targets'],model.predict(valid['inputs']))\n",
    "plt.xlabel('True')\n",
    "plt.ylabel('Predicted')\n",
    "plt.title('Validation Set')\n",
    "plt.show()"
   ]
  },
  {
   "cell_type": "code",
   "execution_count": 16,
   "metadata": {
    "scrolled": false
   },
   "outputs": [
    {
     "data": {
      "image/png": "[encoded data removed]",
      "text/plain": [
       "<Figure size 432x432 with 3 Axes>"
      ]
     },
     "metadata": {
      "needs_background": "light"
     },
     "output_type": "display_data"
    }
   ],
   "source": [
    "import seaborn as sns\n",
    "sns.jointplot(x=valid['targets'],y=model.predict(valid['inputs']).reshape(-1), kind='hex')\n",
    "plt.xlabel('True')\n",
    "plt.ylabel('Predicted')\n",
    "plt.title('Validation set')\n",
    "plt.show()"
   ]
  },
  {
   "cell_type": "markdown",
   "metadata": {},
   "source": [
    "It is hard to see the model predictions due to the very large numbers of ~0-0 true-predictions.  I will null these out and see if what the predictions look like."
   ]
  },
  {
   "cell_type": "code",
   "execution_count": 17,
   "metadata": {},
   "outputs": [
    {
     "name": "stdout",
     "output_type": "stream",
     "text": [
      "138863\n"
     ]
    }
   ],
   "source": [
    "mask = (valid['targets']<1.0) & (model.predict(valid['inputs']).reshape(-1)<1.0)\n",
    "print(sum(mask))"
   ]
  },
  {
   "cell_type": "code",
   "execution_count": 18,
   "metadata": {},
   "outputs": [],
   "source": [
    "valid_target_masked = np.copy(valid['targets'])\n",
    "valid_target_masked[mask==True] = np.NAN\n",
    "\n",
    "valid_predicted_masked = np.copy(model.predict(valid['inputs']).reshape(-1))\n",
    "valid_predicted_masked[mask==True] = np.NAN"
   ]
  },
  {
   "cell_type": "code",
   "execution_count": 19,
   "metadata": {
    "scrolled": false
   },
   "outputs": [
    {
     "data": {
      "image/png": "[encoded data removed]",
      "text/plain": [
       "<Figure size 432x432 with 3 Axes>"
      ]
     },
     "metadata": {
      "needs_background": "light"
     },
     "output_type": "display_data"
    }
   ],
   "source": [
    "import seaborn as sns\n",
    "sns.jointplot(x=valid_target_masked , y=valid_predicted_masked, dropna=True, kind='hex')\n",
    "plt.xlabel('True')\n",
    "plt.ylabel('Predicted')\n",
    "plt.title('Training set')\n",
    "plt.show()"
   ]
  },
  {
   "cell_type": "markdown",
   "metadata": {},
   "source": [
    "Not great. The 3 layer NN does not do a great job of predicting user revenue.  As shown before, only about 1% of the users made a purchase, and I believe this imbalance could be what's causing the poor results.  \n",
    "___\n",
    "## NN Classifier for purchase\n",
    "Now I will try to create a NN model that predicts only whether a purchase was made. If that is succesful it could be an input into the regression model.  \n",
    "\n"
   ]
  },
  {
   "cell_type": "code",
   "execution_count": 20,
   "metadata": {},
   "outputs": [],
   "source": [
    "train_purchase = 1.0 * np.array( [train['targets'] == 0, train['targets']>0] ).T\n",
    "valid_purchase = 1.0 * np.array( [valid['targets'] ==0 , valid['targets'] > 0] ).T\n",
    "test_purchase = 1.0 * np.array( [test['targets'] ==0 , test['targets'] > 0] ).T"
   ]
  },
  {
   "cell_type": "code",
   "execution_count": 21,
   "metadata": {},
   "outputs": [],
   "source": [
    "### \n",
    "input_size = train['inputs'].shape[1]\n",
    "output_size = 2\n",
    "hidden_layer_size = 64\n",
    "batch_size = 500\n",
    "epochs = 50"
   ]
  },
  {
   "cell_type": "code",
   "execution_count": 22,
   "metadata": {},
   "outputs": [],
   "source": [
    "clf_model = tf.keras.Sequential()\n",
    "clf_model.add(tf.keras.layers.Dense(hidden_layer_size,activation='relu'))\n",
    "clf_model.add(tf.keras.layers.Dropout(.2))\n",
    "clf_model.add(tf.keras.layers.Dense(hidden_layer_size,activation='relu'))\n",
    "clf_model.add(tf.keras.layers.Dense(hidden_layer_size,activation='relu'))\n",
    "clf_model.add(tf.keras.layers.Dense(output_size,activation='softmax'))\n",
    "\n",
    "clf_model.compile(optimizer='adam',loss=tf.keras.losses.BinaryCrossentropy(),\n",
    "                 metrics=[tf.keras.metrics.AUC(), tf.keras.metrics.Precision(), tf.keras.metrics.Recall()])\n",
    "\n",
    "\n"
   ]
  },
  {
   "cell_type": "code",
   "execution_count": 23,
   "metadata": {
    "scrolled": true
   },
   "outputs": [
    {
     "name": "stdout",
     "output_type": "stream",
     "text": [
      "Epoch 1/50\n",
      "1012/1012 - 6s - loss: 0.0406 - auc: 0.9974 - precision: 0.9864 - recall: 0.9864 - val_loss: 0.0284 - val_auc: 0.9985 - val_precision: 0.9884 - val_recall: 0.9884\n",
      "Epoch 2/50\n",
      "1012/1012 - 3s - loss: 0.0294 - auc: 0.9983 - precision: 0.9877 - recall: 0.9877 - val_loss: 0.0280 - val_auc: 0.9986 - val_precision: 0.9887 - val_recall: 0.9887\n",
      "Epoch 3/50\n",
      "1012/1012 - 3s - loss: 0.0281 - auc: 0.9985 - precision: 0.9879 - recall: 0.9879 - val_loss: 0.0274 - val_auc: 0.9986 - val_precision: 0.9884 - val_recall: 0.9884\n",
      "Epoch 4/50\n",
      "1012/1012 - 4s - loss: 0.0272 - auc: 0.9986 - precision: 0.9882 - recall: 0.9882 - val_loss: 0.0274 - val_auc: 0.9984 - val_precision: 0.9887 - val_recall: 0.9887\n",
      "Epoch 5/50\n",
      "1012/1012 - 4s - loss: 0.0267 - auc: 0.9987 - precision: 0.9884 - recall: 0.9884 - val_loss: 0.0270 - val_auc: 0.9988 - val_precision: 0.9889 - val_recall: 0.9889\n",
      "Epoch 6/50\n",
      "1012/1012 - 3s - loss: 0.0261 - auc: 0.9987 - precision: 0.9885 - recall: 0.9885 - val_loss: 0.0274 - val_auc: 0.9983 - val_precision: 0.9889 - val_recall: 0.9889\n",
      "Epoch 7/50\n",
      "1012/1012 - 4s - loss: 0.0257 - auc: 0.9988 - precision: 0.9887 - recall: 0.9887 - val_loss: 0.0274 - val_auc: 0.9986 - val_precision: 0.9888 - val_recall: 0.9888\n",
      "Epoch 8/50\n",
      "1012/1012 - 3s - loss: 0.0254 - auc: 0.9988 - precision: 0.9888 - recall: 0.9888 - val_loss: 0.0274 - val_auc: 0.9986 - val_precision: 0.9887 - val_recall: 0.9887\n",
      "Epoch 9/50\n",
      "1012/1012 - 4s - loss: 0.0250 - auc: 0.9989 - precision: 0.9889 - recall: 0.9889 - val_loss: 0.0274 - val_auc: 0.9984 - val_precision: 0.9889 - val_recall: 0.9889\n",
      "Epoch 10/50\n",
      "1012/1012 - 4s - loss: 0.0249 - auc: 0.9989 - precision: 0.9890 - recall: 0.9890 - val_loss: 0.0283 - val_auc: 0.9982 - val_precision: 0.9887 - val_recall: 0.9887\n"
     ]
    }
   ],
   "source": [
    "stop = tf.keras.callbacks.EarlyStopping(patience=5, restore_best_weights=True)\n",
    "\n",
    "history = clf_model.fit(train['inputs'],train_purchase,\n",
    "                        batch_size=batch_size,\n",
    "                        epochs=epochs,\n",
    "                        shuffle=True,\n",
    "                        callbacks=stop,                    \n",
    "                        validation_data=(valid['inputs'],valid_purchase),\n",
    "                        verbose=2\n",
    "                       )                    "
   ]
  },
  {
   "cell_type": "code",
   "execution_count": 24,
   "metadata": {},
   "outputs": [
    {
     "data": {
      "image/png": "[encoded data removed]",
      "text/plain": [
       "<Figure size 432x288 with 1 Axes>"
      ]
     },
     "metadata": {
      "needs_background": "light"
     },
     "output_type": "display_data"
    }
   ],
   "source": [
    "def PlotClfLoss(hist):\n",
    "    plt.plot(hist.history['loss'], label='Loss')\n",
    "    plt.plot(history.history['val_loss'], label='ValidLoss')\n",
    "    plt.xlabel('Epochs')\n",
    "    plt.ylabel('Binary Entropy')\n",
    "    plt.legend()\n",
    "    plt.show()\n",
    "    \n",
    "PlotClfLoss(history)"
   ]
  },
  {
   "cell_type": "code",
   "execution_count": 25,
   "metadata": {},
   "outputs": [
    {
     "name": "stdout",
     "output_type": "stream",
     "text": [
      "Train ROC AUC: 1.0\n",
      "Train Recall: 0.78024898587215\n",
      "Train Precision: 0.48260944800138433\n",
      "\n",
      "Validation ROC AUC: 0.9889902245655\n",
      "Validation Recall: 0.7474849094567404\n",
      "Validation Precision: 0.45291069795793965\n"
     ]
    }
   ],
   "source": [
    "from sklearn.metrics import recall_score, precision_score, roc_auc_score, confusion_matrix\n",
    "train_predict_proba = clf_model.predict(train['inputs'])[:,1]\n",
    "valid_predict_proba = clf_model.predict(valid['inputs'])[:,1]\n",
    "test_predict_proba = clf_model.predict(test['inputs'])[:,1]\n",
    "\n",
    "train_predicts = 1 * (train_predict_proba > 0.1)\n",
    "valid_predicts = 1 * (valid_predict_proba > 0.1)\n",
    "\n",
    "print('Train ROC AUC:', roc_auc_score(train_predicts ,train_predict_proba ))\n",
    "print('Train Recall:',recall_score(train_purchase[:,1], train_predicts))\n",
    "print('Train Precision:',precision_score(train_purchase[:,1], train_predicts))\n",
    "print()\n",
    "print('Validation ROC AUC:', roc_auc_score(valid_purchase[:,1], valid_predict_proba ))\n",
    "print('Validation Recall:',recall_score(valid_purchase[:,1], valid_predicts))\n",
    "print('Validation Precision:',precision_score(valid_purchase[:,1], valid_predicts))"
   ]
  },
  {
   "cell_type": "code",
   "execution_count": 26,
   "metadata": {},
   "outputs": [
    {
     "data": {
      "image/png": "[encoded data removed]",
      "text/plain": [
       "<Figure size 576x288 with 2 Axes>"
      ]
     },
     "metadata": {
      "needs_background": "light"
     },
     "output_type": "display_data"
    }
   ],
   "source": [
    "from sklearn.metrics import roc_curve, precision_recall_curve\n",
    "fig,ax = plt.subplots(1,2, figsize = (8,4), tight_layout=True)\n",
    "\n",
    "tpr, fpr, thresh = roc_curve(train_purchase[:,1], train_predict_proba)\n",
    "ax[0].plot(tpr,fpr,c='blue')\n",
    "\n",
    "tpr, fpr, thresh = roc_curve(valid_purchase[:,1], valid_predict_proba)\n",
    "ax[0].plot(tpr,fpr,c='red')\n",
    "\n",
    "ax[0].set_title('Receiver Operating curve')\n",
    "ax[0].set_xlabel('True Positive Rate')\n",
    "ax[0].set_ylabel('False Positive Rate')\n",
    "ax[0].legend(labels=['Train','Validation'],loc='lower right')\n",
    "\n",
    "p,r,t = precision_recall_curve(train_purchase[:,1], train_predict_proba)\n",
    "ax[1].plot(r,p,c='blue')\n",
    "p,r,t = precision_recall_curve(valid_purchase[:,1], valid_predict_proba)\n",
    "ax[1].plot(r,p,c='red')\n",
    "ax[1].set_xlabel('Recall')\n",
    "ax[1].set_ylabel('Precision')\n",
    "ax[1].set_title('Precision - Recall Curve')\n",
    "ax[1].legend(labels=['Train','Validation'])\n",
    "plt.show()\n",
    "\n"
   ]
  },
  {
   "cell_type": "markdown",
   "metadata": {},
   "source": [
    "These features are pretty good at predicting if there was a purchase, but I didn't take the final pre-processing steps that I normally would for a classification problem (multicollinearity).  Quick check on the test set."
   ]
  },
  {
   "cell_type": "code",
   "execution_count": 27,
   "metadata": {},
   "outputs": [
    {
     "name": "stdout",
     "output_type": "stream",
     "text": [
      "Test ROC AUC: 0.9881152642340383\n"
     ]
    }
   ],
   "source": [
    "print('Test ROC AUC:', roc_auc_score(test_purchase[:,1], test_predict_proba ))"
   ]
  },
  {
   "cell_type": "markdown",
   "metadata": {},
   "source": [
    "The classifier looks useful.  Now I will append the classification probability to the model and re-do the regression."
   ]
  },
  {
   "cell_type": "markdown",
   "metadata": {},
   "source": [
    "## Using classifier prediction in regression model\n",
    "Now how to use the predicted purchase in a regression model.  Is there a way to combine the classification and regression models into one? A model inside a model? For now I will concatenate the classification predicted probabilities to the inputs of the data sets, an create a new regression NN."
   ]
  },
  {
   "cell_type": "code",
   "execution_count": 28,
   "metadata": {},
   "outputs": [
    {
     "data": {
      "text/plain": [
       "(505867, 356)"
      ]
     },
     "execution_count": 28,
     "metadata": {},
     "output_type": "execute_result"
    }
   ],
   "source": [
    "train['inputs'].shape"
   ]
  },
  {
   "cell_type": "code",
   "execution_count": 29,
   "metadata": {},
   "outputs": [
    {
     "name": "stdout",
     "output_type": "stream",
     "text": [
      "(505867, 357)\n"
     ]
    }
   ],
   "source": [
    "X_train = np.hstack([train['inputs'],train_predict_proba.reshape(-1,1)])\n",
    "\n",
    "X_valid = np.hstack([valid['inputs'],valid_predict_proba.reshape(-1,1)])\n",
    "\n",
    "X_test = np.hstack([test['inputs'],test_predict_proba.reshape(-1,1)])\n",
    "print(X_train.shape)"
   ]
  },
  {
   "cell_type": "markdown",
   "metadata": {},
   "source": [
    "Now going back to a tf regression modelling"
   ]
  },
  {
   "cell_type": "code",
   "execution_count": 30,
   "metadata": {},
   "outputs": [],
   "source": [
    "input_size = X_train.shape[1]\n",
    "output_size = 1\n",
    "hidden_layer_size = 64\n",
    "batch_size = 500\n",
    "epochs = 50\n"
   ]
  },
  {
   "cell_type": "code",
   "execution_count": 31,
   "metadata": {},
   "outputs": [],
   "source": [
    "model = tf.keras.Sequential()\n",
    "\n",
    "### 3 Dense layers, first 2 with dropout for regularization\n",
    "model.add(tf.keras.layers.Dense(hidden_layer_size, activation = 'relu'))\n",
    "model.add(tf.keras.layers.Dropout(0.2))\n",
    "model.add(tf.keras.layers.Dense(hidden_layer_size, activation = 'relu'))\n",
    "model.add(tf.keras.layers.Dense(hidden_layer_size, activation = 'relu'))\n",
    "model.add(tf.keras.layers.Dense(1))\n",
    "\n",
    "\n",
    "\n",
    "\n",
    "model.compile(optimizer='adam', \n",
    "              loss = tf.keras.losses.MeanSquaredError(), \n",
    "              metrics = [tf.keras.metrics.RootMeanSquaredError(), tf.keras.metrics.MeanAbsoluteError()])"
   ]
  },
  {
   "cell_type": "code",
   "execution_count": 32,
   "metadata": {},
   "outputs": [
    {
     "name": "stdout",
     "output_type": "stream",
     "text": [
      "Epoch 1/50\n",
      "1012/1012 - 4s - loss: 3.0265 - root_mean_squared_error: 1.7397 - mean_absolute_error: 0.4102 - val_loss: 2.5967 - val_root_mean_squared_error: 1.6114 - val_mean_absolute_error: 0.3208\n",
      "Epoch 2/50\n",
      "1012/1012 - 3s - loss: 2.6719 - root_mean_squared_error: 1.6346 - mean_absolute_error: 0.3381 - val_loss: 2.5431 - val_root_mean_squared_error: 1.5947 - val_mean_absolute_error: 0.3273\n",
      "Epoch 3/50\n",
      "1012/1012 - 3s - loss: 2.5956 - root_mean_squared_error: 1.6111 - mean_absolute_error: 0.3222 - val_loss: 2.6219 - val_root_mean_squared_error: 1.6192 - val_mean_absolute_error: 0.3111\n",
      "Epoch 4/50\n",
      "1012/1012 - 2s - loss: 2.5449 - root_mean_squared_error: 1.5953 - mean_absolute_error: 0.3123 - val_loss: 2.5472 - val_root_mean_squared_error: 1.5960 - val_mean_absolute_error: 0.2995\n",
      "Epoch 5/50\n",
      "1012/1012 - 2s - loss: 2.5186 - root_mean_squared_error: 1.5870 - mean_absolute_error: 0.3092 - val_loss: 2.6087 - val_root_mean_squared_error: 1.6151 - val_mean_absolute_error: 0.3058\n",
      "Epoch 6/50\n",
      "1012/1012 - 2s - loss: 2.4956 - root_mean_squared_error: 1.5797 - mean_absolute_error: 0.3039 - val_loss: 2.5180 - val_root_mean_squared_error: 1.5868 - val_mean_absolute_error: 0.2901\n",
      "Epoch 7/50\n",
      "1012/1012 - 2s - loss: 2.4586 - root_mean_squared_error: 1.5680 - mean_absolute_error: 0.2978 - val_loss: 2.5327 - val_root_mean_squared_error: 1.5914 - val_mean_absolute_error: 0.2987\n",
      "Epoch 8/50\n",
      "1012/1012 - 3s - loss: 2.4341 - root_mean_squared_error: 1.5602 - mean_absolute_error: 0.2922 - val_loss: 2.5615 - val_root_mean_squared_error: 1.6005 - val_mean_absolute_error: 0.2789\n",
      "Epoch 9/50\n",
      "1012/1012 - 3s - loss: 2.4176 - root_mean_squared_error: 1.5549 - mean_absolute_error: 0.2908 - val_loss: 2.6012 - val_root_mean_squared_error: 1.6128 - val_mean_absolute_error: 0.2692\n",
      "Epoch 10/50\n",
      "1012/1012 - 3s - loss: 2.3989 - root_mean_squared_error: 1.5488 - mean_absolute_error: 0.2882 - val_loss: 2.5439 - val_root_mean_squared_error: 1.5950 - val_mean_absolute_error: 0.2942\n",
      "Epoch 11/50\n",
      "1012/1012 - 2s - loss: 2.3699 - root_mean_squared_error: 1.5394 - mean_absolute_error: 0.2830 - val_loss: 2.5547 - val_root_mean_squared_error: 1.5983 - val_mean_absolute_error: 0.2757\n"
     ]
    }
   ],
   "source": [
    "early_stop = tf.keras.callbacks.EarlyStopping(patience=5, restore_best_weights=True)\n",
    "\n",
    "history = model.fit(x=X_train,\n",
    "          y=train['targets'],\n",
    "          batch_size=batch_size,\n",
    "          callbacks=early_stop,\n",
    "          epochs=epochs,\n",
    "          validation_data=(X_valid,valid['targets']),\n",
    "          verbose = 2)"
   ]
  },
  {
   "cell_type": "code",
   "execution_count": 33,
   "metadata": {},
   "outputs": [
    {
     "data": {
      "image/png": "[encoded data removed]",
      "text/plain": [
       "<Figure size 432x288 with 1 Axes>"
      ]
     },
     "metadata": {
      "needs_background": "light"
     },
     "output_type": "display_data"
    }
   ],
   "source": [
    "def PlotLoss(hist):\n",
    "    plt.plot(np.sqrt(hist.history['loss']), label='Loss')\n",
    "    plt.plot(np.sqrt(history.history['val_loss']), label='ValidLoss')\n",
    "    plt.xlabel('Epochs')\n",
    "    plt.ylabel('RMSE')\n",
    "    plt.legend()\n",
    "    plt.show()\n",
    "PlotLoss(history)"
   ]
  },
  {
   "cell_type": "code",
   "execution_count": 35,
   "metadata": {},
   "outputs": [
    {
     "name": "stdout",
     "output_type": "stream",
     "text": [
      "15809/15809 [==============================] - 8s 484us/step - loss: 2.3710 - root_mean_squared_error: 1.5398 - mean_absolute_error: 0.2828\n",
      "4519/4519 [==============================] - 2s 513us/step - loss: 2.5180 - root_mean_squared_error: 1.5868 - mean_absolute_error: 0.2901\n",
      "2257/2257 [==============================] - 1s 597us/step - loss: 2.6230 - root_mean_squared_error: 1.6196 - mean_absolute_error: 0.2943\n"
     ]
    },
    {
     "data": {
      "text/html": [
       "<div>\n",
       "<style scoped>\n",
       "    .dataframe tbody tr th:only-of-type {\n",
       "        vertical-align: middle;\n",
       "    }\n",
       "\n",
       "    .dataframe tbody tr th {\n",
       "        vertical-align: top;\n",
       "    }\n",
       "\n",
       "    .dataframe thead th {\n",
       "        text-align: right;\n",
       "    }\n",
       "</style>\n",
       "<table border=\"1\" class=\"dataframe\">\n",
       "  <thead>\n",
       "    <tr style=\"text-align: right;\">\n",
       "      <th></th>\n",
       "      <th>RMSE</th>\n",
       "    </tr>\n",
       "  </thead>\n",
       "  <tbody>\n",
       "    <tr>\n",
       "      <th>train</th>\n",
       "      <td>1.539805</td>\n",
       "    </tr>\n",
       "    <tr>\n",
       "      <th>validation</th>\n",
       "      <td>1.586827</td>\n",
       "    </tr>\n",
       "    <tr>\n",
       "      <th>test</th>\n",
       "      <td>1.619583</td>\n",
       "    </tr>\n",
       "  </tbody>\n",
       "</table>\n",
       "</div>"
      ],
      "text/plain": [
       "                RMSE\n",
       "train       1.539805\n",
       "validation  1.586827\n",
       "test        1.619583"
      ]
     },
     "execution_count": 35,
     "metadata": {},
     "output_type": "execute_result"
    }
   ],
   "source": [
    "perf = {'RMSE':[]}\n",
    "for inputs, r_targets in zip([X_train,X_valid, X_test],\n",
    "                                             [train['targets'],valid['targets'], test['targets']]):\n",
    "    \n",
    "    dum = model.evaluate(inputs,r_targets)\n",
    "    perf['RMSE'].append(dum[1])\n",
    "    \n",
    "    del dum\n",
    "seq_nn_w_clf = pd.DataFrame(perf,index = ['train','validation','test'])\n",
    "seq_nn_w_clf"
   ]
  },
  {
   "cell_type": "code",
   "execution_count": 36,
   "metadata": {},
   "outputs": [
    {
     "data": {
      "text/html": [
       "<div>\n",
       "<style scoped>\n",
       "    .dataframe tbody tr th:only-of-type {\n",
       "        vertical-align: middle;\n",
       "    }\n",
       "\n",
       "    .dataframe tbody tr th {\n",
       "        vertical-align: top;\n",
       "    }\n",
       "\n",
       "    .dataframe thead th {\n",
       "        text-align: right;\n",
       "    }\n",
       "</style>\n",
       "<table border=\"1\" class=\"dataframe\">\n",
       "  <thead>\n",
       "    <tr style=\"text-align: right;\">\n",
       "      <th></th>\n",
       "      <th>RMSE</th>\n",
       "    </tr>\n",
       "  </thead>\n",
       "  <tbody>\n",
       "    <tr>\n",
       "      <th>train</th>\n",
       "      <td>1.555521</td>\n",
       "    </tr>\n",
       "    <tr>\n",
       "      <th>validation</th>\n",
       "      <td>1.592071</td>\n",
       "    </tr>\n",
       "    <tr>\n",
       "      <th>test</th>\n",
       "      <td>1.620039</td>\n",
       "    </tr>\n",
       "  </tbody>\n",
       "</table>\n",
       "</div>"
      ],
      "text/plain": [
       "                RMSE\n",
       "train       1.555521\n",
       "validation  1.592071\n",
       "test        1.620039"
      ]
     },
     "execution_count": 36,
     "metadata": {},
     "output_type": "execute_result"
    }
   ],
   "source": [
    "base_seq_nn"
   ]
  },
  {
   "cell_type": "markdown",
   "metadata": {},
   "source": [
    "There was only a very small improvement in using the classifier prediction for the regression model for the validation and test sets.  The training set has decreased more, but it looks to be overfitting to the training set, not really an improvement."
   ]
  },
  {
   "cell_type": "markdown",
   "metadata": {},
   "source": [
    "### Expected revenue\n",
    "Next I'll try multiplying the regression prediction by the classification probability, a sort of expected purchase for each user. There is a Multiply layer so maybe I can pass the classifier probabilities to the regression model.  For now I will simply take the classifier probabilities multiplied by the regression output."
   ]
  },
  {
   "cell_type": "code",
   "execution_count": 37,
   "metadata": {},
   "outputs": [],
   "source": [
    "input_size = train['inputs'].shape[1]\n",
    "output_size = 1\n",
    "hidden_layer_size = 64\n",
    "batch_size = 500\n",
    "epochs = 50"
   ]
  },
  {
   "cell_type": "code",
   "execution_count": 38,
   "metadata": {},
   "outputs": [],
   "source": [
    "model = tf.keras.Sequential()\n",
    "\n",
    "### 3 Dense layers, first 2 with dropout for regularization\n",
    "model.add(tf.keras.layers.Dense(hidden_layer_size, activation = 'relu'))\n",
    "model.add(tf.keras.layers.Dropout(0.2))\n",
    "model.add(tf.keras.layers.Dense(hidden_layer_size, activation = 'relu'))\n",
    "model.add(tf.keras.layers.Dense(hidden_layer_size, activation = 'relu'))\n",
    "model.add(tf.keras.layers.Dense(1))\n",
    "\n",
    "\n",
    "\n",
    "\n",
    "\n",
    "model.compile(optimizer='adam', \n",
    "              loss = tf.keras.losses.MeanSquaredError(), \n",
    "              metrics = [tf.keras.metrics.RootMeanSquaredError(), tf.keras.metrics.MeanAbsoluteError()])"
   ]
  },
  {
   "cell_type": "code",
   "execution_count": 39,
   "metadata": {
    "scrolled": true
   },
   "outputs": [
    {
     "name": "stdout",
     "output_type": "stream",
     "text": [
      "Epoch 1/50\n",
      "1012/1012 - 2s - loss: 3.0730 - root_mean_squared_error: 1.7530 - mean_absolute_error: 0.4154 - val_loss: 2.6780 - val_root_mean_squared_error: 1.6365 - val_mean_absolute_error: 0.3186\n",
      "Epoch 2/50\n",
      "1012/1012 - 2s - loss: 2.7652 - root_mean_squared_error: 1.6629 - mean_absolute_error: 0.3480 - val_loss: 2.5640 - val_root_mean_squared_error: 1.6013 - val_mean_absolute_error: 0.3253\n",
      "Epoch 3/50\n",
      "1012/1012 - 2s - loss: 2.6822 - root_mean_squared_error: 1.6377 - mean_absolute_error: 0.3344 - val_loss: 2.5703 - val_root_mean_squared_error: 1.6032 - val_mean_absolute_error: 0.3184\n",
      "Epoch 4/50\n",
      "1012/1012 - 2s - loss: 2.6541 - root_mean_squared_error: 1.6291 - mean_absolute_error: 0.3280 - val_loss: 2.5270 - val_root_mean_squared_error: 1.5897 - val_mean_absolute_error: 0.3087\n",
      "Epoch 5/50\n",
      "1012/1012 - 3s - loss: 2.6097 - root_mean_squared_error: 1.6155 - mean_absolute_error: 0.3163 - val_loss: 2.5745 - val_root_mean_squared_error: 1.6045 - val_mean_absolute_error: 0.3016\n",
      "Epoch 6/50\n",
      "1012/1012 - 3s - loss: 2.5571 - root_mean_squared_error: 1.5991 - mean_absolute_error: 0.3169 - val_loss: 2.5651 - val_root_mean_squared_error: 1.6016 - val_mean_absolute_error: 0.3165\n",
      "Epoch 7/50\n",
      "1012/1012 - 3s - loss: 2.5368 - root_mean_squared_error: 1.5927 - mean_absolute_error: 0.3059 - val_loss: 2.5540 - val_root_mean_squared_error: 1.5981 - val_mean_absolute_error: 0.3817\n",
      "Epoch 8/50\n",
      "1012/1012 - 3s - loss: 2.4996 - root_mean_squared_error: 1.5810 - mean_absolute_error: 0.3062 - val_loss: 2.5516 - val_root_mean_squared_error: 1.5974 - val_mean_absolute_error: 0.2854\n",
      "Epoch 9/50\n",
      "1012/1012 - 2s - loss: 2.4773 - root_mean_squared_error: 1.5740 - mean_absolute_error: 0.3037 - val_loss: 2.6756 - val_root_mean_squared_error: 1.6357 - val_mean_absolute_error: 0.2934\n"
     ]
    }
   ],
   "source": [
    "early_stop = tf.keras.callbacks.EarlyStopping(patience=5, restore_best_weights=True)\n",
    "\n",
    "history = model.fit(x=train['inputs'],\n",
    "          y=train['targets'],\n",
    "          batch_size=batch_size,\n",
    "          callbacks=early_stop,\n",
    "          epochs=epochs,\n",
    "          validation_data=(valid['inputs'],valid['targets']),\n",
    "          verbose = 2)"
   ]
  },
  {
   "cell_type": "code",
   "execution_count": 40,
   "metadata": {},
   "outputs": [
    {
     "data": {
      "image/png": "[encoded data removed]",
      "text/plain": [
       "<Figure size 432x288 with 1 Axes>"
      ]
     },
     "metadata": {
      "needs_background": "light"
     },
     "output_type": "display_data"
    }
   ],
   "source": [
    "PlotLoss(history)"
   ]
  },
  {
   "cell_type": "code",
   "execution_count": 41,
   "metadata": {},
   "outputs": [],
   "source": [
    "train_predict_exp = model.predict(train['inputs']) * train_predict_proba.reshape(1,-1).T\n",
    "\n",
    "valid_predict_exp = model.predict(valid['inputs']) * valid_predict_proba.reshape(1,-1).T\n",
    "\n",
    "test_predict_exp = model.predict(test['inputs']) * test_predict_proba.reshape(1,-1).T"
   ]
  },
  {
   "cell_type": "code",
   "execution_count": 42,
   "metadata": {},
   "outputs": [
    {
     "name": "stdout",
     "output_type": "stream",
     "text": [
      "Train RMSE: 1.7048629627913703\n",
      "Validation RMSE: 1.7033697604478688\n",
      "Test RMSE: 1.7400272747389773\n"
     ]
    }
   ],
   "source": [
    "print('Train RMSE:',np.sqrt(mean_squared_error(train['targets'],train_predict_exp)))\n",
    "print('Validation RMSE:',np.sqrt(mean_squared_error(valid['targets'],valid_predict_exp)))\n",
    "print('Test RMSE:',np.sqrt(mean_squared_error(test['targets'],test_predict_exp)))"
   ]
  },
  {
   "cell_type": "markdown",
   "metadata": {},
   "source": [
    "These numbers are worse, and of course they are the model is solved for by minimizing the MSE and then I multiplied the output by some scalar it hasn't seen before.  I need to figure out how to add the multiplication of the purchase probability as the last layer in the tf model."
   ]
  },
  {
   "cell_type": "markdown",
   "metadata": {},
   "source": [
    "### Now using Keras' Functional API I will attempt a network of layers to create a regressor and classifier in 1 model\n",
    "I will do this 2 ways:\n",
    "- the classifier as a probability multiplied by the regression output\n",
    "- the classifier as an input into the regression\n",
    "\n",
    "The model will use the same inputs, and have two ouputs, a classifier for a purchase and a regressor for the size of the purchase. The model will optimize for both at the same time."
   ]
  },
  {
   "cell_type": "code",
   "execution_count": 43,
   "metadata": {},
   "outputs": [],
   "source": [
    "#import tensorflow as tf\n",
    "#import pandas as pd\n",
    "#import matplotlib.pyplot as plt"
   ]
  },
  {
   "cell_type": "code",
   "execution_count": 45,
   "metadata": {},
   "outputs": [],
   "source": [
    "input_size = train['inputs'].shape[1]\n",
    "output_size = 1\n",
    "hidden_layer_size = 64\n",
    "batch_size = 500\n",
    "epochs = 100"
   ]
  },
  {
   "cell_type": "code",
   "execution_count": 46,
   "metadata": {},
   "outputs": [],
   "source": [
    "### Creation of classifier targets (already have regrssion targets)\n",
    "train_purchase = 1.0 * np.array( [train['targets'] == 0, train['targets']>0] ).T\n",
    "valid_purchase = 1.0 * np.array( [valid['targets'] ==0 , valid['targets'] > 0] ).T\n",
    "test_purchase = 1.0 * np.array( [test['targets'] ==0 , test['targets'] > 0] ).T"
   ]
  },
  {
   "cell_type": "code",
   "execution_count": 47,
   "metadata": {},
   "outputs": [
    {
     "data": {
      "image/png": "[encoded data removed]",
      "text/plain": [
       "<IPython.core.display.Image object>"
      ]
     },
     "execution_count": 47,
     "metadata": {},
     "output_type": "execute_result"
    }
   ],
   "source": [
    "tf.keras.backend.clear_session()\n",
    "### Create input layer\n",
    "inputs = tf.keras.Input(shape=(input_size,),name='input') # shape (features,)\n",
    "\n",
    "### Now build regression portion of model\n",
    "reg = tf.keras.layers.Dense(hidden_layer_size, activation='relu', name='Reg_L1')(inputs) # shape (None, 64)\n",
    "reg = tf.keras.layers.Dropout(.2)(reg)\n",
    "reg = tf.keras.layers.Dense(hidden_layer_size, activation='relu', name='Reg_L2')(reg) # shape (None, 64)\n",
    "reg = tf.keras.layers.Dense(hidden_layer_size//2, activation='relu', name='Reg_L3')(reg) # shape (None, 64)\n",
    "reg = tf.keras.layers.Dense(1, name='RegFinal')(reg) # shape (None,1)\n",
    "\n",
    "\n",
    "### Building the classifier\n",
    "clf = tf.keras.layers.Dense(hidden_layer_size, activation = 'relu', name='Clf_L1')(inputs) # shape (None, 64)\n",
    "clf = tf.keras.layers.Dropout(.2)(clf)\n",
    "clf = tf.keras.layers.Dense(hidden_layer_size, activation = 'relu', name='Clf_L2')(clf) # shape (None, 64)\n",
    "clf = tf.keras.layers.Dense(hidden_layer_size//2, activation = 'relu', name='Clf_L3')(clf) # shape (None, 64)\n",
    "clf_out = tf.keras.layers.Dense(2, activation='softmax', name='classifier')(clf) # shape (None, 2)\n",
    "\n",
    "### Final step, multiply purchase prediction by regression prediction\n",
    "reg_out = tf.keras.layers.multiply([clf_out[:,1], reg], name='ExpValue')\n",
    "reg_out = tf.keras.layers.Dense(output_size, name='regression')(reg_out)\n",
    "\n",
    "complex_model = tf.keras.Model(inputs=inputs, outputs = [reg_out, clf_out])\n",
    "\n",
    "tf.keras.utils.plot_model(complex_model, show_shapes=True)\n",
    "\n",
    "#complex_model.summary()\n"
   ]
  },
  {
   "cell_type": "code",
   "execution_count": 48,
   "metadata": {},
   "outputs": [],
   "source": [
    "complex_model.compile(optimizer='adam',\n",
    "                     loss={'classifier':tf.keras.losses.BinaryCrossentropy(from_logits=False),\n",
    "                          'regression': tf.keras.losses.MeanSquaredError()},\n",
    "                     metrics={'classifier':[tf.keras.metrics.AUC(), \n",
    "                                            tf.keras.metrics.Precision(),\n",
    "                                            tf.keras.metrics.Recall()],\n",
    "                             'regression': [tf.keras.metrics.RootMeanSquaredError(),\n",
    "                                          tf.keras.metrics.MeanAbsoluteError()]}\n",
    "                     )"
   ]
  },
  {
   "cell_type": "code",
   "execution_count": 49,
   "metadata": {
    "scrolled": true
   },
   "outputs": [
    {
     "name": "stdout",
     "output_type": "stream",
     "text": [
      "Epoch 1/100\n",
      "1012/1012 - 8s - loss: 3.1312 - regression_loss: 3.0367 - classifier_loss: 0.0945 - regression_root_mean_squared_error: 1.7426 - regression_mean_absolute_error: 0.3382 - classifier_auc: 0.9949 - classifier_precision: 0.9658 - classifier_recall: 0.9658 - val_loss: 2.6980 - val_regression_loss: 2.6488 - val_classifier_loss: 0.0491 - val_regression_root_mean_squared_error: 1.6275 - val_regression_mean_absolute_error: 0.3094 - val_classifier_auc: 0.9982 - val_classifier_precision: 0.9769 - val_classifier_recall: 0.9769\n",
      "Epoch 2/100\n",
      "1012/1012 - 5s - loss: 2.8194 - regression_loss: 2.7708 - classifier_loss: 0.0486 - regression_root_mean_squared_error: 1.6646 - regression_mean_absolute_error: 0.3115 - classifier_auc: 0.9979 - classifier_precision: 0.9781 - classifier_recall: 0.9781 - val_loss: 2.9198 - val_regression_loss: 2.8805 - val_classifier_loss: 0.0393 - val_regression_root_mean_squared_error: 1.6972 - val_regression_mean_absolute_error: 0.2847 - val_classifier_auc: 0.9988 - val_classifier_precision: 0.9845 - val_classifier_recall: 0.9845\n",
      "Epoch 3/100\n",
      "1012/1012 - 4s - loss: 2.7592 - regression_loss: 2.7133 - classifier_loss: 0.0458 - regression_root_mean_squared_error: 1.6472 - regression_mean_absolute_error: 0.3047 - classifier_auc: 0.9980 - classifier_precision: 0.9790 - classifier_recall: 0.9790 - val_loss: 2.6865 - val_regression_loss: 2.6330 - val_classifier_loss: 0.0535 - val_regression_root_mean_squared_error: 1.6227 - val_regression_mean_absolute_error: 0.3099 - val_classifier_auc: 0.9974 - val_classifier_precision: 0.9743 - val_classifier_recall: 0.9743\n",
      "Epoch 4/100\n",
      "1012/1012 - 4s - loss: 2.6750 - regression_loss: 2.6312 - classifier_loss: 0.0438 - regression_root_mean_squared_error: 1.6221 - regression_mean_absolute_error: 0.2973 - classifier_auc: 0.9982 - classifier_precision: 0.9800 - classifier_recall: 0.9800 - val_loss: 2.6553 - val_regression_loss: 2.6152 - val_classifier_loss: 0.0402 - val_regression_root_mean_squared_error: 1.6172 - val_regression_mean_absolute_error: 0.2836 - val_classifier_auc: 0.9986 - val_classifier_precision: 0.9827 - val_classifier_recall: 0.9827\n",
      "Epoch 5/100\n",
      "1012/1012 - 5s - loss: 2.6296 - regression_loss: 2.5886 - classifier_loss: 0.0410 - regression_root_mean_squared_error: 1.6089 - regression_mean_absolute_error: 0.2919 - classifier_auc: 0.9983 - classifier_precision: 0.9812 - classifier_recall: 0.9812 - val_loss: 2.6623 - val_regression_loss: 2.6215 - val_classifier_loss: 0.0407 - val_regression_root_mean_squared_error: 1.6191 - val_regression_mean_absolute_error: 0.2800 - val_classifier_auc: 0.9984 - val_classifier_precision: 0.9809 - val_classifier_recall: 0.9809\n",
      "Epoch 6/100\n",
      "1012/1012 - 5s - loss: 2.5777 - regression_loss: 2.5381 - classifier_loss: 0.0396 - regression_root_mean_squared_error: 1.5931 - regression_mean_absolute_error: 0.2860 - classifier_auc: 0.9984 - classifier_precision: 0.9820 - classifier_recall: 0.9820 - val_loss: 2.7276 - val_regression_loss: 2.6861 - val_classifier_loss: 0.0415 - val_regression_root_mean_squared_error: 1.6389 - val_regression_mean_absolute_error: 0.2788 - val_classifier_auc: 0.9983 - val_classifier_precision: 0.9808 - val_classifier_recall: 0.9808\n",
      "Epoch 7/100\n",
      "1012/1012 - 4s - loss: 2.5476 - regression_loss: 2.5075 - classifier_loss: 0.0401 - regression_root_mean_squared_error: 1.5835 - regression_mean_absolute_error: 0.2817 - classifier_auc: 0.9982 - classifier_precision: 0.9815 - classifier_recall: 0.9815 - val_loss: 2.5794 - val_regression_loss: 2.5391 - val_classifier_loss: 0.0402 - val_regression_root_mean_squared_error: 1.5935 - val_regression_mean_absolute_error: 0.2842 - val_classifier_auc: 0.9986 - val_classifier_precision: 0.9828 - val_classifier_recall: 0.9828\n",
      "Epoch 8/100\n",
      "1012/1012 - 5s - loss: 2.5047 - regression_loss: 2.4655 - classifier_loss: 0.0392 - regression_root_mean_squared_error: 1.5702 - regression_mean_absolute_error: 0.2782 - classifier_auc: 0.9983 - classifier_precision: 0.9824 - classifier_recall: 0.9824 - val_loss: 2.6919 - val_regression_loss: 2.6523 - val_classifier_loss: 0.0396 - val_regression_root_mean_squared_error: 1.6286 - val_regression_mean_absolute_error: 0.2778 - val_classifier_auc: 0.9985 - val_classifier_precision: 0.9831 - val_classifier_recall: 0.9831\n",
      "Epoch 9/100\n",
      "1012/1012 - 6s - loss: 2.4676 - regression_loss: 2.4294 - classifier_loss: 0.0382 - regression_root_mean_squared_error: 1.5587 - regression_mean_absolute_error: 0.2749 - classifier_auc: 0.9984 - classifier_precision: 0.9826 - classifier_recall: 0.9826 - val_loss: 2.5985 - val_regression_loss: 2.5598 - val_classifier_loss: 0.0387 - val_regression_root_mean_squared_error: 1.5999 - val_regression_mean_absolute_error: 0.2812 - val_classifier_auc: 0.9986 - val_classifier_precision: 0.9831 - val_classifier_recall: 0.9831\n",
      "Epoch 10/100\n",
      "1012/1012 - 6s - loss: 2.4256 - regression_loss: 2.3875 - classifier_loss: 0.0381 - regression_root_mean_squared_error: 1.5452 - regression_mean_absolute_error: 0.2707 - classifier_auc: 0.9983 - classifier_precision: 0.9830 - classifier_recall: 0.9830 - val_loss: 2.6895 - val_regression_loss: 2.6500 - val_classifier_loss: 0.0395 - val_regression_root_mean_squared_error: 1.6279 - val_regression_mean_absolute_error: 0.2682 - val_classifier_auc: 0.9984 - val_classifier_precision: 0.9831 - val_classifier_recall: 0.9831\n",
      "Epoch 11/100\n",
      "1012/1012 - 5s - loss: 2.3874 - regression_loss: 2.3500 - classifier_loss: 0.0375 - regression_root_mean_squared_error: 1.5330 - regression_mean_absolute_error: 0.2660 - classifier_auc: 0.9984 - classifier_precision: 0.9831 - classifier_recall: 0.9831 - val_loss: 2.6011 - val_regression_loss: 2.5615 - val_classifier_loss: 0.0396 - val_regression_root_mean_squared_error: 1.6005 - val_regression_mean_absolute_error: 0.2732 - val_classifier_auc: 0.9984 - val_classifier_precision: 0.9832 - val_classifier_recall: 0.9832\n",
      "Epoch 12/100\n",
      "1012/1012 - 5s - loss: 2.3665 - regression_loss: 2.3289 - classifier_loss: 0.0377 - regression_root_mean_squared_error: 1.5261 - regression_mean_absolute_error: 0.2639 - classifier_auc: 0.9983 - classifier_precision: 0.9829 - classifier_recall: 0.9829 - val_loss: 2.6319 - val_regression_loss: 2.5914 - val_classifier_loss: 0.0405 - val_regression_root_mean_squared_error: 1.6098 - val_regression_mean_absolute_error: 0.2771 - val_classifier_auc: 0.9983 - val_classifier_precision: 0.9824 - val_classifier_recall: 0.9824\n"
     ]
    }
   ],
   "source": [
    "earlystop = tf.keras.callbacks.EarlyStopping(patience=5, restore_best_weights=True)\n",
    "\n",
    "history = complex_model.fit(train['inputs'],\n",
    "                           {'regression':train['targets'],'classifier':train_purchase},\n",
    "                           epochs=epochs,\n",
    "                           batch_size=batch_size,\n",
    "                           callbacks=earlystop,\n",
    "                           validation_data=(valid['inputs'],{'regression':valid['targets'],\n",
    "                                                              'classifier':valid_purchase}),\n",
    "                           verbose=2\n",
    "                           )"
   ]
  },
  {
   "cell_type": "code",
   "execution_count": 50,
   "metadata": {},
   "outputs": [
    {
     "data": {
      "text/plain": [
       "['loss',\n",
       " 'regression_loss',\n",
       " 'classifier_loss',\n",
       " 'regression_root_mean_squared_error',\n",
       " 'regression_mean_absolute_error',\n",
       " 'classifier_auc',\n",
       " 'classifier_precision',\n",
       " 'classifier_recall']"
      ]
     },
     "execution_count": 50,
     "metadata": {},
     "output_type": "execute_result"
    }
   ],
   "source": [
    "complex_model.metrics_names"
   ]
  },
  {
   "cell_type": "code",
   "execution_count": 52,
   "metadata": {},
   "outputs": [
    {
     "data": {
      "text/plain": [
       "dict_keys(['loss', 'regression_loss', 'classifier_loss', 'regression_root_mean_squared_error', 'regression_mean_absolute_error', 'classifier_auc', 'classifier_precision', 'classifier_recall', 'val_loss', 'val_regression_loss', 'val_classifier_loss', 'val_regression_root_mean_squared_error', 'val_regression_mean_absolute_error', 'val_classifier_auc', 'val_classifier_precision', 'val_classifier_recall'])"
      ]
     },
     "execution_count": 52,
     "metadata": {},
     "output_type": "execute_result"
    }
   ],
   "source": [
    "history.history.keys()"
   ]
  },
  {
   "cell_type": "code",
   "execution_count": 53,
   "metadata": {},
   "outputs": [
    {
     "data": {
      "image/png": "[encoded data removed]",
      "text/plain": [
       "<Figure size 432x288 with 2 Axes>"
      ]
     },
     "metadata": {
      "needs_background": "light"
     },
     "output_type": "display_data"
    }
   ],
   "source": [
    "import matplotlib.pyplot as plt\n",
    "\n",
    "fig,ax = plt.subplots(figsize=(6,4))\n",
    "ax.plot(history.history['regression_root_mean_squared_error'] ,label='Train RMSE')\n",
    "ax.plot(history.history['val_regression_root_mean_squared_error'] ,label='Val RMSE')\n",
    "\n",
    "ax2 = ax.twinx()\n",
    "\n",
    "ax2.plot(history.history['classifier_auc'],label='Train AUC', linestyle=':')\n",
    "ax2.plot(history.history['val_classifier_auc'],label = 'Val AUC', linestyle=':')\n",
    "\n",
    "ax.set_xlabel('Epochs')\n",
    "\n",
    "ax.set_ylabel('RMSE')\n",
    "ax2.set_ylabel('Classifier ROC AUC')\n",
    "ax2.legend(bbox_to_anchor= (1.2, 1.2))\n",
    "ax.legend(bbox_to_anchor= (0.1, 1.2))\n",
    "#ax2.legend(loc='upper', bbox_to_anchor= (1.1, 0.6), ncol=1,\n",
    " #           borderaxespad=0, frameon=False)\n",
    "#plt.legend(loc='upper right')\n",
    "plt.show()"
   ]
  },
  {
   "cell_type": "markdown",
   "metadata": {},
   "source": [
    "### Performance\n"
   ]
  },
  {
   "cell_type": "code",
   "execution_count": 54,
   "metadata": {},
   "outputs": [
    {
     "data": {
      "text/plain": [
       "['loss',\n",
       " 'regression_loss',\n",
       " 'classifier_loss',\n",
       " 'regression_root_mean_squared_error',\n",
       " 'regression_mean_absolute_error',\n",
       " 'classifier_auc',\n",
       " 'classifier_precision',\n",
       " 'classifier_recall']"
      ]
     },
     "execution_count": 54,
     "metadata": {},
     "output_type": "execute_result"
    }
   ],
   "source": [
    "metrics = complex_model.metrics_names\n",
    "metrics"
   ]
  },
  {
   "cell_type": "code",
   "execution_count": 56,
   "metadata": {},
   "outputs": [
    {
     "name": "stdout",
     "output_type": "stream",
     "text": [
      "15809/15809 [==============================] - 15s 948us/step - loss: 2.3872 - regression_loss: 2.3502 - classifier_loss: 0.0370 - regression_root_mean_squared_error: 1.5330 - regression_mean_absolute_error: 0.2736 - classifier_auc: 0.9988 - classifier_precision: 0.9841 - classifier_recall: 0.9841\n",
      "4519/4519 [==============================] - 5s 1ms/step - loss: 2.5794 - regression_loss: 2.5391 - classifier_loss: 0.0402 - regression_root_mean_squared_error: 1.5935 - regression_mean_absolute_error: 0.2842 - classifier_auc: 0.9986 - classifier_precision: 0.9828 - classifier_recall: 0.9828\n",
      "2257/2257 [==============================] - 3s 1ms/step - loss: 2.6729 - regression_loss: 2.6333 - classifier_loss: 0.0395 - regression_root_mean_squared_error: 1.6228 - regression_mean_absolute_error: 0.2873 - classifier_auc: 0.9984 - classifier_precision: 0.9824 - classifier_recall: 0.9824\n"
     ]
    },
    {
     "data": {
      "text/html": [
       "<div>\n",
       "<style scoped>\n",
       "    .dataframe tbody tr th:only-of-type {\n",
       "        vertical-align: middle;\n",
       "    }\n",
       "\n",
       "    .dataframe tbody tr th {\n",
       "        vertical-align: top;\n",
       "    }\n",
       "\n",
       "    .dataframe thead th {\n",
       "        text-align: right;\n",
       "    }\n",
       "</style>\n",
       "<table border=\"1\" class=\"dataframe\">\n",
       "  <thead>\n",
       "    <tr style=\"text-align: right;\">\n",
       "      <th></th>\n",
       "      <th>RMSE</th>\n",
       "      <th>ROC AUC</th>\n",
       "      <th>Recall</th>\n",
       "    </tr>\n",
       "  </thead>\n",
       "  <tbody>\n",
       "    <tr>\n",
       "      <th>train</th>\n",
       "      <td>1.533049</td>\n",
       "      <td>0.998760</td>\n",
       "      <td>0.984142</td>\n",
       "    </tr>\n",
       "    <tr>\n",
       "      <th>validation</th>\n",
       "      <td>1.593461</td>\n",
       "      <td>0.998582</td>\n",
       "      <td>0.982774</td>\n",
       "    </tr>\n",
       "    <tr>\n",
       "      <th>test</th>\n",
       "      <td>1.622757</td>\n",
       "      <td>0.998440</td>\n",
       "      <td>0.982436</td>\n",
       "    </tr>\n",
       "  </tbody>\n",
       "</table>\n",
       "</div>"
      ],
      "text/plain": [
       "                RMSE   ROC AUC    Recall\n",
       "train       1.533049  0.998760  0.984142\n",
       "validation  1.593461  0.998582  0.982774\n",
       "test        1.622757  0.998440  0.982436"
      ]
     },
     "execution_count": 56,
     "metadata": {},
     "output_type": "execute_result"
    }
   ],
   "source": [
    "perf = {k:[] for k in ['RMSE', 'ROC AUC', 'Recall']}\n",
    "for inputs, r_targets,c_targets in zip([train['inputs'],valid['inputs'], test['inputs']],\n",
    "                                             [train['targets'],valid['targets'], test['targets']],\n",
    "                                             [train_purchase, valid_purchase, test_purchase]):\n",
    "    \n",
    "    dum = complex_model.evaluate(inputs,{'regression':r_targets,'classifier':c_targets})\n",
    "    perf['RMSE'].append(dum[metrics.index('regression_root_mean_squared_error')])\n",
    "    perf['ROC AUC'].append(dum[metrics.index('classifier_auc')])\n",
    "    perf['Recall'].append(dum[metrics.index('classifier_recall')])\n",
    "    del dum\n",
    "complex_nn_exp = pd.DataFrame(perf,index = ['train','validation','test'])\n",
    "complex_nn_exp\n",
    "    "
   ]
  },
  {
   "cell_type": "code",
   "execution_count": 58,
   "metadata": {},
   "outputs": [
    {
     "data": {
      "text/html": [
       "<div>\n",
       "<style scoped>\n",
       "    .dataframe tbody tr th:only-of-type {\n",
       "        vertical-align: middle;\n",
       "    }\n",
       "\n",
       "    .dataframe tbody tr th {\n",
       "        vertical-align: top;\n",
       "    }\n",
       "\n",
       "    .dataframe thead th {\n",
       "        text-align: right;\n",
       "    }\n",
       "</style>\n",
       "<table border=\"1\" class=\"dataframe\">\n",
       "  <thead>\n",
       "    <tr style=\"text-align: right;\">\n",
       "      <th></th>\n",
       "      <th>RMSE</th>\n",
       "    </tr>\n",
       "  </thead>\n",
       "  <tbody>\n",
       "    <tr>\n",
       "      <th>train</th>\n",
       "      <td>1.555521</td>\n",
       "    </tr>\n",
       "    <tr>\n",
       "      <th>validation</th>\n",
       "      <td>1.592071</td>\n",
       "    </tr>\n",
       "    <tr>\n",
       "      <th>test</th>\n",
       "      <td>1.620039</td>\n",
       "    </tr>\n",
       "  </tbody>\n",
       "</table>\n",
       "</div>"
      ],
      "text/plain": [
       "                RMSE\n",
       "train       1.555521\n",
       "validation  1.592071\n",
       "test        1.620039"
      ]
     },
     "execution_count": 58,
     "metadata": {},
     "output_type": "execute_result"
    }
   ],
   "source": [
    "base_seq_nn"
   ]
  },
  {
   "cell_type": "code",
   "execution_count": 59,
   "metadata": {},
   "outputs": [
    {
     "data": {
      "text/html": [
       "<div>\n",
       "<style scoped>\n",
       "    .dataframe tbody tr th:only-of-type {\n",
       "        vertical-align: middle;\n",
       "    }\n",
       "\n",
       "    .dataframe tbody tr th {\n",
       "        vertical-align: top;\n",
       "    }\n",
       "\n",
       "    .dataframe thead th {\n",
       "        text-align: right;\n",
       "    }\n",
       "</style>\n",
       "<table border=\"1\" class=\"dataframe\">\n",
       "  <thead>\n",
       "    <tr style=\"text-align: right;\">\n",
       "      <th></th>\n",
       "      <th>RMSE</th>\n",
       "    </tr>\n",
       "  </thead>\n",
       "  <tbody>\n",
       "    <tr>\n",
       "      <th>train</th>\n",
       "      <td>1.539805</td>\n",
       "    </tr>\n",
       "    <tr>\n",
       "      <th>validation</th>\n",
       "      <td>1.586827</td>\n",
       "    </tr>\n",
       "    <tr>\n",
       "      <th>test</th>\n",
       "      <td>1.619583</td>\n",
       "    </tr>\n",
       "  </tbody>\n",
       "</table>\n",
       "</div>"
      ],
      "text/plain": [
       "                RMSE\n",
       "train       1.539805\n",
       "validation  1.586827\n",
       "test        1.619583"
      ]
     },
     "execution_count": 59,
     "metadata": {},
     "output_type": "execute_result"
    }
   ],
   "source": [
    "seq_nn_w_clf"
   ]
  },
  {
   "cell_type": "markdown",
   "metadata": {},
   "source": [
    "This NN is doesn't have any additoinal predictive power on the validation and test sets, and it is more over fit to the training data.   Not an improvement."
   ]
  },
  {
   "cell_type": "markdown",
   "metadata": {},
   "source": [
    "### Complex model 2\n",
    "Using classifier output as input into regression"
   ]
  },
  {
   "cell_type": "code",
   "execution_count": null,
   "metadata": {},
   "outputs": [],
   "source": []
  },
  {
   "cell_type": "code",
   "execution_count": 70,
   "metadata": {},
   "outputs": [],
   "source": [
    "input_size = train['inputs'].shape[1]\n",
    "output_size = 1\n",
    "hidden_layer_size = 64\n",
    "batch_size = 100\n",
    "epochs = 100"
   ]
  },
  {
   "cell_type": "code",
   "execution_count": 71,
   "metadata": {},
   "outputs": [
    {
     "data": {
      "image/png": "[encoded data removed]",
      "text/plain": [
       "<IPython.core.display.Image object>"
      ]
     },
     "execution_count": 71,
     "metadata": {},
     "output_type": "execute_result"
    }
   ],
   "source": [
    "tf.keras.backend.clear_session()\n",
    "### Create input layer\n",
    "inputs = tf.keras.Input(shape=(input_size,),name='input') # shape (features,)\n",
    "\n",
    "### Building the classifier\n",
    "clf = tf.keras.layers.Dense(hidden_layer_size, activation = 'relu', name='Clf_L1')(inputs) # shape (None, 64)\n",
    "clf = tf.keras.layers.Dropout(.2)(clf)\n",
    "clf = tf.keras.layers.Dense(hidden_layer_size, activation = 'relu', name='Clf_L2')(clf) # shape (None, 64)\n",
    "clf = tf.keras.layers.Dense(hidden_layer_size, activation = 'relu', name='Clf_L3')(clf) # shape (None, 64)\n",
    "clf_out = tf.keras.layers.Dense(2, activation='softmax', name='classifier')(clf) # shape (None, 2)\n",
    "\n",
    "### Now build regression portion of model\n",
    "reg = tf.keras.layers.concatenate([inputs, clf_out],axis=1) # shape (features + 1, )\n",
    "\n",
    "reg = tf.keras.layers.Dense(hidden_layer_size, activation='relu', name='Reg_L1')(reg) # shape (None, 64)\n",
    "reg = tf.keras.layers.Dropout(.2)(reg)\n",
    "reg = tf.keras.layers.Dense(hidden_layer_size, activation='relu', name='Reg_L2')(reg) # shape (None, 64)\n",
    "reg = tf.keras.layers.Dense(hidden_layer_size, activation='relu', name='Reg_L3')(reg) # shape (None, 64)\n",
    "reg_out = tf.keras.layers.Dense(1, name='regression')(reg) # shape (None,1)\n",
    "\n",
    "\n",
    "complex_model = tf.keras.Model(inputs=inputs, outputs = [reg_out, clf_out])\n",
    "\n",
    "tf.keras.utils.plot_model(complex_model, show_shapes=True)\n",
    "\n",
    "#complex_model.summary()\n"
   ]
  },
  {
   "cell_type": "code",
   "execution_count": 72,
   "metadata": {},
   "outputs": [],
   "source": [
    "complex_model.compile(optimizer='adam',\n",
    "                     loss={'classifier':tf.keras.losses.BinaryCrossentropy(from_logits=False),\n",
    "                          'regression': tf.keras.losses.MeanSquaredError()},\n",
    "                     metrics={'classifier':[tf.keras.metrics.AUC(), \n",
    "                                            tf.keras.metrics.Precision(),\n",
    "                                            tf.keras.metrics.Recall()],\n",
    "                             'regression': [tf.keras.metrics.RootMeanSquaredError(),\n",
    "                                          tf.keras.metrics.MeanAbsoluteError()]}\n",
    "                     )"
   ]
  },
  {
   "cell_type": "code",
   "execution_count": 73,
   "metadata": {
    "scrolled": true
   },
   "outputs": [
    {
     "name": "stdout",
     "output_type": "stream",
     "text": [
      "Epoch 1/100\n",
      "5059/5059 - 18s - loss: 3.0473 - regression_loss: 3.0083 - classifier_loss: 0.0390 - regression_root_mean_squared_error: 1.7344 - regression_mean_absolute_error: 0.3944 - classifier_auc: 0.9970 - classifier_precision: 0.9854 - classifier_recall: 0.9854 - val_loss: 2.6387 - val_regression_loss: 2.6057 - val_classifier_loss: 0.0330 - val_regression_root_mean_squared_error: 1.6142 - val_regression_mean_absolute_error: 0.2966 - val_classifier_auc: 0.9969 - val_classifier_precision: 0.9873 - val_classifier_recall: 0.9873\n",
      "Epoch 2/100\n",
      "5059/5059 - 13s - loss: 2.8021 - regression_loss: 2.7679 - classifier_loss: 0.0342 - regression_root_mean_squared_error: 1.6637 - regression_mean_absolute_error: 0.3391 - classifier_auc: 0.9973 - classifier_precision: 0.9867 - classifier_recall: 0.9867 - val_loss: 2.6518 - val_regression_loss: 2.6201 - val_classifier_loss: 0.0317 - val_regression_root_mean_squared_error: 1.6187 - val_regression_mean_absolute_error: 0.2929 - val_classifier_auc: 0.9976 - val_classifier_precision: 0.9877 - val_classifier_recall: 0.9877\n",
      "Epoch 3/100\n",
      "5059/5059 - 12s - loss: 2.7427 - regression_loss: 2.7092 - classifier_loss: 0.0334 - regression_root_mean_squared_error: 1.6460 - regression_mean_absolute_error: 0.3263 - classifier_auc: 0.9975 - classifier_precision: 0.9867 - classifier_recall: 0.9867 - val_loss: 2.6386 - val_regression_loss: 2.6095 - val_classifier_loss: 0.0291 - val_regression_root_mean_squared_error: 1.6154 - val_regression_mean_absolute_error: 0.2967 - val_classifier_auc: 0.9980 - val_classifier_precision: 0.9882 - val_classifier_recall: 0.9882\n",
      "Epoch 4/100\n",
      "5059/5059 - 12s - loss: 2.6891 - regression_loss: 2.6568 - classifier_loss: 0.0323 - regression_root_mean_squared_error: 1.6300 - regression_mean_absolute_error: 0.3177 - classifier_auc: 0.9976 - classifier_precision: 0.9871 - classifier_recall: 0.9871 - val_loss: 2.5805 - val_regression_loss: 2.5482 - val_classifier_loss: 0.0323 - val_regression_root_mean_squared_error: 1.5963 - val_regression_mean_absolute_error: 0.3040 - val_classifier_auc: 0.9979 - val_classifier_precision: 0.9872 - val_classifier_recall: 0.9872\n",
      "Epoch 5/100\n",
      "5059/5059 - 14s - loss: 2.6327 - regression_loss: 2.6001 - classifier_loss: 0.0326 - regression_root_mean_squared_error: 1.6125 - regression_mean_absolute_error: 0.3070 - classifier_auc: 0.9976 - classifier_precision: 0.9872 - classifier_recall: 0.9872 - val_loss: 2.5566 - val_regression_loss: 2.5262 - val_classifier_loss: 0.0303 - val_regression_root_mean_squared_error: 1.5894 - val_regression_mean_absolute_error: 0.2983 - val_classifier_auc: 0.9980 - val_classifier_precision: 0.9880 - val_classifier_recall: 0.9880\n",
      "Epoch 6/100\n",
      "5059/5059 - 16s - loss: 2.6019 - regression_loss: 2.5699 - classifier_loss: 0.0320 - regression_root_mean_squared_error: 1.6031 - regression_mean_absolute_error: 0.3017 - classifier_auc: 0.9976 - classifier_precision: 0.9874 - classifier_recall: 0.9874 - val_loss: 2.6237 - val_regression_loss: 2.5922 - val_classifier_loss: 0.0314 - val_regression_root_mean_squared_error: 1.6100 - val_regression_mean_absolute_error: 0.3095 - val_classifier_auc: 0.9985 - val_classifier_precision: 0.9873 - val_classifier_recall: 0.9873\n",
      "Epoch 7/100\n",
      "5059/5059 - 14s - loss: 2.5732 - regression_loss: 2.5414 - classifier_loss: 0.0318 - regression_root_mean_squared_error: 1.5942 - regression_mean_absolute_error: 0.2971 - classifier_auc: 0.9976 - classifier_precision: 0.9874 - classifier_recall: 0.9874 - val_loss: 2.5961 - val_regression_loss: 2.5650 - val_classifier_loss: 0.0311 - val_regression_root_mean_squared_error: 1.6016 - val_regression_mean_absolute_error: 0.2717 - val_classifier_auc: 0.9972 - val_classifier_precision: 0.9882 - val_classifier_recall: 0.9882\n",
      "Epoch 8/100\n",
      "5059/5059 - 13s - loss: 2.5385 - regression_loss: 2.5071 - classifier_loss: 0.0314 - regression_root_mean_squared_error: 1.5834 - regression_mean_absolute_error: 0.2947 - classifier_auc: 0.9976 - classifier_precision: 0.9875 - classifier_recall: 0.9875 - val_loss: 2.6367 - val_regression_loss: 2.6046 - val_classifier_loss: 0.0321 - val_regression_root_mean_squared_error: 1.6139 - val_regression_mean_absolute_error: 0.2869 - val_classifier_auc: 0.9974 - val_classifier_precision: 0.9877 - val_classifier_recall: 0.9877\n",
      "Epoch 9/100\n",
      "5059/5059 - 12s - loss: 2.5058 - regression_loss: 2.4746 - classifier_loss: 0.0313 - regression_root_mean_squared_error: 1.5731 - regression_mean_absolute_error: 0.2913 - classifier_auc: 0.9977 - classifier_precision: 0.9877 - classifier_recall: 0.9877 - val_loss: 2.5630 - val_regression_loss: 2.5323 - val_classifier_loss: 0.0307 - val_regression_root_mean_squared_error: 1.5913 - val_regression_mean_absolute_error: 0.2871 - val_classifier_auc: 0.9984 - val_classifier_precision: 0.9866 - val_classifier_recall: 0.9866\n",
      "Epoch 10/100\n",
      "5059/5059 - 12s - loss: 2.4781 - regression_loss: 2.4461 - classifier_loss: 0.0320 - regression_root_mean_squared_error: 1.5640 - regression_mean_absolute_error: 0.2888 - classifier_auc: 0.9974 - classifier_precision: 0.9877 - classifier_recall: 0.9877 - val_loss: 2.6664 - val_regression_loss: 2.6352 - val_classifier_loss: 0.0312 - val_regression_root_mean_squared_error: 1.6233 - val_regression_mean_absolute_error: 0.2834 - val_classifier_auc: 0.9980 - val_classifier_precision: 0.9873 - val_classifier_recall: 0.9873\n"
     ]
    }
   ],
   "source": [
    "earlystop = tf.keras.callbacks.EarlyStopping(patience=5, restore_best_weights=True)\n",
    "\n",
    "history = complex_model.fit(train['inputs'],\n",
    "                           {'regression':train['targets'],'classifier':train_purchase},\n",
    "                           epochs=epochs,\n",
    "                           batch_size=batch_size,\n",
    "                           callbacks=earlystop,\n",
    "                           validation_data=(valid['inputs'],{'regression':valid['targets'],\n",
    "                                                              'classifier':valid_purchase}),\n",
    "                           verbose=2\n",
    "                           )"
   ]
  },
  {
   "cell_type": "code",
   "execution_count": 74,
   "metadata": {},
   "outputs": [
    {
     "data": {
      "image/png": "[encoded data removed]",
      "text/plain": [
       "<Figure size 432x288 with 2 Axes>"
      ]
     },
     "metadata": {
      "needs_background": "light"
     },
     "output_type": "display_data"
    }
   ],
   "source": [
    "fig,ax = plt.subplots(figsize=(6,4))\n",
    "ax.plot(history.history['regression_root_mean_squared_error'] ,label='Train RMSE')\n",
    "ax.plot(history.history['val_regression_root_mean_squared_error'] ,label='Val RMSE')\n",
    "\n",
    "ax2 = ax.twinx()\n",
    "\n",
    "ax2.plot(history.history['classifier_auc'],label='Train AUC', linestyle=':')\n",
    "ax2.plot(history.history['val_classifier_auc'],label = 'Val AUC', linestyle=':')\n",
    "\n",
    "ax.set_xlabel('Epochs')\n",
    "\n",
    "ax.set_ylabel('RMSE')\n",
    "ax2.set_ylabel('Classifier ROC AUC')\n",
    "ax2.legend(bbox_to_anchor= (1.2, 1.2))\n",
    "ax.legend(bbox_to_anchor= (0.1, 1.2))\n",
    "#ax2.legend(loc='upper', bbox_to_anchor= (1.1, 0.6), ncol=1,\n",
    " #           borderaxespad=0, frameon=False)\n",
    "#plt.legend(loc='upper right')\n",
    "plt.show()"
   ]
  },
  {
   "cell_type": "code",
   "execution_count": 75,
   "metadata": {},
   "outputs": [
    {
     "name": "stdout",
     "output_type": "stream",
     "text": [
      "15809/15809 [==============================] - 18s 1ms/step - loss: 2.5047 - regression_loss: 2.4762 - classifier_loss: 0.0285 - regression_root_mean_squared_error: 1.5736 - regression_mean_absolute_error: 0.2955 - classifier_auc: 0.9980 - classifier_precision: 0.9885 - classifier_recall: 0.9885\n",
      "4519/4519 [==============================] - 6s 1ms/step - loss: 2.5565 - regression_loss: 2.5262 - classifier_loss: 0.0303 - regression_root_mean_squared_error: 1.5894 - regression_mean_absolute_error: 0.2983 - classifier_auc: 0.9980 - classifier_precision: 0.9880 - classifier_recall: 0.9880\n",
      "2257/2257 [==============================] - 2s 1ms/step - loss: 2.6490 - regression_loss: 2.6180 - classifier_loss: 0.0310 - regression_root_mean_squared_error: 1.6180 - regression_mean_absolute_error: 0.3013 - classifier_auc: 0.9977 - classifier_precision: 0.9879 - classifier_recall: 0.9879\n"
     ]
    },
    {
     "data": {
      "text/html": [
       "<div>\n",
       "<style scoped>\n",
       "    .dataframe tbody tr th:only-of-type {\n",
       "        vertical-align: middle;\n",
       "    }\n",
       "\n",
       "    .dataframe tbody tr th {\n",
       "        vertical-align: top;\n",
       "    }\n",
       "\n",
       "    .dataframe thead th {\n",
       "        text-align: right;\n",
       "    }\n",
       "</style>\n",
       "<table border=\"1\" class=\"dataframe\">\n",
       "  <thead>\n",
       "    <tr style=\"text-align: right;\">\n",
       "      <th></th>\n",
       "      <th>RMSE</th>\n",
       "      <th>ROC AUC</th>\n",
       "      <th>Recall</th>\n",
       "    </tr>\n",
       "  </thead>\n",
       "  <tbody>\n",
       "    <tr>\n",
       "      <th>train</th>\n",
       "      <td>1.573596</td>\n",
       "      <td>0.998021</td>\n",
       "      <td>0.988509</td>\n",
       "    </tr>\n",
       "    <tr>\n",
       "      <th>validation</th>\n",
       "      <td>1.589410</td>\n",
       "      <td>0.998002</td>\n",
       "      <td>0.988036</td>\n",
       "    </tr>\n",
       "    <tr>\n",
       "      <th>test</th>\n",
       "      <td>1.618015</td>\n",
       "      <td>0.997735</td>\n",
       "      <td>0.987922</td>\n",
       "    </tr>\n",
       "  </tbody>\n",
       "</table>\n",
       "</div>"
      ],
      "text/plain": [
       "                RMSE   ROC AUC    Recall\n",
       "train       1.573596  0.998021  0.988509\n",
       "validation  1.589410  0.998002  0.988036\n",
       "test        1.618015  0.997735  0.987922"
      ]
     },
     "execution_count": 75,
     "metadata": {},
     "output_type": "execute_result"
    }
   ],
   "source": [
    "perf = {k:[] for k in ['RMSE', 'ROC AUC', 'Recall']}\n",
    "for inputs, r_targets,c_targets in zip([train['inputs'],valid['inputs'], test['inputs']],\n",
    "                                             [train['targets'],valid['targets'], test['targets']],\n",
    "                                             [train_purchase, valid_purchase, test_purchase]):\n",
    "    \n",
    "    dum = complex_model.evaluate(inputs,{'regression':r_targets,'classifier':c_targets})\n",
    "    perf['RMSE'].append(dum[metrics.index('regression_root_mean_squared_error')])\n",
    "    perf['ROC AUC'].append(dum[metrics.index('classifier_auc')])\n",
    "    perf['Recall'].append(dum[metrics.index('classifier_recall')])\n",
    "    del dum\n",
    "pd.DataFrame(perf,index = ['train','validation','test'])\n",
    "    "
   ]
  },
  {
   "cell_type": "code",
   "execution_count": 76,
   "metadata": {},
   "outputs": [
    {
     "data": {
      "text/html": [
       "<div>\n",
       "<style scoped>\n",
       "    .dataframe tbody tr th:only-of-type {\n",
       "        vertical-align: middle;\n",
       "    }\n",
       "\n",
       "    .dataframe tbody tr th {\n",
       "        vertical-align: top;\n",
       "    }\n",
       "\n",
       "    .dataframe thead th {\n",
       "        text-align: right;\n",
       "    }\n",
       "</style>\n",
       "<table border=\"1\" class=\"dataframe\">\n",
       "  <thead>\n",
       "    <tr style=\"text-align: right;\">\n",
       "      <th></th>\n",
       "      <th>RMSE</th>\n",
       "    </tr>\n",
       "  </thead>\n",
       "  <tbody>\n",
       "    <tr>\n",
       "      <th>train</th>\n",
       "      <td>1.555521</td>\n",
       "    </tr>\n",
       "    <tr>\n",
       "      <th>validation</th>\n",
       "      <td>1.592071</td>\n",
       "    </tr>\n",
       "    <tr>\n",
       "      <th>test</th>\n",
       "      <td>1.620039</td>\n",
       "    </tr>\n",
       "  </tbody>\n",
       "</table>\n",
       "</div>"
      ],
      "text/plain": [
       "                RMSE\n",
       "train       1.555521\n",
       "validation  1.592071\n",
       "test        1.620039"
      ]
     },
     "execution_count": 76,
     "metadata": {},
     "output_type": "execute_result"
    }
   ],
   "source": [
    "base_seq_nn"
   ]
  },
  {
   "cell_type": "code",
   "execution_count": 77,
   "metadata": {},
   "outputs": [
    {
     "data": {
      "text/html": [
       "<div>\n",
       "<style scoped>\n",
       "    .dataframe tbody tr th:only-of-type {\n",
       "        vertical-align: middle;\n",
       "    }\n",
       "\n",
       "    .dataframe tbody tr th {\n",
       "        vertical-align: top;\n",
       "    }\n",
       "\n",
       "    .dataframe thead th {\n",
       "        text-align: right;\n",
       "    }\n",
       "</style>\n",
       "<table border=\"1\" class=\"dataframe\">\n",
       "  <thead>\n",
       "    <tr style=\"text-align: right;\">\n",
       "      <th></th>\n",
       "      <th>RMSE</th>\n",
       "    </tr>\n",
       "  </thead>\n",
       "  <tbody>\n",
       "    <tr>\n",
       "      <th>train</th>\n",
       "      <td>1.539805</td>\n",
       "    </tr>\n",
       "    <tr>\n",
       "      <th>validation</th>\n",
       "      <td>1.586827</td>\n",
       "    </tr>\n",
       "    <tr>\n",
       "      <th>test</th>\n",
       "      <td>1.619583</td>\n",
       "    </tr>\n",
       "  </tbody>\n",
       "</table>\n",
       "</div>"
      ],
      "text/plain": [
       "                RMSE\n",
       "train       1.539805\n",
       "validation  1.586827\n",
       "test        1.619583"
      ]
     },
     "execution_count": 77,
     "metadata": {},
     "output_type": "execute_result"
    }
   ],
   "source": [
    "seq_nn_w_clf"
   ]
  },
  {
   "cell_type": "markdown",
   "metadata": {},
   "source": [
    "This model produced a test RMSE that is a tiny bit lower than the two sequential models, and it appears to be less overfit to the training data.  Perhaps this one could be used. "
   ]
  },
  {
   "cell_type": "code",
   "execution_count": null,
   "metadata": {},
   "outputs": [],
   "source": []
  }
 ],
 "metadata": {
  "kernelspec": {
   "display_name": "Python [conda env:root] *",
   "language": "python",
   "name": "conda-root-py"
  },
  "language_info": {
   "codemirror_mode": {
    "name": "ipython",
    "version": 3
   },
   "file_extension": ".py",
   "mimetype": "text/x-python",
   "name": "python",
   "nbconvert_exporter": "python",
   "pygments_lexer": "ipython3",
   "version": "3.7.10"
  }
 },
 "nbformat": 4,
 "nbformat_minor": 4
}
