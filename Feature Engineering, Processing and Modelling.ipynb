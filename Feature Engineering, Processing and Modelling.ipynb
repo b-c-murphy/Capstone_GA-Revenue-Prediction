{
 "cells": [
  {
   "cell_type": "markdown",
   "metadata": {},
   "source": [
    "# GA Analytics\n",
    "## Feature Engineering, Pre-processing, and Modelling\n",
    "### Blaine Murphy -- September 2021\n"
   ]
  },
  {
   "cell_type": "markdown",
   "metadata": {},
   "source": [
    "For the feature engineering phase I will do the following.\n",
    "- Read in the data exported from the EDA notebook\n",
    "- Encode categorical features identified in EDA\n",
    "- Condense data to user level\n",
    "    - to help answer the business question for identifying big spenders and how to market to them\n",
    "    - compute the target -- ln(total_user_revenue+1)\n",
    "    - Calculate user level features with summary statistics for numeric features\n",
    "- Split data into train, validation, and test for modelling\n",
    "- Scale the data based on the training data\n",
    "- Export data sets prepped for modelling"
   ]
  },
  {
   "cell_type": "code",
   "execution_count": 82,
   "metadata": {},
   "outputs": [],
   "source": [
    "import pandas as pd\n",
    "import numpy as np\n",
    "import os"
   ]
  },
  {
   "cell_type": "code",
   "execution_count": 2,
   "metadata": {},
   "outputs": [
    {
     "data": {
      "text/plain": [
       "['e390021b-3cdc-4df0-b92e-22082e3ad15b_Data.csv',\n",
       " 'GA_Test.npz',\n",
       " 'GA_Train.npz',\n",
       " 'GA_Validation.npz',\n",
       " 'GDP by Country world bank.csv',\n",
       " 'life expectency by country_world bank.csv',\n",
       " 'Metadata_Country_API_NY.GDP.MKTP.CD_DS2_en_csv_v2_2763936.csv',\n",
       " 'Metadata_Country_API_SP.DYN.LE00.IN_DS2_en_csv_v2_2764094.csv',\n",
       " 'Metadata_Country_API_SP.POP.TOTL_DS2_en_csv_v2_2763937.csv',\n",
       " 'Metadata_Indicator_API_NY.GDP.MKTP.CD_DS2_en_csv_v2_2763936.csv',\n",
       " 'Metadata_Indicator_API_SP.DYN.LE00.IN_DS2_en_csv_v2_2764094.csv',\n",
       " 'Metadata_Indicator_API_SP.POP.TOTL_DS2_en_csv_v2_2763937.csv',\n",
       " 'Population by country world bank.csv',\n",
       " 'sample_submission.csv',\n",
       " 'sample_submission_v2.csv',\n",
       " 'test.csv',\n",
       " 'test_v2.csv',\n",
       " 'train.csv',\n",
       " 'train_eda.csv',\n",
       " 'train_v2.csv',\n",
       " 'train_wrangled.csv',\n",
       " 'user_train_X.csv',\n",
       " 'user_train_y.csv',\n",
       " 'worldpopulationreview.com']"
      ]
     },
     "execution_count": 2,
     "metadata": {},
     "output_type": "execute_result"
    }
   ],
   "source": [
    "os.chdir(r'D:\\Springboard\\Capstone 3 maybe\\Google Analytics')\n",
    "os.listdir()"
   ]
  },
  {
   "cell_type": "code",
   "execution_count": 3,
   "metadata": {},
   "outputs": [
    {
     "name": "stderr",
     "output_type": "stream",
     "text": [
      "C:\\Users\\blain\\Anaconda3\\lib\\site-packages\\IPython\\core\\interactiveshell.py:3166: DtypeWarning: Columns (3) have mixed types.Specify dtype option on import or set low_memory=False.\n",
      "  interactivity=interactivity, compiler=compiler, result=result)\n"
     ]
    },
    {
     "name": "stdout",
     "output_type": "stream",
     "text": [
      "<class 'pandas.core.frame.DataFrame'>\n",
      "Int64Index: 901907 entries, 0 to 903652\n",
      "Data columns (total 50 columns):\n",
      " #   Column                                   Non-Null Count   Dtype         \n",
      "---  ------                                   --------------   -----         \n",
      " 0   channelGrouping                          901907 non-null  object        \n",
      " 1   date                                     901907 non-null  datetime64[ns]\n",
      " 2   fullVisitorId                            901907 non-null  object        \n",
      " 3   sessionId                                901907 non-null  object        \n",
      " 4   visitId                                  901907 non-null  int64         \n",
      " 5   visitNumber                              901907 non-null  int64         \n",
      " 6   visitStartTime                           901907 non-null  int64         \n",
      " 7   browser                                  901907 non-null  object        \n",
      " 8   operatingSystem                          901907 non-null  object        \n",
      " 9   isMobile                                 901907 non-null  int64         \n",
      " 10  deviceCategory                           901907 non-null  object        \n",
      " 11  continent                                901907 non-null  object        \n",
      " 12  subContinent                             901907 non-null  object        \n",
      " 13  country                                  901907 non-null  object        \n",
      " 14  region                                   901907 non-null  object        \n",
      " 15  metro                                    901907 non-null  object        \n",
      " 16  city                                     901907 non-null  object        \n",
      " 17  campaign                                 901907 non-null  object        \n",
      " 18  source                                   901907 non-null  object        \n",
      " 19  keyword                                  400041 non-null  object        \n",
      " 20  hits                                     901907 non-null  int64         \n",
      " 21  pageviews                                901907 non-null  int64         \n",
      " 22  bounces                                  901907 non-null  int64         \n",
      " 23  newVisits                                901907 non-null  int64         \n",
      " 24  transactionRevenue                       901907 non-null  int64         \n",
      " 25  dollars                                  901907 non-null  float64       \n",
      " 26  purchase                                 901907 non-null  int64         \n",
      " 27  dateTime                                 901907 non-null  datetime64[ns]\n",
      " 28  hour                                     901907 non-null  int64         \n",
      " 29  weekend                                  901907 non-null  int64         \n",
      " 30  month                                    901907 non-null  int64         \n",
      " 31  time                                     901907 non-null  float64       \n",
      " 32  timeDiffLastVisit                        189072 non-null  float64       \n",
      " 33  countryPopulation                        901907 non-null  float64       \n",
      " 34  countryGDP                               901907 non-null  float64       \n",
      " 35  countryLE                                901907 non-null  float64       \n",
      " 36  state                                    901907 non-null  object        \n",
      " 37  keywordStore                             901907 non-null  int64         \n",
      " 38  keywordMerch                             901907 non-null  int64         \n",
      " 39  keywordShirt                             901907 non-null  int64         \n",
      " 40  keywordGoogle                            901907 non-null  int64         \n",
      " 41  keywordYoutube                           901907 non-null  int64         \n",
      " 42  keywordShop                              901907 non-null  int64         \n",
      " 43  keywordApparel                           901907 non-null  int64         \n",
      " 44  keyword_(Remarketing/Content targeting)  901907 non-null  int64         \n",
      " 45  keyword_(User vertical targeting)        901907 non-null  int64         \n",
      " 46  keyword_(automatic matching)             901907 non-null  int64         \n",
      " 47  keyword_(content targeting)              901907 non-null  int64         \n",
      " 48  keyword_(not provided)                   901907 non-null  int64         \n",
      " 49  keyword_search                           901907 non-null  int64         \n",
      "dtypes: datetime64[ns](2), float64(6), int64(26), object(16)\n",
      "memory usage: 350.9+ MB\n"
     ]
    }
   ],
   "source": [
    "train = pd.read_csv('train_eda.csv',index_col=0,parse_dates=['date','dateTime'])\n",
    "train.info()"
   ]
  },
  {
   "cell_type": "markdown",
   "metadata": {},
   "source": [
    "A couple of columns to fix. `keyword` is mostly null and I already created new columns from it based on the most frequent search words that resulted in a purchase.  I can drop it now.  \n",
    "\n",
    "And `timeDiffLastVisit` is mostly null because most of the records are new visits, not repeat visits.  I will fill all of those nulls with the maximum of the `timeDiffLastVisit` column.\n"
   ]
  },
  {
   "cell_type": "code",
   "execution_count": 4,
   "metadata": {},
   "outputs": [],
   "source": [
    "train.drop('keyword',axis=1,inplace=True)\n",
    "train['timeDiffLastVisit'] = train.timeDiffLastVisit.fillna(train.timeDiffLastVisit.max())\n"
   ]
  },
  {
   "cell_type": "code",
   "execution_count": 5,
   "metadata": {},
   "outputs": [],
   "source": [
    "### Convert to float for summary statistics below\n",
    "train['hits'] = train['hits'].astype('float')\n",
    "train['pageviews'] = train['pageviews'].astype('float')"
   ]
  },
  {
   "cell_type": "code",
   "execution_count": 6,
   "metadata": {},
   "outputs": [
    {
     "name": "stdout",
     "output_type": "stream",
     "text": [
      "<class 'pandas.core.frame.DataFrame'>\n",
      "Int64Index: 901907 entries, 0 to 903652\n",
      "Data columns (total 49 columns):\n",
      " #   Column                                   Non-Null Count   Dtype         \n",
      "---  ------                                   --------------   -----         \n",
      " 0   channelGrouping                          901907 non-null  object        \n",
      " 1   date                                     901907 non-null  datetime64[ns]\n",
      " 2   fullVisitorId                            901907 non-null  object        \n",
      " 3   sessionId                                901907 non-null  object        \n",
      " 4   visitId                                  901907 non-null  int64         \n",
      " 5   visitNumber                              901907 non-null  int64         \n",
      " 6   visitStartTime                           901907 non-null  int64         \n",
      " 7   browser                                  901907 non-null  object        \n",
      " 8   operatingSystem                          901907 non-null  object        \n",
      " 9   isMobile                                 901907 non-null  int64         \n",
      " 10  deviceCategory                           901907 non-null  object        \n",
      " 11  continent                                901907 non-null  object        \n",
      " 12  subContinent                             901907 non-null  object        \n",
      " 13  country                                  901907 non-null  object        \n",
      " 14  region                                   901907 non-null  object        \n",
      " 15  metro                                    901907 non-null  object        \n",
      " 16  city                                     901907 non-null  object        \n",
      " 17  campaign                                 901907 non-null  object        \n",
      " 18  source                                   901907 non-null  object        \n",
      " 19  hits                                     901907 non-null  float64       \n",
      " 20  pageviews                                901907 non-null  float64       \n",
      " 21  bounces                                  901907 non-null  int64         \n",
      " 22  newVisits                                901907 non-null  int64         \n",
      " 23  transactionRevenue                       901907 non-null  int64         \n",
      " 24  dollars                                  901907 non-null  float64       \n",
      " 25  purchase                                 901907 non-null  int64         \n",
      " 26  dateTime                                 901907 non-null  datetime64[ns]\n",
      " 27  hour                                     901907 non-null  int64         \n",
      " 28  weekend                                  901907 non-null  int64         \n",
      " 29  month                                    901907 non-null  int64         \n",
      " 30  time                                     901907 non-null  float64       \n",
      " 31  timeDiffLastVisit                        901907 non-null  float64       \n",
      " 32  countryPopulation                        901907 non-null  float64       \n",
      " 33  countryGDP                               901907 non-null  float64       \n",
      " 34  countryLE                                901907 non-null  float64       \n",
      " 35  state                                    901907 non-null  object        \n",
      " 36  keywordStore                             901907 non-null  int64         \n",
      " 37  keywordMerch                             901907 non-null  int64         \n",
      " 38  keywordShirt                             901907 non-null  int64         \n",
      " 39  keywordGoogle                            901907 non-null  int64         \n",
      " 40  keywordYoutube                           901907 non-null  int64         \n",
      " 41  keywordShop                              901907 non-null  int64         \n",
      " 42  keywordApparel                           901907 non-null  int64         \n",
      " 43  keyword_(Remarketing/Content targeting)  901907 non-null  int64         \n",
      " 44  keyword_(User vertical targeting)        901907 non-null  int64         \n",
      " 45  keyword_(automatic matching)             901907 non-null  int64         \n",
      " 46  keyword_(content targeting)              901907 non-null  int64         \n",
      " 47  keyword_(not provided)                   901907 non-null  int64         \n",
      " 48  keyword_search                           901907 non-null  int64         \n",
      "dtypes: datetime64[ns](2), float64(8), int64(24), object(15)\n",
      "memory usage: 344.1+ MB\n"
     ]
    }
   ],
   "source": [
    "train.info()"
   ]
  },
  {
   "cell_type": "markdown",
   "metadata": {},
   "source": [
    "### One hot encoding of categorical columns"
   ]
  },
  {
   "cell_type": "code",
   "execution_count": 7,
   "metadata": {},
   "outputs": [
    {
     "data": {
      "text/plain": [
       "\"channelGrouping','date','fullVisitorId','sessionId','visitId','visitNumber','visitStartTime','browser','operatingSystem','isMobile','deviceCategory','continent','subContinent','country','region','metro','city','campaign','source','hits','pageviews','bounces','newVisits','transactionRevenue','dollars','purchase','dateTime','hour','weekend','month','time','timeDiffLastVisit','countryPopulation','countryGDP','countryLE','state','keywordStore','keywordMerch','keywordShirt','keywordGoogle','keywordYoutube','keywordShop','keywordApparel','keyword_(Remarketing/Content targeting)','keyword_(User vertical targeting)','keyword_(automatic matching)','keyword_(content targeting)','keyword_(not provided)','keyword_search\""
      ]
     },
     "execution_count": 7,
     "metadata": {},
     "output_type": "execute_result"
    }
   ],
   "source": [
    "\"','\".join(list(train.columns))"
   ]
  },
  {
   "cell_type": "code",
   "execution_count": 8,
   "metadata": {},
   "outputs": [],
   "source": [
    "num_cols = ['fullVisitorId','visitNumber','isMobile','hits','pageviews','bounces','newVisits',\\\n",
    "        'hour','weekend','time','timeDiffLastVisit',\\\n",
    "        'countryPopulation','countryGDP','countryLE','keywordStore',\\\n",
    "        'keywordMerch','keywordShirt','keywordGoogle',\\\n",
    "        'keywordYoutube','keywordShop','keywordApparel',\\\n",
    "        'keyword_(Remarketing/Content targeting)',\\\n",
    "        'keyword_(User vertical targeting)','keyword_(automatic matching)',\\\n",
    "        'keyword_(content targeting)','keyword_(not provided)','keyword_search',\\\n",
    "        'dollars','transactionRevenue']"
   ]
  },
  {
   "cell_type": "code",
   "execution_count": 9,
   "metadata": {},
   "outputs": [],
   "source": [
    "dummy_cols = ['channelGrouping','browser','operatingSystem',\\\n",
    "              'deviceCategory','subContinent','city','state',\\\n",
    "              'campaign','source','month']"
   ]
  },
  {
   "cell_type": "code",
   "execution_count": 10,
   "metadata": {},
   "outputs": [
    {
     "data": {
      "text/plain": [
       "dtype('O')"
      ]
     },
     "execution_count": 10,
     "metadata": {},
     "output_type": "execute_result"
    }
   ],
   "source": [
    "### convert month to object for label encoding\n",
    "train['month'] = train['month'].astype('object')\n",
    "train['month'].dtype"
   ]
  },
  {
   "cell_type": "code",
   "execution_count": 11,
   "metadata": {},
   "outputs": [],
   "source": [
    "train = pd.concat([train[num_cols],pd.get_dummies(train[dummy_cols])], axis=1)"
   ]
  },
  {
   "cell_type": "code",
   "execution_count": 12,
   "metadata": {
    "scrolled": true
   },
   "outputs": [
    {
     "data": {
      "text/plain": [
       "(901907, 319)"
      ]
     },
     "execution_count": 12,
     "metadata": {},
     "output_type": "execute_result"
    }
   ],
   "source": [
    "train.shape"
   ]
  },
  {
   "cell_type": "code",
   "execution_count": 13,
   "metadata": {
    "scrolled": true
   },
   "outputs": [],
   "source": [
    "train_cols = list(train.columns)"
   ]
  },
  {
   "cell_type": "markdown",
   "metadata": {},
   "source": [
    "### Grouping by user"
   ]
  },
  {
   "cell_type": "code",
   "execution_count": 14,
   "metadata": {},
   "outputs": [],
   "source": [
    "bool_cols = ['isMobile','weekend','bounces','keywordStore','keywordMerch','keywordShirt',\\\n",
    "             'keywordGoogle','keywordYoutube','keywordShop','keywordApparel',\\\n",
    "             'keyword_(Remarketing/Content targeting)','keyword_(User vertical targeting)',\\\n",
    "             'keyword_(automatic matching)','keyword_(content targeting)','keyword_(not provided)','keyword_search' ]"
   ]
  },
  {
   "cell_type": "code",
   "execution_count": 15,
   "metadata": {},
   "outputs": [],
   "source": [
    "user_groupby = train.groupby('fullVisitorId', as_index=True)"
   ]
  },
  {
   "cell_type": "markdown",
   "metadata": {},
   "source": [
    "Creation of target"
   ]
  },
  {
   "cell_type": "code",
   "execution_count": 16,
   "metadata": {},
   "outputs": [],
   "source": [
    "### Function for creation of target column ln(total_revenue_per_user + 1)\n",
    "TargetFunc = lambda x: np.log(sum(x) + 1.0)\n"
   ]
  },
  {
   "cell_type": "code",
   "execution_count": 17,
   "metadata": {
    "scrolled": false
   },
   "outputs": [
    {
     "data": {
      "text/html": [
       "<div>\n",
       "<style scoped>\n",
       "    .dataframe tbody tr th:only-of-type {\n",
       "        vertical-align: middle;\n",
       "    }\n",
       "\n",
       "    .dataframe tbody tr th {\n",
       "        vertical-align: top;\n",
       "    }\n",
       "\n",
       "    .dataframe thead th {\n",
       "        text-align: right;\n",
       "    }\n",
       "</style>\n",
       "<table border=\"1\" class=\"dataframe\">\n",
       "  <thead>\n",
       "    <tr style=\"text-align: right;\">\n",
       "      <th></th>\n",
       "      <th>transactionRevenue</th>\n",
       "      <th>visits</th>\n",
       "      <th>hitsMin</th>\n",
       "      <th>hitsMax</th>\n",
       "      <th>hitsMedian</th>\n",
       "      <th>hitsMean</th>\n",
       "      <th>hitsStd</th>\n",
       "      <th>pageviewsMin</th>\n",
       "      <th>pageviewsMax</th>\n",
       "      <th>pageviewsMedian</th>\n",
       "      <th>...</th>\n",
       "      <th>month_3Mean</th>\n",
       "      <th>month_4Mean</th>\n",
       "      <th>month_5Mean</th>\n",
       "      <th>month_6Mean</th>\n",
       "      <th>month_7Mean</th>\n",
       "      <th>month_8Mean</th>\n",
       "      <th>month_9Mean</th>\n",
       "      <th>month_10Mean</th>\n",
       "      <th>month_11Mean</th>\n",
       "      <th>month_12Mean</th>\n",
       "    </tr>\n",
       "    <tr>\n",
       "      <th>fullVisitorId</th>\n",
       "      <th></th>\n",
       "      <th></th>\n",
       "      <th></th>\n",
       "      <th></th>\n",
       "      <th></th>\n",
       "      <th></th>\n",
       "      <th></th>\n",
       "      <th></th>\n",
       "      <th></th>\n",
       "      <th></th>\n",
       "      <th></th>\n",
       "      <th></th>\n",
       "      <th></th>\n",
       "      <th></th>\n",
       "      <th></th>\n",
       "      <th></th>\n",
       "      <th></th>\n",
       "      <th></th>\n",
       "      <th></th>\n",
       "      <th></th>\n",
       "      <th></th>\n",
       "    </tr>\n",
       "  </thead>\n",
       "  <tbody>\n",
       "    <tr>\n",
       "      <th>4823595352351</th>\n",
       "      <td>0.0</td>\n",
       "      <td>1</td>\n",
       "      <td>1.0</td>\n",
       "      <td>1.0</td>\n",
       "      <td>1.0</td>\n",
       "      <td>1.0</td>\n",
       "      <td>NaN</td>\n",
       "      <td>1.0</td>\n",
       "      <td>1.0</td>\n",
       "      <td>1.0</td>\n",
       "      <td>...</td>\n",
       "      <td>0.0</td>\n",
       "      <td>0.0</td>\n",
       "      <td>0.0</td>\n",
       "      <td>0.0</td>\n",
       "      <td>0.0</td>\n",
       "      <td>0.0</td>\n",
       "      <td>0.0</td>\n",
       "      <td>0.0</td>\n",
       "      <td>1.0</td>\n",
       "      <td>0.0</td>\n",
       "    </tr>\n",
       "    <tr>\n",
       "      <th>5103959234087</th>\n",
       "      <td>0.0</td>\n",
       "      <td>1</td>\n",
       "      <td>10.0</td>\n",
       "      <td>10.0</td>\n",
       "      <td>10.0</td>\n",
       "      <td>10.0</td>\n",
       "      <td>NaN</td>\n",
       "      <td>8.0</td>\n",
       "      <td>8.0</td>\n",
       "      <td>8.0</td>\n",
       "      <td>...</td>\n",
       "      <td>0.0</td>\n",
       "      <td>0.0</td>\n",
       "      <td>0.0</td>\n",
       "      <td>0.0</td>\n",
       "      <td>0.0</td>\n",
       "      <td>1.0</td>\n",
       "      <td>0.0</td>\n",
       "      <td>0.0</td>\n",
       "      <td>0.0</td>\n",
       "      <td>0.0</td>\n",
       "    </tr>\n",
       "    <tr>\n",
       "      <th>10278554503158</th>\n",
       "      <td>0.0</td>\n",
       "      <td>1</td>\n",
       "      <td>11.0</td>\n",
       "      <td>11.0</td>\n",
       "      <td>11.0</td>\n",
       "      <td>11.0</td>\n",
       "      <td>NaN</td>\n",
       "      <td>8.0</td>\n",
       "      <td>8.0</td>\n",
       "      <td>8.0</td>\n",
       "      <td>...</td>\n",
       "      <td>0.0</td>\n",
       "      <td>0.0</td>\n",
       "      <td>0.0</td>\n",
       "      <td>0.0</td>\n",
       "      <td>0.0</td>\n",
       "      <td>0.0</td>\n",
       "      <td>0.0</td>\n",
       "      <td>1.0</td>\n",
       "      <td>0.0</td>\n",
       "      <td>0.0</td>\n",
       "    </tr>\n",
       "    <tr>\n",
       "      <th>20424342248747</th>\n",
       "      <td>0.0</td>\n",
       "      <td>1</td>\n",
       "      <td>17.0</td>\n",
       "      <td>17.0</td>\n",
       "      <td>17.0</td>\n",
       "      <td>17.0</td>\n",
       "      <td>NaN</td>\n",
       "      <td>13.0</td>\n",
       "      <td>13.0</td>\n",
       "      <td>13.0</td>\n",
       "      <td>...</td>\n",
       "      <td>0.0</td>\n",
       "      <td>0.0</td>\n",
       "      <td>0.0</td>\n",
       "      <td>0.0</td>\n",
       "      <td>0.0</td>\n",
       "      <td>0.0</td>\n",
       "      <td>0.0</td>\n",
       "      <td>0.0</td>\n",
       "      <td>0.0</td>\n",
       "      <td>1.0</td>\n",
       "    </tr>\n",
       "    <tr>\n",
       "      <th>26722803385797</th>\n",
       "      <td>0.0</td>\n",
       "      <td>1</td>\n",
       "      <td>3.0</td>\n",
       "      <td>3.0</td>\n",
       "      <td>3.0</td>\n",
       "      <td>3.0</td>\n",
       "      <td>NaN</td>\n",
       "      <td>2.0</td>\n",
       "      <td>2.0</td>\n",
       "      <td>2.0</td>\n",
       "      <td>...</td>\n",
       "      <td>0.0</td>\n",
       "      <td>0.0</td>\n",
       "      <td>0.0</td>\n",
       "      <td>1.0</td>\n",
       "      <td>0.0</td>\n",
       "      <td>0.0</td>\n",
       "      <td>0.0</td>\n",
       "      <td>0.0</td>\n",
       "      <td>0.0</td>\n",
       "      <td>0.0</td>\n",
       "    </tr>\n",
       "  </tbody>\n",
       "</table>\n",
       "<p>5 rows × 329 columns</p>\n",
       "</div>"
      ],
      "text/plain": [
       "                transactionRevenue  visits  hitsMin  hitsMax  hitsMedian  \\\n",
       "fullVisitorId                                                              \n",
       "4823595352351                  0.0       1      1.0      1.0         1.0   \n",
       "5103959234087                  0.0       1     10.0     10.0        10.0   \n",
       "10278554503158                 0.0       1     11.0     11.0        11.0   \n",
       "20424342248747                 0.0       1     17.0     17.0        17.0   \n",
       "26722803385797                 0.0       1      3.0      3.0         3.0   \n",
       "\n",
       "                hitsMean  hitsStd  pageviewsMin  pageviewsMax  \\\n",
       "fullVisitorId                                                   \n",
       "4823595352351        1.0      NaN           1.0           1.0   \n",
       "5103959234087       10.0      NaN           8.0           8.0   \n",
       "10278554503158      11.0      NaN           8.0           8.0   \n",
       "20424342248747      17.0      NaN          13.0          13.0   \n",
       "26722803385797       3.0      NaN           2.0           2.0   \n",
       "\n",
       "                pageviewsMedian  ...  month_3Mean  month_4Mean  month_5Mean  \\\n",
       "fullVisitorId                    ...                                          \n",
       "4823595352351               1.0  ...          0.0          0.0          0.0   \n",
       "5103959234087               8.0  ...          0.0          0.0          0.0   \n",
       "10278554503158              8.0  ...          0.0          0.0          0.0   \n",
       "20424342248747             13.0  ...          0.0          0.0          0.0   \n",
       "26722803385797              2.0  ...          0.0          0.0          0.0   \n",
       "\n",
       "                month_6Mean  month_7Mean  month_8Mean  month_9Mean  \\\n",
       "fullVisitorId                                                        \n",
       "4823595352351           0.0          0.0          0.0          0.0   \n",
       "5103959234087           0.0          0.0          1.0          0.0   \n",
       "10278554503158          0.0          0.0          0.0          0.0   \n",
       "20424342248747          0.0          0.0          0.0          0.0   \n",
       "26722803385797          1.0          0.0          0.0          0.0   \n",
       "\n",
       "                month_10Mean  month_11Mean  month_12Mean  \n",
       "fullVisitorId                                             \n",
       "4823595352351            0.0           1.0           0.0  \n",
       "5103959234087            0.0           0.0           0.0  \n",
       "10278554503158           1.0           0.0           0.0  \n",
       "20424342248747           0.0           0.0           1.0  \n",
       "26722803385797           0.0           0.0           0.0  \n",
       "\n",
       "[5 rows x 329 columns]"
      ]
     },
     "execution_count": 17,
     "metadata": {},
     "output_type": "execute_result"
    }
   ],
   "source": [
    "### Calculate target\n",
    "X = user_groupby[['transactionRevenue']].agg(TargetFunc)\n",
    "\n",
    "### Create number of visits\n",
    "X['visits'] = user_groupby[['transactionRevenue']].count()\n",
    "\n",
    "### Create statistical measures of numerical columns\n",
    "for col in ['hits','pageviews','time']:\n",
    "    dum = user_groupby[[col]].agg(['min','max','median','mean','std'])\n",
    "    dum.columns = [col+i.capitalize() for i in ['min','max','median','mean','std']]\n",
    "    X = pd.concat([X,dum], axis=1)\n",
    "    del dum\n",
    "\n",
    "    \n",
    "for col in ['countryPopulation','countryGDP','countryLE']:\n",
    "    dum = user_groupby[[col]].agg(['mean','std'])\n",
    "    dum.columns = [col+i.capitalize() for i in ['mean','std']]\n",
    "    X = pd.concat([X,dum], axis=1)\n",
    "    del dum\n",
    "    \n",
    "### calculate mean of boolean columns\n",
    "for col in bool_cols:\n",
    "    dum = user_groupby[[col]].mean()\n",
    "    dum.columns = [col+'Mean']\n",
    "    X = pd.concat([X,dum], axis=1)\n",
    "    del dum\n",
    "\n",
    "### Mean of dummy columns with correct column naming\n",
    "for col in dummy_cols:\n",
    "    for dumi_col in [i for i in train_cols if i.startswith(col)]:\n",
    "        dum = user_groupby[[dumi_col]].mean()\n",
    "        dum.columns = [dumi_col+'Mean']\n",
    "        X = pd.concat([X,dum], axis=1)\n",
    "        del dum\n",
    "    \n",
    "\n",
    "\n",
    "    \n",
    "X.head()"
   ]
  },
  {
   "cell_type": "code",
   "execution_count": 18,
   "metadata": {},
   "outputs": [],
   "source": [
    "x_cols = X.columns"
   ]
  },
  {
   "cell_type": "code",
   "execution_count": 19,
   "metadata": {
    "scrolled": true
   },
   "outputs": [
    {
     "data": {
      "text/plain": [
       "hitsStd                 631804\n",
       "pageviewsStd            631804\n",
       "timeStd                 631804\n",
       "countryPopulationStd    631804\n",
       "countryGDPStd           631804\n",
       "countryLEStd            631804\n",
       "dtype: int64"
      ]
     },
     "execution_count": 19,
     "metadata": {},
     "output_type": "execute_result"
    }
   ],
   "source": [
    "nulls = X.isna().sum().T\n",
    "nulls[nulls>0]"
   ]
  },
  {
   "cell_type": "code",
   "execution_count": 20,
   "metadata": {},
   "outputs": [],
   "source": [
    "X = X.fillna(0)"
   ]
  },
  {
   "cell_type": "code",
   "execution_count": 21,
   "metadata": {},
   "outputs": [],
   "source": [
    "del train"
   ]
  },
  {
   "cell_type": "code",
   "execution_count": 22,
   "metadata": {},
   "outputs": [],
   "source": [
    "y = X.pop('transactionRevenue')"
   ]
  },
  {
   "cell_type": "code",
   "execution_count": 23,
   "metadata": {},
   "outputs": [
    {
     "data": {
      "text/plain": [
       "(722668, 328)"
      ]
     },
     "execution_count": 23,
     "metadata": {},
     "output_type": "execute_result"
    }
   ],
   "source": [
    "X.shape"
   ]
  },
  {
   "cell_type": "code",
   "execution_count": 24,
   "metadata": {},
   "outputs": [],
   "source": [
    "random_seed = 33"
   ]
  },
  {
   "cell_type": "code",
   "execution_count": 25,
   "metadata": {},
   "outputs": [],
   "source": [
    "from sklearn.model_selection import train_test_split\n",
    "X_train, X_test, y_train, y_test = train_test_split(X, y, test_size=0.2, random_state=random_seed)\n",
    "X_val, X_test, y_val, y_test = train_test_split(X_test, y_test, test_size = 0.5, random_state=random_seed)\n"
   ]
  },
  {
   "cell_type": "code",
   "execution_count": 26,
   "metadata": {},
   "outputs": [
    {
     "name": "stdout",
     "output_type": "stream",
     "text": [
      "Train features: (578134, 328)\n",
      "Train target: (578134,)\n",
      "Validation features: (72267, 328)\n",
      "Validation target: (72267,)\n",
      "Test features: (72267, 328)\n",
      "Test target: (72267,)\n"
     ]
    }
   ],
   "source": [
    "print('Train features:', X_train.shape)\n",
    "print('Train target:', y_train.shape)\n",
    "print('Validation features:',X_val.shape)\n",
    "print('Validation target:',y_val.shape)\n",
    "print('Test features:',X_test.shape)\n",
    "print('Test target:',y_test.shape)\n"
   ]
  },
  {
   "cell_type": "code",
   "execution_count": 27,
   "metadata": {},
   "outputs": [],
   "source": [
    "from sklearn.preprocessing import StandardScaler\n",
    "ss = StandardScaler()\n",
    "ss.fit(X_train)\n",
    "X_train, X_test, X_val = ss.transform(X_train), ss.transform(X_test), ss.transform(X_val)\n",
    "\n",
    "\n"
   ]
  },
  {
   "cell_type": "code",
   "execution_count": 28,
   "metadata": {},
   "outputs": [],
   "source": [
    "np.savez('GA_Train', inputs=X_train, targets = y_train)\n",
    "np.savez('GA_Validation', inputs=X_val, targets = y_val)\n",
    "np.savez('GA_Test', inputs=X_test, targets = y_test)"
   ]
  },
  {
   "cell_type": "markdown",
   "metadata": {},
   "source": [
    "Data saved."
   ]
  },
  {
   "cell_type": "code",
   "execution_count": 29,
   "metadata": {},
   "outputs": [
    {
     "name": "stdout",
     "output_type": "stream",
     "text": [
      "Train Frac of purchasers: 0.014142050112949592\n",
      "Validation Frac purchasers: 0.013408609738884969\n",
      "Test Frac purchasers: 0.013740711528083357\n"
     ]
    }
   ],
   "source": [
    "print('Train Frac of purchasers:', np.sum(y_train > 1) / y_train.shape[0])\n",
    "print('Validation Frac purchasers:', np.sum(y_val > 1) / y_val.shape[0])\n",
    "print('Test Frac purchasers:', np.sum(y_test > 1) / y_test.shape[0])"
   ]
  },
  {
   "cell_type": "markdown",
   "metadata": {},
   "source": [
    "## Modelling phase"
   ]
  },
  {
   "cell_type": "markdown",
   "metadata": {},
   "source": [
    "### Linear Regression with Lasso to get a baseline model performance and quick look at feature importance"
   ]
  },
  {
   "cell_type": "code",
   "execution_count": 2,
   "metadata": {},
   "outputs": [],
   "source": [
    "import numpy as np\n",
    "import os \n",
    "\n",
    "os.chdir(r'D:\\Springboard\\Capstone 3 maybe\\Google Analytics')"
   ]
  },
  {
   "cell_type": "code",
   "execution_count": 3,
   "metadata": {},
   "outputs": [],
   "source": [
    "### Loading data\n",
    "train = np.load('GA_Train.npz')\n",
    "valid = np.load('GA_Validation.npz')\n",
    "test = np.load('GA_Test.npz')\n"
   ]
  },
  {
   "cell_type": "code",
   "execution_count": 4,
   "metadata": {},
   "outputs": [
    {
     "data": {
      "text/plain": [
       "Lasso()"
      ]
     },
     "execution_count": 4,
     "metadata": {},
     "output_type": "execute_result"
    }
   ],
   "source": [
    "from sklearn.linear_model import Lasso\n",
    "lass = Lasso()\n",
    "lass.fit(train['inputs'], train['targets'])"
   ]
  },
  {
   "cell_type": "code",
   "execution_count": 5,
   "metadata": {},
   "outputs": [
    {
     "name": "stdout",
     "output_type": "stream",
     "text": [
      "Lasso Regression RMSE:\n",
      "2.052\n"
     ]
    }
   ],
   "source": [
    "from sklearn.metrics import mean_squared_error\n",
    "print('Lasso Regression RMSE:\\n{:.3f}'.format(np.sqrt(mean_squared_error(valid['targets'],lass.predict(valid['inputs'])))))\n"
   ]
  },
  {
   "cell_type": "code",
   "execution_count": 6,
   "metadata": {},
   "outputs": [
    {
     "name": "stdout",
     "output_type": "stream",
     "text": [
      "[ 0.  0.  0.  0.  0.  0.  0.  0.  0.  0.  0. -0.  0.  0.  0.  0.  0.  0.\n",
      "  0.  0.  0.  0. -0. -0. -0. -0.  0. -0.  0. -0. -0.  0.  0. -0. -0. -0.\n",
      " -0.  0. -0. -0.  0.  0. -0.  0.  0. -0. -0. -0.  0. -0. -0. -0. -0. -0.\n",
      " -0. -0. -0.  0.  0.  0. -0. -0. -0. -0.  0. -0. -0. -0. -0. -0. -0. -0.\n",
      " -0. -0. -0. -0. -0. -0.  0. -0. -0. -0. -0. -0. -0. -0. -0. -0. -0. -0.\n",
      " -0.  0. -0.  0.  0.  0. -0. -0.  0.  0. -0.  0. -0. -0.  0.  0.  0. -0.\n",
      " -0. -0.  0.  0.  0.  0. -0.  0.  0.  0.  0. -0. -0. -0.  0.  0.  0.  0.\n",
      "  0.  0. -0.  0. -0.  0. -0.  0.  0.  0. -0. -0. -0.  0.  0.  0. -0. -0.\n",
      " -0.  0.  0.  0. -0.  0.  0. -0.  0. -0.  0.  0.  0. -0.  0. -0.  0. -0.\n",
      "  0. -0.  0.  0.  0.  0. -0.  0.  0. -0.  0.  0.  0.  0.  0. -0. -0.  0.\n",
      "  0. -0.  0. -0.  0.  0.  0.  0.  0.  0.  0.  0.  0.  0.  0.  0.  0. -0.\n",
      " -0.  0.  0. -0. -0.  0. -0.  0. -0.  0. -0. -0.  0.  0.  0. -0. -0. -0.\n",
      "  0. -0.  0. -0. -0. -0. -0.  0.  0.  0. -0. -0.  0. -0. -0.  0.  0.  0.\n",
      " -0. -0. -0.  0.  0.  0.  0.  0. -0.  0.  0.  0.  0.  0. -0. -0. -0. -0.\n",
      "  0.  0.  0.  0.  0. -0.  0. -0. -0. -0.  0. -0.  0.  0. -0.  0. -0. -0.\n",
      " -0.  0. -0. -0. -0.  0.  0.  0.  0.  0.  0.  0. -0. -0. -0.  0.  0. -0.\n",
      " -0.  0.  0.  0.  0.  0. -0.  0.  0.  0.  0. -0.  0.  0.  0. -0. -0. -0.\n",
      "  0. -0. -0. -0.  0. -0.  0.  0.  0. -0. -0. -0. -0.  0.  0.  0.  0.  0.\n",
      " -0. -0. -0.  0.]\n"
     ]
    }
   ],
   "source": [
    "print(lass.coef_)"
   ]
  },
  {
   "cell_type": "markdown",
   "metadata": {},
   "source": [
    "Due to the large number of users who didn't make a purchaes The model predicts nobody will make a purchase.  "
   ]
  },
  {
   "cell_type": "markdown",
   "metadata": {},
   "source": [
    "### Moving on to deep learning with TensorFlow"
   ]
  },
  {
   "cell_type": "code",
   "execution_count": 7,
   "metadata": {},
   "outputs": [],
   "source": [
    "### Declare some variables for modelling \n",
    "\n",
    "input_size = train['inputs'].shape[1]\n",
    "output_size = 1\n",
    "hidden_layer_size = 64\n",
    "batch_size = 200\n",
    "epochs = 50\n"
   ]
  },
  {
   "cell_type": "markdown",
   "metadata": {},
   "source": [
    "Model building"
   ]
  },
  {
   "cell_type": "code",
   "execution_count": 8,
   "metadata": {},
   "outputs": [],
   "source": [
    "import tensorflow as tf"
   ]
  },
  {
   "cell_type": "code",
   "execution_count": 9,
   "metadata": {},
   "outputs": [],
   "source": [
    "model = tf.keras.Sequential()\n",
    "\n",
    "### 3 Dense layers, first 2 with dropout for regularization\n",
    "model.add(tf.keras.layers.Dense(64, activation = 'relu'))\n",
    "model.add(tf.keras.layers.Dropout(0.2))\n",
    "model.add(tf.keras.layers.Dense(hidden_layer_size, activation = 'relu'))\n",
    "model.add(tf.keras.layers.Dropout(0.2))\n",
    "model.add(tf.keras.layers.Dense(hidden_layer_size, activation = 'relu'))\n",
    "model.add(tf.keras.layers.Dense(1))\n",
    "\n",
    "\n",
    "\n",
    "\n",
    "model.compile(optimizer='adam', \n",
    "              loss = tf.keras.losses.MeanSquaredError(), \n",
    "              metrics = [tf.keras.metrics.RootMeanSquaredError(), tf.keras.metrics.MeanAbsoluteError()])"
   ]
  },
  {
   "cell_type": "code",
   "execution_count": 10,
   "metadata": {
    "scrolled": true
   },
   "outputs": [
    {
     "name": "stdout",
     "output_type": "stream",
     "text": [
      "Epoch 1/50\n",
      "2891/2891 - 7s - loss: 3.0723 - root_mean_squared_error: 1.7528 - mean_absolute_error: 0.3838 - val_loss: 2.5932 - val_root_mean_squared_error: 1.6103 - val_mean_absolute_error: 0.3016\n",
      "Epoch 2/50\n",
      "2891/2891 - 5s - loss: 2.8187 - root_mean_squared_error: 1.6789 - mean_absolute_error: 0.3372 - val_loss: 2.5318 - val_root_mean_squared_error: 1.5912 - val_mean_absolute_error: 0.2778\n",
      "Epoch 3/50\n",
      "2891/2891 - 5s - loss: 2.7556 - root_mean_squared_error: 1.6600 - mean_absolute_error: 0.3249 - val_loss: 2.5161 - val_root_mean_squared_error: 1.5862 - val_mean_absolute_error: 0.2990\n",
      "Epoch 4/50\n",
      "2891/2891 - 6s - loss: 2.6946 - root_mean_squared_error: 1.6415 - mean_absolute_error: 0.3162 - val_loss: 2.4790 - val_root_mean_squared_error: 1.5745 - val_mean_absolute_error: 0.2796\n",
      "Epoch 5/50\n",
      "2891/2891 - 5s - loss: 2.6680 - root_mean_squared_error: 1.6334 - mean_absolute_error: 0.3136 - val_loss: 2.4366 - val_root_mean_squared_error: 1.5610 - val_mean_absolute_error: 0.2882\n",
      "Epoch 6/50\n",
      "2891/2891 - 5s - loss: 2.6322 - root_mean_squared_error: 1.6224 - mean_absolute_error: 0.3086 - val_loss: 2.5441 - val_root_mean_squared_error: 1.5950 - val_mean_absolute_error: 0.2795\n",
      "Epoch 7/50\n",
      "2891/2891 - 6s - loss: 2.6188 - root_mean_squared_error: 1.6183 - mean_absolute_error: 0.3085 - val_loss: 2.5191 - val_root_mean_squared_error: 1.5872 - val_mean_absolute_error: 0.2728\n",
      "Epoch 8/50\n",
      "2891/2891 - 5s - loss: 2.5992 - root_mean_squared_error: 1.6122 - mean_absolute_error: 0.3037 - val_loss: 2.4793 - val_root_mean_squared_error: 1.5746 - val_mean_absolute_error: 0.2836\n"
     ]
    }
   ],
   "source": [
    "early_stop = tf.keras.callbacks.EarlyStopping(patience=3)\n",
    "\n",
    "history = model.fit(x=train['inputs'],\n",
    "          y=train['targets'],\n",
    "          batch_size=batch_size,\n",
    "          callbacks=early_stop,\n",
    "          epochs=epochs,\n",
    "          validation_data=(valid['inputs'],valid['targets']),\n",
    "          verbose = 2)"
   ]
  },
  {
   "cell_type": "code",
   "execution_count": 14,
   "metadata": {},
   "outputs": [],
   "source": [
    "import matplotlib.pyplot as plt\n",
    "def PlotLoss(hist):\n",
    "    plt.plot(hist.history['loss'], label='Loss')\n",
    "    plt.plot(history.history['val_loss'], label='ValidLoss')\n",
    "    plt.xlabel('Epochs')\n",
    "    plt.ylabel('RMSE')\n",
    "    plt.legend()\n",
    "    plt.show()\n",
    "    "
   ]
  },
  {
   "cell_type": "code",
   "execution_count": 15,
   "metadata": {},
   "outputs": [
    {
     "data": {
      "image/png": "[encoded data removed]",
      "text/plain": [
       "<Figure size 432x288 with 1 Axes>"
      ]
     },
     "metadata": {
      "needs_background": "light"
     },
     "output_type": "display_data"
    }
   ],
   "source": [
    "PlotLoss(history)"
   ]
  },
  {
   "cell_type": "code",
   "execution_count": 16,
   "metadata": {},
   "outputs": [
    {
     "data": {
      "image/png": "[encoded data removed]",
      "text/plain": [
       "<Figure size 432x288 with 1 Axes>"
      ]
     },
     "metadata": {
      "needs_background": "light"
     },
     "output_type": "display_data"
    }
   ],
   "source": [
    "plt.scatter(valid['targets'],model.predict(valid['inputs']))\n",
    "plt.xlabel('Validation True')\n",
    "plt.ylabel('Validation Predicted')\n",
    "plt.show()\n",
    "            "
   ]
  },
  {
   "cell_type": "markdown",
   "metadata": {},
   "source": [
    "The 3 layer NN does not do a good job of predicting user revenue.  As show before, only about 1% of the users made a purchase, which could be what's causing the poor results.  \n",
    "___\n",
    "## NN Classifier for purchase\n",
    "Now I will try to create a NN model that predicts only whether a purchase was made. If that is succesful it could be an input into the regression model.  \n",
    "\n"
   ]
  },
  {
   "cell_type": "code",
   "execution_count": 25,
   "metadata": {},
   "outputs": [],
   "source": [
    "train_purchase = 1.0 * np.array( [train['targets'] == 0, train['targets']>0] ).T\n",
    "valid_purchase = 1.0 * np.array( [valid['targets'] ==0 , valid['targets'] > 0] ).T\n",
    "test_purchase = 1.0 * np.array( [test['targets'] ==0 , test['targets'] > 0] ).T"
   ]
  },
  {
   "cell_type": "code",
   "execution_count": 18,
   "metadata": {},
   "outputs": [],
   "source": [
    "### \n",
    "input_size = train['inputs'].shape[1]\n",
    "output_size = 2\n",
    "hidden_layer_size = 128\n",
    "batch_size = 500\n",
    "epochs = 50"
   ]
  },
  {
   "cell_type": "code",
   "execution_count": 19,
   "metadata": {},
   "outputs": [],
   "source": [
    "clf_model = tf.keras.Sequential()\n",
    "clf_model.add(tf.keras.layers.Dense(hidden_layer_size,activation='relu'))\n",
    "clf_model.add(tf.keras.layers.Dropout(.2))\n",
    "clf_model.add(tf.keras.layers.Dense(hidden_layer_size,activation='relu'))\n",
    "clf_model.add(tf.keras.layers.Dropout(.2))\n",
    "clf_model.add(tf.keras.layers.Dense(hidden_layer_size,activation='relu'))\n",
    "clf_model.add(tf.keras.layers.Dense(output_size,activation='softmax'))\n",
    "\n",
    "clf_model.compile(optimizer='adam',loss=tf.keras.losses.BinaryCrossentropy(),\n",
    "                 metrics=[tf.keras.metrics.AUC(), tf.keras.metrics.Precision(), tf.keras.metrics.Recall()])\n",
    "\n",
    "\n"
   ]
  },
  {
   "cell_type": "code",
   "execution_count": 20,
   "metadata": {
    "scrolled": true
   },
   "outputs": [
    {
     "name": "stdout",
     "output_type": "stream",
     "text": [
      "Epoch 1/50\n",
      "1157/1157 - 6s - loss: 0.0388 - auc: 0.9975 - precision: 0.9852 - recall: 0.9852 - val_loss: 0.0274 - val_auc: 0.9984 - val_precision: 0.9888 - val_recall: 0.9888\n",
      "Epoch 2/50\n",
      "1157/1157 - 5s - loss: 0.0293 - auc: 0.9983 - precision: 0.9877 - recall: 0.9877 - val_loss: 0.0276 - val_auc: 0.9986 - val_precision: 0.9888 - val_recall: 0.9888\n",
      "Epoch 3/50\n",
      "1157/1157 - 5s - loss: 0.0284 - auc: 0.9984 - precision: 0.9879 - recall: 0.9879 - val_loss: 0.0273 - val_auc: 0.9989 - val_precision: 0.9893 - val_recall: 0.9893\n",
      "Epoch 4/50\n",
      "1157/1157 - 6s - loss: 0.0276 - auc: 0.9985 - precision: 0.9880 - recall: 0.9880 - val_loss: 0.0266 - val_auc: 0.9987 - val_precision: 0.9892 - val_recall: 0.9892\n",
      "Epoch 5/50\n",
      "1157/1157 - 5s - loss: 0.0272 - auc: 0.9986 - precision: 0.9882 - recall: 0.9882 - val_loss: 0.0263 - val_auc: 0.9986 - val_precision: 0.9894 - val_recall: 0.9894\n",
      "Epoch 6/50\n",
      "1157/1157 - 5s - loss: 0.0268 - auc: 0.9987 - precision: 0.9884 - recall: 0.9884 - val_loss: 0.0272 - val_auc: 0.9988 - val_precision: 0.9892 - val_recall: 0.9892\n",
      "Epoch 7/50\n",
      "1157/1157 - 6s - loss: 0.0264 - auc: 0.9987 - precision: 0.9885 - recall: 0.9885 - val_loss: 0.0268 - val_auc: 0.9989 - val_precision: 0.9894 - val_recall: 0.9894\n",
      "Epoch 8/50\n",
      "1157/1157 - 5s - loss: 0.0260 - auc: 0.9988 - precision: 0.9886 - recall: 0.9886 - val_loss: 0.0266 - val_auc: 0.9988 - val_precision: 0.9892 - val_recall: 0.9892\n",
      "Epoch 9/50\n",
      "1157/1157 - 5s - loss: 0.0258 - auc: 0.9988 - precision: 0.9887 - recall: 0.9887 - val_loss: 0.0273 - val_auc: 0.9987 - val_precision: 0.9893 - val_recall: 0.9893\n",
      "Epoch 10/50\n",
      "1157/1157 - 6s - loss: 0.0256 - auc: 0.9988 - precision: 0.9888 - recall: 0.9888 - val_loss: 0.0274 - val_auc: 0.9987 - val_precision: 0.9894 - val_recall: 0.9894\n"
     ]
    }
   ],
   "source": [
    "stop = tf.keras.callbacks.EarlyStopping(patience=5, restore_best_weights=True)\n",
    "\n",
    "history = clf_model.fit(train['inputs'],train_purchase,\n",
    "                        batch_size=batch_size,\n",
    "                        epochs=epochs,\n",
    "                        shuffle=True,\n",
    "                        callbacks=stop,                    \n",
    "                        validation_data=(valid['inputs'],valid_purchase),\n",
    "                        verbose=2\n",
    "                       )                    "
   ]
  },
  {
   "cell_type": "code",
   "execution_count": 21,
   "metadata": {},
   "outputs": [
    {
     "data": {
      "image/png": "[encoded data removed]",
      "text/plain": [
       "<Figure size 432x288 with 1 Axes>"
      ]
     },
     "metadata": {
      "needs_background": "light"
     },
     "output_type": "display_data"
    }
   ],
   "source": [
    "def PlotLoss(hist):\n",
    "    plt.plot(hist.history['loss'], label='Loss')\n",
    "    plt.plot(history.history['val_loss'], label='ValidLoss')\n",
    "    plt.xlabel('Epochs')\n",
    "    plt.ylabel('Binary Entropy')\n",
    "    plt.legend()\n",
    "    plt.show()\n",
    "    \n",
    "PlotLoss(history)"
   ]
  },
  {
   "cell_type": "code",
   "execution_count": 61,
   "metadata": {},
   "outputs": [
    {
     "name": "stdout",
     "output_type": "stream",
     "text": [
      "Train ROC AUC: 1.0\n",
      "Train Recall: 0.8738992172211351\n",
      "Train Precision: 0.39116391109164567\n",
      "\n",
      "Validation ROC AUC: 0.9889708831500433\n",
      "Validation Recall: 0.8617131062951496\n",
      "Validation Precision: 0.36881625441696114\n"
     ]
    }
   ],
   "source": [
    "from sklearn.metrics import recall_score, precision_score, roc_auc_score, confusion_matrix\n",
    "train_predict_proba = clf_model.predict(train['inputs'])[:,1]\n",
    "valid_predict_proba = clf_model.predict(valid['inputs'])[:,1]\n",
    "test_predict_proba = clf_model.predict(test['inputs'])[:,1]\n",
    "\n",
    "train_predicts = 1 * (train_predict_proba > 0.02)\n",
    "valid_predicts = 1 * (valid_predict_proba > 0.02)\n",
    "\n",
    "print('Train ROC AUC:', roc_auc_score(train_predicts ,train_predict_proba ))\n",
    "print('Train Recall:',recall_score(train_purchase[:,1], train_predicts))\n",
    "print('Train Precision:',precision_score(train_purchase[:,1], train_predicts))\n",
    "print()\n",
    "print('Validation ROC AUC:', roc_auc_score(valid_purchase[:,1], valid_predict_proba ))\n",
    "print('Validation Recall:',recall_score(valid_purchase[:,1], valid_predicts))\n",
    "print('Validation Precision:',precision_score(valid_purchase[:,1], valid_predicts))"
   ]
  },
  {
   "cell_type": "code",
   "execution_count": 23,
   "metadata": {},
   "outputs": [
    {
     "data": {
      "image/png": "[encoded data removed]",
      "text/plain": [
       "<Figure size 576x288 with 2 Axes>"
      ]
     },
     "metadata": {
      "needs_background": "light"
     },
     "output_type": "display_data"
    }
   ],
   "source": [
    "from sklearn.metrics import roc_curve, precision_recall_curve\n",
    "fig,ax = plt.subplots(1,2, figsize = (8,4), tight_layout=True)\n",
    "\n",
    "tpr, fpr, thresh = roc_curve(train_purchase[:,1], train_predict_proba)\n",
    "ax[0].plot(tpr,fpr,c='blue')\n",
    "\n",
    "tpr, fpr, thresh = roc_curve(valid_purchase[:,1], valid_predict_proba)\n",
    "ax[0].plot(tpr,fpr,c='red')\n",
    "\n",
    "ax[0].set_title('Receiver Operating curve')\n",
    "ax[0].set_xlabel('True Positive Rate')\n",
    "ax[0].set_ylabel('False Positive Rate')\n",
    "ax[0].legend(labels=['Train','Validation'],loc='lower right')\n",
    "\n",
    "p,r,t = precision_recall_curve(train_purchase[:,1], train_predict_proba)\n",
    "ax[1].plot(r,p,c='blue')\n",
    "p,r,t = precision_recall_curve(valid_purchase[:,1], valid_predict_proba)\n",
    "ax[1].plot(r,p,c='red')\n",
    "ax[1].set_xlabel('Recall')\n",
    "ax[1].set_ylabel('Precision')\n",
    "ax[1].set_title('Precision - Recall Curve')\n",
    "ax[1].legend(labels=['Train','Validation'])\n",
    "plt.show()\n",
    "\n"
   ]
  },
  {
   "cell_type": "markdown",
   "metadata": {},
   "source": [
    "These features are pretty good at predicting if there was a purchase, but I didn't take the final pre-processing steps that I normally would for a classification problem.  Quick check on the test set."
   ]
  },
  {
   "cell_type": "code",
   "execution_count": 26,
   "metadata": {},
   "outputs": [
    {
     "name": "stdout",
     "output_type": "stream",
     "text": [
      "Test ROC AUC: 0.9886618711370763\n"
     ]
    }
   ],
   "source": [
    "print('Test ROC AUC:', roc_auc_score(test_purchase[:,1], test_predict_proba ))"
   ]
  },
  {
   "cell_type": "markdown",
   "metadata": {},
   "source": [
    "## Using classifier prediction in regression model\n",
    "Now how to use the predicted purchase in a regression model.  Is there a way to combine the classification and regression models into one? A model inside a model? For now I will concatenate the classification predicted probabilities to the inputs of the data sets, an create a new regression NN."
   ]
  },
  {
   "cell_type": "code",
   "execution_count": 27,
   "metadata": {},
   "outputs": [
    {
     "data": {
      "text/plain": [
       "(578134, 328)"
      ]
     },
     "execution_count": 27,
     "metadata": {},
     "output_type": "execute_result"
    }
   ],
   "source": [
    "train['inputs'].shape"
   ]
  },
  {
   "cell_type": "code",
   "execution_count": 28,
   "metadata": {},
   "outputs": [
    {
     "name": "stdout",
     "output_type": "stream",
     "text": [
      "(578134, 329)\n"
     ]
    }
   ],
   "source": [
    "X_train = np.hstack([train['inputs'],train_predict_proba.reshape(-1,1)])\n",
    "\n",
    "X_valid = np.hstack([valid['inputs'],valid_predict_proba.reshape(-1,1)])\n",
    "\n",
    "X_test = np.hstack([test['inputs'],test_predict_proba.reshape(-1,1)])\n",
    "print(X_train.shape)"
   ]
  },
  {
   "cell_type": "markdown",
   "metadata": {},
   "source": [
    "Now going back to a tf regression modelling"
   ]
  },
  {
   "cell_type": "code",
   "execution_count": 29,
   "metadata": {},
   "outputs": [],
   "source": [
    "input_size = X_train.shape[1]\n",
    "output_size = 1\n",
    "hidden_layer_size = 128\n",
    "batch_size = 500\n",
    "epochs = 50\n"
   ]
  },
  {
   "cell_type": "code",
   "execution_count": 30,
   "metadata": {},
   "outputs": [],
   "source": [
    "model = tf.keras.Sequential()\n",
    "\n",
    "### 3 Dense layers, first 2 with dropout for regularization\n",
    "model.add(tf.keras.layers.Dense(hidden_layer_size, activation = 'relu'))\n",
    "model.add(tf.keras.layers.Dropout(0.2))\n",
    "model.add(tf.keras.layers.Dense(hidden_layer_size, activation = 'relu'))\n",
    "model.add(tf.keras.layers.Dropout(0.2))\n",
    "model.add(tf.keras.layers.Dense(hidden_layer_size, activation = 'relu'))\n",
    "model.add(tf.keras.layers.Dense(1))\n",
    "\n",
    "\n",
    "\n",
    "\n",
    "model.compile(optimizer='adam', \n",
    "              loss = tf.keras.losses.MeanSquaredError(), \n",
    "              metrics = [tf.keras.metrics.RootMeanSquaredError(), tf.keras.metrics.MeanAbsoluteError()])"
   ]
  },
  {
   "cell_type": "code",
   "execution_count": 31,
   "metadata": {},
   "outputs": [
    {
     "name": "stdout",
     "output_type": "stream",
     "text": [
      "Epoch 1/50\n",
      "1157/1157 - 3s - loss: 2.9918 - root_mean_squared_error: 1.7297 - mean_absolute_error: 0.3949 - val_loss: 2.4732 - val_root_mean_squared_error: 1.5726 - val_mean_absolute_error: 0.2957\n",
      "Epoch 2/50\n",
      "1157/1157 - 3s - loss: 2.7194 - root_mean_squared_error: 1.6490 - mean_absolute_error: 0.3300 - val_loss: 2.4178 - val_root_mean_squared_error: 1.5549 - val_mean_absolute_error: 0.2794\n",
      "Epoch 3/50\n",
      "1157/1157 - 4s - loss: 2.6506 - root_mean_squared_error: 1.6281 - mean_absolute_error: 0.3159 - val_loss: 2.4402 - val_root_mean_squared_error: 1.5621 - val_mean_absolute_error: 0.2815\n",
      "Epoch 4/50\n",
      "1157/1157 - 5s - loss: 2.5999 - root_mean_squared_error: 1.6124 - mean_absolute_error: 0.3023 - val_loss: 2.4699 - val_root_mean_squared_error: 1.5716 - val_mean_absolute_error: 0.2717\n",
      "Epoch 5/50\n",
      "1157/1157 - 4s - loss: 2.5885 - root_mean_squared_error: 1.6089 - mean_absolute_error: 0.2993 - val_loss: 2.5028 - val_root_mean_squared_error: 1.5820 - val_mean_absolute_error: 0.2749\n",
      "Epoch 6/50\n",
      "1157/1157 - 4s - loss: 2.5535 - root_mean_squared_error: 1.5980 - mean_absolute_error: 0.2927 - val_loss: 2.3913 - val_root_mean_squared_error: 1.5464 - val_mean_absolute_error: 0.2777\n",
      "Epoch 7/50\n",
      "1157/1157 - 5s - loss: 2.5366 - root_mean_squared_error: 1.5927 - mean_absolute_error: 0.2906 - val_loss: 2.3797 - val_root_mean_squared_error: 1.5426 - val_mean_absolute_error: 0.2666\n",
      "Epoch 8/50\n",
      "1157/1157 - 4s - loss: 2.5192 - root_mean_squared_error: 1.5872 - mean_absolute_error: 0.2861 - val_loss: 2.4567 - val_root_mean_squared_error: 1.5674 - val_mean_absolute_error: 0.2554\n",
      "Epoch 9/50\n",
      "1157/1157 - 5s - loss: 2.4867 - root_mean_squared_error: 1.5769 - mean_absolute_error: 0.2825 - val_loss: 2.4533 - val_root_mean_squared_error: 1.5663 - val_mean_absolute_error: 0.2683\n",
      "Epoch 10/50\n",
      "1157/1157 - 4s - loss: 2.4639 - root_mean_squared_error: 1.5697 - mean_absolute_error: 0.2814 - val_loss: 2.4225 - val_root_mean_squared_error: 1.5564 - val_mean_absolute_error: 0.2585\n",
      "Epoch 11/50\n",
      "1157/1157 - 5s - loss: 2.4485 - root_mean_squared_error: 1.5648 - mean_absolute_error: 0.2797 - val_loss: 2.4391 - val_root_mean_squared_error: 1.5617 - val_mean_absolute_error: 0.2784\n",
      "Epoch 12/50\n",
      "1157/1157 - 4s - loss: 2.4412 - root_mean_squared_error: 1.5624 - mean_absolute_error: 0.2782 - val_loss: 2.4351 - val_root_mean_squared_error: 1.5605 - val_mean_absolute_error: 0.2787\n"
     ]
    }
   ],
   "source": [
    "early_stop = tf.keras.callbacks.EarlyStopping(patience=5, restore_best_weights=True)\n",
    "\n",
    "history = model.fit(x=X_train,\n",
    "          y=train['targets'],\n",
    "          batch_size=batch_size,\n",
    "          callbacks=early_stop,\n",
    "          epochs=epochs,\n",
    "          validation_data=(X_valid,valid['targets']),\n",
    "          verbose = 2)"
   ]
  },
  {
   "cell_type": "code",
   "execution_count": 32,
   "metadata": {},
   "outputs": [
    {
     "data": {
      "image/png": "[encoded data removed]",
      "text/plain": [
       "<Figure size 432x288 with 1 Axes>"
      ]
     },
     "metadata": {
      "needs_background": "light"
     },
     "output_type": "display_data"
    }
   ],
   "source": [
    "def PlotLoss(hist):\n",
    "    plt.plot(hist.history['loss'], label='Loss')\n",
    "    plt.plot(history.history['val_loss'], label='ValidLoss')\n",
    "    plt.xlabel('Epochs')\n",
    "    plt.ylabel('RMSE')\n",
    "    plt.legend()\n",
    "    plt.show()\n",
    "    \n",
    "PlotLoss(history)"
   ]
  },
  {
   "cell_type": "code",
   "execution_count": 33,
   "metadata": {},
   "outputs": [
    {
     "data": {
      "image/png": "[encoded data removed]",
      "text/plain": [
       "<Figure size 432x288 with 1 Axes>"
      ]
     },
     "metadata": {
      "needs_background": "light"
     },
     "output_type": "display_data"
    }
   ],
   "source": [
    "plt.scatter(valid['targets'],model.predict(X_valid))\n",
    "plt.xlabel('Validation True')\n",
    "plt.ylabel('Validation Predicted')\n",
    "plt.show()"
   ]
  },
  {
   "cell_type": "markdown",
   "metadata": {},
   "source": [
    "Using the classification probability prediction of purchase as an input into the regression NN resulted in a slight performance increase as seen in the lower RMSE.  I'll try again by using a threshold to transform the predicted probability into a prediction of purchase."
   ]
  },
  {
   "cell_type": "code",
   "execution_count": 65,
   "metadata": {},
   "outputs": [
    {
     "name": "stdout",
     "output_type": "stream",
     "text": [
      "(578134, 329)\n"
     ]
    }
   ],
   "source": [
    "### Using a threshold of 0.02 becuase of the large class imbalance and I saw that threshold \n",
    "### resulted in a high recall value with the classifer\n",
    "X_train = np.hstack([train['inputs'], (1. * (train_predict_proba>.02)).reshape(-1,1) ])\n",
    "\n",
    "X_valid = np.hstack([valid['inputs'], (1. * (valid_predict_proba>.02)).reshape(-1,1)])\n",
    "\n",
    "X_test = np.hstack([test['inputs'], (1. * (test_predict_proba>.02)).reshape(-1,1)])\n",
    "print(X_train.shape)"
   ]
  },
  {
   "cell_type": "code",
   "execution_count": 66,
   "metadata": {},
   "outputs": [],
   "source": [
    "input_size = X_train.shape[1]\n",
    "output_size = 1\n",
    "hidden_layer_size = 128\n",
    "batch_size = 500\n",
    "epochs = 50"
   ]
  },
  {
   "cell_type": "code",
   "execution_count": 67,
   "metadata": {},
   "outputs": [],
   "source": [
    "model = tf.keras.Sequential()\n",
    "\n",
    "### 3 Dense layers, first 2 with dropout for regularization\n",
    "model.add(tf.keras.layers.Dense(hidden_layer_size, activation = 'relu'))\n",
    "model.add(tf.keras.layers.Dropout(0.2))\n",
    "model.add(tf.keras.layers.Dense(hidden_layer_size, activation = 'relu'))\n",
    "model.add(tf.keras.layers.Dropout(0.2))\n",
    "model.add(tf.keras.layers.Dense(hidden_layer_size, activation = 'relu'))\n",
    "model.add(tf.keras.layers.Dense(1))\n",
    "\n",
    "\n",
    "\n",
    "\n",
    "model.compile(optimizer='adam', \n",
    "              loss = tf.keras.losses.MeanSquaredError(), \n",
    "              metrics = [tf.keras.metrics.RootMeanSquaredError(), tf.keras.metrics.MeanAbsoluteError()])"
   ]
  },
  {
   "cell_type": "code",
   "execution_count": 68,
   "metadata": {
    "scrolled": true
   },
   "outputs": [
    {
     "name": "stdout",
     "output_type": "stream",
     "text": [
      "Epoch 1/50\n",
      "1157/1157 - 3s - loss: 2.9833 - root_mean_squared_error: 1.7272 - mean_absolute_error: 0.4003 - val_loss: 2.5614 - val_root_mean_squared_error: 1.6004 - val_mean_absolute_error: 0.3003\n",
      "Epoch 2/50\n",
      "1157/1157 - 3s - loss: 2.7589 - root_mean_squared_error: 1.6610 - mean_absolute_error: 0.3330 - val_loss: 2.5130 - val_root_mean_squared_error: 1.5853 - val_mean_absolute_error: 0.3003\n",
      "Epoch 3/50\n",
      "1157/1157 - 4s - loss: 2.6850 - root_mean_squared_error: 1.6386 - mean_absolute_error: 0.3205 - val_loss: 2.4588 - val_root_mean_squared_error: 1.5681 - val_mean_absolute_error: 0.2887\n",
      "Epoch 4/50\n",
      "1157/1157 - 4s - loss: 2.6575 - root_mean_squared_error: 1.6302 - mean_absolute_error: 0.3149 - val_loss: 2.4991 - val_root_mean_squared_error: 1.5809 - val_mean_absolute_error: 0.2900\n",
      "Epoch 5/50\n",
      "1157/1157 - 4s - loss: 2.6009 - root_mean_squared_error: 1.6127 - mean_absolute_error: 0.3072 - val_loss: 2.4398 - val_root_mean_squared_error: 1.5620 - val_mean_absolute_error: 0.2894\n",
      "Epoch 6/50\n",
      "1157/1157 - 5s - loss: 2.5859 - root_mean_squared_error: 1.6081 - mean_absolute_error: 0.3043 - val_loss: 2.4629 - val_root_mean_squared_error: 1.5694 - val_mean_absolute_error: 0.2827\n",
      "Epoch 7/50\n",
      "1157/1157 - 4s - loss: 2.5728 - root_mean_squared_error: 1.6040 - mean_absolute_error: 0.3058 - val_loss: 2.4327 - val_root_mean_squared_error: 1.5597 - val_mean_absolute_error: 0.2916\n",
      "Epoch 8/50\n",
      "1157/1157 - 4s - loss: 2.5487 - root_mean_squared_error: 1.5965 - mean_absolute_error: 0.2992 - val_loss: 2.4438 - val_root_mean_squared_error: 1.5633 - val_mean_absolute_error: 0.2857\n",
      "Epoch 9/50\n",
      "1157/1157 - 5s - loss: 2.5268 - root_mean_squared_error: 1.5896 - mean_absolute_error: 0.2963 - val_loss: 2.4530 - val_root_mean_squared_error: 1.5662 - val_mean_absolute_error: 0.2690\n",
      "Epoch 10/50\n",
      "1157/1157 - 4s - loss: 2.4875 - root_mean_squared_error: 1.5772 - mean_absolute_error: 0.2947 - val_loss: 2.4595 - val_root_mean_squared_error: 1.5683 - val_mean_absolute_error: 0.2767\n",
      "Epoch 11/50\n",
      "1157/1157 - 4s - loss: 2.4771 - root_mean_squared_error: 1.5739 - mean_absolute_error: 0.2922 - val_loss: 2.4759 - val_root_mean_squared_error: 1.5735 - val_mean_absolute_error: 0.2745\n",
      "Epoch 12/50\n",
      "1157/1157 - 4s - loss: 2.4450 - root_mean_squared_error: 1.5637 - mean_absolute_error: 0.2876 - val_loss: 2.4315 - val_root_mean_squared_error: 1.5593 - val_mean_absolute_error: 0.2888\n",
      "Epoch 13/50\n",
      "1157/1157 - 5s - loss: 2.4360 - root_mean_squared_error: 1.5608 - mean_absolute_error: 0.2881 - val_loss: 2.4690 - val_root_mean_squared_error: 1.5713 - val_mean_absolute_error: 0.2772\n",
      "Epoch 14/50\n",
      "1157/1157 - 4s - loss: 2.4278 - root_mean_squared_error: 1.5581 - mean_absolute_error: 0.2880 - val_loss: 2.4679 - val_root_mean_squared_error: 1.5709 - val_mean_absolute_error: 0.2710\n",
      "Epoch 15/50\n",
      "1157/1157 - 4s - loss: 2.4011 - root_mean_squared_error: 1.5496 - mean_absolute_error: 0.2874 - val_loss: 2.5201 - val_root_mean_squared_error: 1.5875 - val_mean_absolute_error: 0.2704\n",
      "Epoch 16/50\n",
      "1157/1157 - 4s - loss: 2.3894 - root_mean_squared_error: 1.5458 - mean_absolute_error: 0.2860 - val_loss: 2.5191 - val_root_mean_squared_error: 1.5872 - val_mean_absolute_error: 0.2640\n",
      "Epoch 17/50\n",
      "1157/1157 - 5s - loss: 2.3658 - root_mean_squared_error: 1.5381 - mean_absolute_error: 0.2806 - val_loss: 2.5369 - val_root_mean_squared_error: 1.5928 - val_mean_absolute_error: 0.2744\n"
     ]
    }
   ],
   "source": [
    "early_stop = tf.keras.callbacks.EarlyStopping(patience=5, restore_best_weights=True)\n",
    "\n",
    "history = model.fit(x=X_train,\n",
    "          y=train['targets'],\n",
    "          batch_size=batch_size,\n",
    "          callbacks=early_stop,\n",
    "          epochs=epochs,\n",
    "          validation_data=(X_valid,valid['targets']),\n",
    "          verbose = 2)"
   ]
  },
  {
   "cell_type": "code",
   "execution_count": 70,
   "metadata": {},
   "outputs": [
    {
     "data": {
      "image/png": "[encoded data removed]",
      "text/plain": [
       "<Figure size 432x288 with 1 Axes>"
      ]
     },
     "metadata": {
      "needs_background": "light"
     },
     "output_type": "display_data"
    },
    {
     "data": {
      "image/png": "[encoded data removed]",
      "text/plain": [
       "<Figure size 432x288 with 1 Axes>"
      ]
     },
     "metadata": {
      "needs_background": "light"
     },
     "output_type": "display_data"
    }
   ],
   "source": [
    "PlotLoss(history)\n",
    "\n",
    "plt.scatter(valid['targets'],model.predict(X_valid), c=valid_predict_proba)\n",
    "plt.xlabel('Validation True')\n",
    "plt.ylabel('Validation Predicted')\n",
    "plt.show()"
   ]
  },
  {
   "cell_type": "markdown",
   "metadata": {},
   "source": [
    "The result is worse than when using the predicted probability.  \n",
    "___\n",
    "### Undersampling the non-purchasers\n",
    "Now I will try under-sampling the training set, keeping all of the purchasers and a random sampling of the not purchasers"
   ]
  },
  {
   "cell_type": "code",
   "execution_count": 143,
   "metadata": {},
   "outputs": [],
   "source": [
    "import pandas as pd\n",
    "df = pd.DataFrame(np.hstack([train['inputs'],train['targets'].reshape(-1,1)]))\n",
    "mask = df.iloc[:,-1]>0\n",
    "p = df[mask]\n",
    "notp = df[~mask]\n",
    "\n"
   ]
  },
  {
   "cell_type": "code",
   "execution_count": 144,
   "metadata": {},
   "outputs": [
    {
     "data": {
      "text/plain": [
       "(8176, 329)"
      ]
     },
     "execution_count": 144,
     "metadata": {},
     "output_type": "execute_result"
    }
   ],
   "source": [
    "p.shape"
   ]
  },
  {
   "cell_type": "code",
   "execution_count": 145,
   "metadata": {},
   "outputs": [],
   "source": [
    "### Desired percentage of purchasers in training set\n",
    "perc_purchases = 10"
   ]
  },
  {
   "cell_type": "code",
   "execution_count": 147,
   "metadata": {},
   "outputs": [
    {
     "name": "stdout",
     "output_type": "stream",
     "text": [
      "Dropped 496374 non-purchase records\n",
      "Purchasers now 10.0% of training set\n"
     ]
    }
   ],
   "source": [
    "notp_sub = notp.sample(n=p.shape[0] * (100-perc_purchases)//10, axis=0)\n",
    "\n",
    "print(f'Dropped {notp.shape[0]-notp_sub.shape[0]} non-purchase records')\n",
    "print(f'Purchasers now {100*p.shape[0]/(p.shape[0]+notp_sub.shape[0])}% of training set')\n",
    "\n",
    "dumi = pd.concat([p,notp_sub], axis=0)\n",
    "\n",
    "y_train = dumi.iloc[:,-1].to_numpy()\n",
    "X_train = dumi.iloc[:,:-1].to_numpy()\n",
    "\n",
    "del df, dumi, mask, p, notp, notp_sub"
   ]
  },
  {
   "cell_type": "markdown",
   "metadata": {},
   "source": [
    "Now the training data is made up of 50% purchasers and 50% not purchasers. Before it was about 1%.  Attempting new regression modelling.  "
   ]
  },
  {
   "cell_type": "code",
   "execution_count": 148,
   "metadata": {},
   "outputs": [],
   "source": [
    "input_size = X_train.shape[1]\n",
    "output_size = 1\n",
    "hidden_layer_size = 128\n",
    "batch_size = 200\n",
    "epochs = 100\n"
   ]
  },
  {
   "cell_type": "code",
   "execution_count": 149,
   "metadata": {},
   "outputs": [],
   "source": [
    "model = tf.keras.Sequential()\n",
    "\n",
    "### 3 Dense layers, first 2 with dropout for regularization\n",
    "model.add(tf.keras.layers.Dense(hidden_layer_size, activation = 'relu'))\n",
    "model.add(tf.keras.layers.Dropout(0.2))\n",
    "model.add(tf.keras.layers.Dense(hidden_layer_size, activation = 'relu'))\n",
    "model.add(tf.keras.layers.Dropout(0.2))\n",
    "model.add(tf.keras.layers.Dense(hidden_layer_size, activation = 'relu'))\n",
    "model.add(tf.keras.layers.Dense(1))\n",
    "\n",
    "\n",
    "\n",
    "\n",
    "model.compile(optimizer='adam', \n",
    "              loss = tf.keras.losses.MeanSquaredError(), \n",
    "              metrics = [tf.keras.metrics.RootMeanSquaredError(), tf.keras.metrics.MeanAbsoluteError()])"
   ]
  },
  {
   "cell_type": "code",
   "execution_count": 150,
   "metadata": {
    "scrolled": true
   },
   "outputs": [
    {
     "name": "stdout",
     "output_type": "stream",
     "text": [
      "Epoch 1/100\n",
      "409/409 - 1s - loss: 11.8030 - root_mean_squared_error: 3.4355 - mean_absolute_error: 1.5044 - val_loss: 4.7226 - val_root_mean_squared_error: 2.1732 - val_mean_absolute_error: 0.6030\n",
      "Epoch 2/100\n",
      "409/409 - 1s - loss: 8.8827 - root_mean_squared_error: 2.9804 - mean_absolute_error: 1.1250 - val_loss: 4.7112 - val_root_mean_squared_error: 2.1705 - val_mean_absolute_error: 0.6128\n",
      "Epoch 3/100\n",
      "409/409 - 1s - loss: 8.3418 - root_mean_squared_error: 2.8882 - mean_absolute_error: 1.0397 - val_loss: 5.7353 - val_root_mean_squared_error: 2.3948 - val_mean_absolute_error: 0.5898\n",
      "Epoch 4/100\n",
      "409/409 - 1s - loss: 8.0854 - root_mean_squared_error: 2.8435 - mean_absolute_error: 1.0072 - val_loss: 4.3643 - val_root_mean_squared_error: 2.0891 - val_mean_absolute_error: 0.5429\n",
      "Epoch 5/100\n",
      "409/409 - 1s - loss: 7.8844 - root_mean_squared_error: 2.8079 - mean_absolute_error: 0.9800 - val_loss: 4.8509 - val_root_mean_squared_error: 2.2025 - val_mean_absolute_error: 0.5295\n",
      "Epoch 6/100\n",
      "409/409 - 1s - loss: 7.6351 - root_mean_squared_error: 2.7632 - mean_absolute_error: 0.9403 - val_loss: 4.4506 - val_root_mean_squared_error: 2.1096 - val_mean_absolute_error: 0.5481\n",
      "Epoch 7/100\n",
      "409/409 - 1s - loss: 7.4381 - root_mean_squared_error: 2.7273 - mean_absolute_error: 0.9250 - val_loss: 4.5246 - val_root_mean_squared_error: 2.1271 - val_mean_absolute_error: 0.5018\n",
      "Epoch 8/100\n",
      "409/409 - 1s - loss: 7.4134 - root_mean_squared_error: 2.7228 - mean_absolute_error: 0.9164 - val_loss: 3.8271 - val_root_mean_squared_error: 1.9563 - val_mean_absolute_error: 0.4596\n",
      "Epoch 9/100\n",
      "409/409 - 1s - loss: 7.2799 - root_mean_squared_error: 2.6981 - mean_absolute_error: 0.8990 - val_loss: 4.7426 - val_root_mean_squared_error: 2.1778 - val_mean_absolute_error: 0.4898\n",
      "Epoch 10/100\n",
      "409/409 - 1s - loss: 7.1351 - root_mean_squared_error: 2.6712 - mean_absolute_error: 0.8855 - val_loss: 3.4791 - val_root_mean_squared_error: 1.8652 - val_mean_absolute_error: 0.4375\n",
      "Epoch 11/100\n",
      "409/409 - 1s - loss: 6.9486 - root_mean_squared_error: 2.6360 - mean_absolute_error: 0.8684 - val_loss: 4.8924 - val_root_mean_squared_error: 2.2119 - val_mean_absolute_error: 0.5147\n",
      "Epoch 12/100\n",
      "409/409 - 1s - loss: 6.9252 - root_mean_squared_error: 2.6316 - mean_absolute_error: 0.8707 - val_loss: 5.0846 - val_root_mean_squared_error: 2.2549 - val_mean_absolute_error: 0.5224\n",
      "Epoch 13/100\n",
      "409/409 - 1s - loss: 6.7903 - root_mean_squared_error: 2.6058 - mean_absolute_error: 0.8575 - val_loss: 4.1118 - val_root_mean_squared_error: 2.0277 - val_mean_absolute_error: 0.4476\n",
      "Epoch 14/100\n",
      "409/409 - 1s - loss: 6.6554 - root_mean_squared_error: 2.5798 - mean_absolute_error: 0.8292 - val_loss: 3.8351 - val_root_mean_squared_error: 1.9583 - val_mean_absolute_error: 0.4571\n",
      "Epoch 15/100\n",
      "409/409 - 1s - loss: 6.6679 - root_mean_squared_error: 2.5822 - mean_absolute_error: 0.8334 - val_loss: 4.3347 - val_root_mean_squared_error: 2.0820 - val_mean_absolute_error: 0.4985\n"
     ]
    }
   ],
   "source": [
    "early_stop = tf.keras.callbacks.EarlyStopping(patience=5, restore_best_weights=True)\n",
    "\n",
    "history = model.fit(x=X_train,\n",
    "          y=y_train,\n",
    "          batch_size=batch_size,\n",
    "          callbacks=early_stop,\n",
    "          epochs=epochs,\n",
    "          validation_data=(valid['inputs'], valid['targets']),\n",
    "          verbose = 2)"
   ]
  },
  {
   "cell_type": "code",
   "execution_count": 151,
   "metadata": {},
   "outputs": [
    {
     "data": {
      "image/png": "[encoded data removed]",
      "text/plain": [
       "<Figure size 432x288 with 1 Axes>"
      ]
     },
     "metadata": {
      "needs_background": "light"
     },
     "output_type": "display_data"
    },
    {
     "data": {
      "image/png": "[encoded data removed]",
      "text/plain": [
       "<Figure size 432x288 with 1 Axes>"
      ]
     },
     "metadata": {
      "needs_background": "light"
     },
     "output_type": "display_data"
    }
   ],
   "source": [
    "PlotLoss(history)\n",
    "\n",
    "plt.scatter(valid['targets'],model.predict(valid['inputs']), c=valid_predict_proba)\n",
    "plt.xlabel('Validation True')\n",
    "plt.ylabel('Validation Predicted')\n",
    "plt.show()"
   ]
  },
  {
   "cell_type": "markdown",
   "metadata": {},
   "source": [
    "Above I tried undersampling from 50-50 to 90-10 non-purchasers to purchasers, but all of the results are worse than before.  I am beginning to think my feature engineering and pre-processing are bad.  "
   ]
  },
  {
   "cell_type": "code",
   "execution_count": null,
   "metadata": {},
   "outputs": [],
   "source": []
  }
 ],
 "metadata": {
  "kernelspec": {
   "display_name": "Python [conda env:root] *",
   "language": "python",
   "name": "conda-root-py"
  },
  "language_info": {
   "codemirror_mode": {
    "name": "ipython",
    "version": 3
   },
   "file_extension": ".py",
   "mimetype": "text/x-python",
   "name": "python",
   "nbconvert_exporter": "python",
   "pygments_lexer": "ipython3",
   "version": "3.7.10"
  }
 },
 "nbformat": 4,
 "nbformat_minor": 4
}
